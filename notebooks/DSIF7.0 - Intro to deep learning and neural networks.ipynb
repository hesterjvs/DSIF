{
 "cells": [
  {
   "cell_type": "markdown",
   "metadata": {
    "id": "DH1XQ07F5Bx8"
   },
   "source": [
    "# Introduction\n",
    "\n",
    "Welcome to our class on deep learning and neural networks.\n",
    "In this session, we will introduce basic concepts of neural networks, key parameters and concepts in deep learning, and how these models are used in financial tasks like creditworthiness prediction.\n",
    "\n",
    "## Agenda:\n",
    "1. Useful concepts\n",
    "2. Data preprocessing\n",
    "3. Building a neural network model\n",
    "4. Assignment overview\n"
   ]
  },
  {
   "cell_type": "markdown",
   "metadata": {
    "id": "h8AUO6PKRBCm"
   },
   "source": [
    "\n",
    "\n",
    "# 1. Useful concepts\n",
    "An **activation function** determines the output of a neuron given an input or set of inputs. They introduce non-linearity into the network, allowing it to learn from errors and improve.\n",
    "\n",
    "**Common activation functions:**\n",
    "| **Activation Function**    | **Description**                                                                                       |\n",
    "|----------------------------|-------------------------------------------------------------------------------------------------------|\n",
    "| **Linear**                 | Not so useful for deep learning; can't perform backpropagation, essential for training multi-layer networks. |\n",
    "| **Binary**                 | On/off activation; limited for complex classification; vertical slopes hinder calculus, ineffective for modern networks. |\n",
    "| **Non-linear** (key to DL) | Essential for complex mappings, backpropagation, and multiple layers. Examples below.  |\n",
    "\n",
    "\n",
    "**Common NON LINEAR activation functions:**\n",
    "| **Activation Function**    | **Description**                                                                                       |\n",
    "|----------------------------|-------------------------------------------------------------------------------------------------------|\n",
    "| **Sigmoid (Logistic)**      | Scales outputs between 0 and 1; common for binary classification but suffers from vanishing gradients. |\n",
    "| **Tanh (Hyperbolic)**       | Scales between -1 and +1; better for RNNs, but faces vanishing gradient issues and is computationally expensive. |\n",
    "| **ReLU**                    | Popular for simplicity and speed; becomes linear when <= 0, limiting learning.                        |\n",
    "| **Leaky ReLU**              | Introduces a negative slope for values below 0, solving the zeroing-out problem.                      |\n",
    "| **Parametric ReLU (PReLU)** | Similar to Leaky ReLU, but slope is learned via backpropagation; computationally intensive.            |\n",
    "| **Other ReLU Variants**     | Includes ELU (Exponential), Google’s Swish (deep networks), Maxout (powerful but impractical).         |\n",
    "| **Softmax**                 | Converts outputs to probabilities; used for single-label classification; Sigmoid handles multi-label tasks. |\n",
    "\n",
    "\n",
    "**Loss function:** Measures the difference between the predicted output and the actual target. The goal is to minimize this loss during training.\n",
    "  - Example: Mean Squared Error (MSE), Cross-Entropy Loss.\n",
    "  \n",
    "**Optimization algorithms:** Methods used to minimize the loss function by adjusting the network's weights.\n",
    "  - **Gradient Descent:** The most common optimization algorithm, which updates the model's parameters by computing the gradient of the loss function.\n",
    "  - **Adam** is a popular stochastic gradient descent method that is computationally efficient, has little memory requirement and is well suited for problems that are large in terms of data/parameters.\n",
    "  - **Learning Rate:** A hyperparameter that controls how much the model's parameters are adjusted with each step of the optimization.\n",
    "\n",
    "**Number of layers and neurons:** More layers and neurons can capture more complex patterns but may lead to overfitting if not managed properly.\n",
    "\n",
    "**Regularization:** Techniques like dropout or L2 regularization help prevent overfitting by adding constraints to the model.\n",
    "\n",
    "---\n",
    "\n",
    "## Popular Python Frameworks for Neural Networks\n",
    "\n",
    "### Overview of Popular Frameworks\n",
    "- **TensorFlow and Keras:** Developed by Google, Keras is a high-level API that runs on top of TensorFlow. It's user-friendly and great for beginners.\n",
    "- **PyTorch:** Developed by Facebook, PyTorch is popular in academia for its flexibility and ease of debugging.\n",
    "\n",
    "**For This Course:**  \n",
    "We’ll focus on TensorFlow/Keras due to its simplicity and wide adoption in the industry.\n",
    "\n",
    "---\n",
    "\n",
    "Demo: Implementation in Python\n",
    "------------------------------\n",
    "\n",
    "### LendingClub Use Case\n",
    "\n",
    "\n",
    "---\n"
   ]
  },
  {
   "cell_type": "markdown",
   "metadata": {
    "id": "aeseLRulRBCn"
   },
   "source": [
    "### Set up"
   ]
  },
  {
   "cell_type": "markdown",
   "metadata": {
    "id": "sVcRQbveRBCo"
   },
   "source": [
    "#### User-specified parameters"
   ]
  },
  {
   "cell_type": "code",
   "execution_count": 1,
   "metadata": {
    "executionInfo": {
     "elapsed": 26,
     "status": "ok",
     "timestamp": 1740523881459,
     "user": {
      "displayName": "Andrea Baroni",
      "userId": "13443912204230378793"
     },
     "user_tz": 0
    },
    "id": "5TTTjZ1KRBCo"
   },
   "outputs": [],
   "source": [
    "python_material_folder_name = \"python-material\""
   ]
  },
  {
   "cell_type": "markdown",
   "metadata": {
    "id": "o_8Z641LRBCp"
   },
   "source": [
    "#### Import libraries"
   ]
  },
  {
   "cell_type": "code",
   "execution_count": 4,
   "metadata": {
    "colab": {
     "base_uri": "https://localhost:8080/"
    },
    "executionInfo": {
     "elapsed": 2953,
     "status": "ok",
     "timestamp": 1740523884429,
     "user": {
      "displayName": "Andrea Baroni",
      "userId": "13443912204230378793"
     },
     "user_tz": 0
    },
    "id": "_fnt6O1aRBCp",
    "outputId": "8e4f93e5-6a9a-457b-ab89-f43abd0e5a6e"
   },
   "outputs": [],
   "source": [
    "import pandas as pd\n",
    "import numpy as np\n",
    "\n",
    "pd.set_option('display.max_columns', None)\n",
    "pd.set_option('display.max_rows', None)\n",
    "\n",
    "# Check if in Google Colab environment\n",
    "try:\n",
    "    from google.colab import drive\n",
    "    # Mount drive\n",
    "    drive.mount('/content/drive')\n",
    "    # Set up path to Python material parent folder\n",
    "    path_python_material = rf\"drive/MyDrive/{python_material_folder_name}\"\n",
    "        # If unsure, print current directory path by executing the following in a new cell:\n",
    "        # !pwd\n",
    "    IN_COLAB = True\n",
    "\n",
    "    import os\n",
    "    import sys\n",
    "\n",
    "    # Get the current working directory (notebook's directory)\n",
    "    notebook_dir = f\"{path_python_material}/notebooks\"\n",
    "    print(notebook_dir)\n",
    "\n",
    "    if notebook_dir not in sys.path:\n",
    "      sys.path.append(notebook_dir)\n",
    "\n",
    "except:\n",
    "    IN_COLAB = False\n",
    "    # If working locally on Jupyter Notebook, parent folder is one folder up (assuming you are using the folder structure shared at the beginning of the course)\n",
    "    path_python_material = \"..\""
   ]
  },
  {
   "cell_type": "markdown",
   "metadata": {
    "id": "aSq1v8uyRBCq"
   },
   "source": [
    "#### Import data"
   ]
  },
  {
   "cell_type": "code",
   "execution_count": 5,
   "metadata": {
    "colab": {
     "base_uri": "https://localhost:8080/",
     "height": 226
    },
    "executionInfo": {
     "elapsed": 2380,
     "status": "ok",
     "timestamp": 1740519102037,
     "user": {
      "displayName": "Andrea Baroni",
      "userId": "13443912204230378793"
     },
     "user_tz": 0
    },
    "id": "xJviswQFRBCq",
    "outputId": "196077be-7e26-418b-e092-d1d0499f86dc"
   },
   "outputs": [
    {
     "data": {
      "text/html": [
       "<div>\n",
       "<style scoped>\n",
       "    .dataframe tbody tr th:only-of-type {\n",
       "        vertical-align: middle;\n",
       "    }\n",
       "\n",
       "    .dataframe tbody tr th {\n",
       "        vertical-align: top;\n",
       "    }\n",
       "\n",
       "    .dataframe thead th {\n",
       "        text-align: right;\n",
       "    }\n",
       "</style>\n",
       "<table border=\"1\" class=\"dataframe\">\n",
       "  <thead>\n",
       "    <tr style=\"text-align: right;\">\n",
       "      <th></th>\n",
       "      <th>loan_amnt</th>\n",
       "      <th>installment</th>\n",
       "      <th>annual_inc</th>\n",
       "      <th>dti</th>\n",
       "      <th>delinq_2yrs</th>\n",
       "      <th>fico_range_low</th>\n",
       "      <th>fico_range_high</th>\n",
       "      <th>inq_last_6mths</th>\n",
       "      <th>open_acc</th>\n",
       "      <th>pub_rec</th>\n",
       "      <th>revol_bal</th>\n",
       "      <th>total_acc</th>\n",
       "      <th>total_rec_prncp</th>\n",
       "      <th>total_rec_int</th>\n",
       "      <th>total_rec_late_fee</th>\n",
       "      <th>recoveries</th>\n",
       "      <th>collection_recovery_fee</th>\n",
       "      <th>last_pymnt_amnt</th>\n",
       "      <th>last_fico_range_high</th>\n",
       "      <th>last_fico_range_low</th>\n",
       "      <th>collections_12_mths_ex_med</th>\n",
       "      <th>policy_code</th>\n",
       "      <th>acc_now_delinq</th>\n",
       "      <th>tot_coll_amt</th>\n",
       "      <th>tot_cur_bal</th>\n",
       "      <th>open_acc_6m</th>\n",
       "      <th>open_act_il</th>\n",
       "      <th>open_il_12m</th>\n",
       "      <th>open_il_24m</th>\n",
       "      <th>mths_since_rcnt_il</th>\n",
       "      <th>total_bal_il</th>\n",
       "      <th>il_util</th>\n",
       "      <th>open_rv_12m</th>\n",
       "      <th>open_rv_24m</th>\n",
       "      <th>max_bal_bc</th>\n",
       "      <th>all_util</th>\n",
       "      <th>total_rev_hi_lim</th>\n",
       "      <th>inq_fi</th>\n",
       "      <th>total_cu_tl</th>\n",
       "      <th>inq_last_12m</th>\n",
       "      <th>acc_open_past_24mths</th>\n",
       "      <th>avg_cur_bal</th>\n",
       "      <th>bc_open_to_buy</th>\n",
       "      <th>bc_util</th>\n",
       "      <th>chargeoff_within_12_mths</th>\n",
       "      <th>delinq_amnt</th>\n",
       "      <th>mo_sin_old_il_acct</th>\n",
       "      <th>mo_sin_old_rev_tl_op</th>\n",
       "      <th>mo_sin_rcnt_rev_tl_op</th>\n",
       "      <th>mo_sin_rcnt_tl</th>\n",
       "      <th>mort_acc</th>\n",
       "      <th>mths_since_recent_bc</th>\n",
       "      <th>mths_since_recent_inq</th>\n",
       "      <th>num_accts_ever_120_pd</th>\n",
       "      <th>num_actv_bc_tl</th>\n",
       "      <th>num_actv_rev_tl</th>\n",
       "      <th>num_bc_sats</th>\n",
       "      <th>num_bc_tl</th>\n",
       "      <th>num_il_tl</th>\n",
       "      <th>num_op_rev_tl</th>\n",
       "      <th>num_rev_accts</th>\n",
       "      <th>num_rev_tl_bal_gt_0</th>\n",
       "      <th>num_sats</th>\n",
       "      <th>num_tl_120dpd_2m</th>\n",
       "      <th>num_tl_30dpd</th>\n",
       "      <th>num_tl_90g_dpd_24m</th>\n",
       "      <th>num_tl_op_past_12m</th>\n",
       "      <th>pct_tl_nvr_dlq</th>\n",
       "      <th>percent_bc_gt_75</th>\n",
       "      <th>pub_rec_bankruptcies</th>\n",
       "      <th>tax_liens</th>\n",
       "      <th>tot_hi_cred_lim</th>\n",
       "      <th>total_bal_ex_mort</th>\n",
       "      <th>total_bc_limit</th>\n",
       "      <th>total_il_high_credit_limit</th>\n",
       "      <th>last_pymnt_amnt_log</th>\n",
       "      <th>last_pymnt_amnt_capped</th>\n",
       "      <th>int_rate_clean</th>\n",
       "      <th>term_numeric</th>\n",
       "      <th>debt_to_income</th>\n",
       "      <th>loan_amnt_log</th>\n",
       "      <th>grade_encoded</th>\n",
       "      <th>loan_amnt_std</th>\n",
       "      <th>annual_inc_std</th>\n",
       "      <th>loan_amnt_norm</th>\n",
       "      <th>annual_inc_norm</th>\n",
       "      <th>loan_default</th>\n",
       "    </tr>\n",
       "  </thead>\n",
       "  <tbody>\n",
       "    <tr>\n",
       "      <th>0</th>\n",
       "      <td>10000.0</td>\n",
       "      <td>344.31</td>\n",
       "      <td>45000.0</td>\n",
       "      <td>15.52</td>\n",
       "      <td>0.0</td>\n",
       "      <td>665.0</td>\n",
       "      <td>669.0</td>\n",
       "      <td>1.0</td>\n",
       "      <td>8.0</td>\n",
       "      <td>0.0</td>\n",
       "      <td>965.0</td>\n",
       "      <td>16.0</td>\n",
       "      <td>6175.80</td>\n",
       "      <td>2079.57</td>\n",
       "      <td>0.0</td>\n",
       "      <td>0.00</td>\n",
       "      <td>0.0000</td>\n",
       "      <td>344.31</td>\n",
       "      <td>694.0</td>\n",
       "      <td>690.0</td>\n",
       "      <td>0.0</td>\n",
       "      <td>1.0</td>\n",
       "      <td>0.0</td>\n",
       "      <td>1211.0</td>\n",
       "      <td>5403.0</td>\n",
       "      <td>2.0</td>\n",
       "      <td>1.0</td>\n",
       "      <td>0.0</td>\n",
       "      <td>0.0</td>\n",
       "      <td>26.0</td>\n",
       "      <td>4438.0</td>\n",
       "      <td>31.0</td>\n",
       "      <td>4.0</td>\n",
       "      <td>7.0</td>\n",
       "      <td>512.0</td>\n",
       "      <td>30.0</td>\n",
       "      <td>3600.0</td>\n",
       "      <td>0.0</td>\n",
       "      <td>0.0</td>\n",
       "      <td>3.0</td>\n",
       "      <td>7.0</td>\n",
       "      <td>675.0</td>\n",
       "      <td>1135.0</td>\n",
       "      <td>46.0</td>\n",
       "      <td>0.0</td>\n",
       "      <td>0.0</td>\n",
       "      <td>141.0</td>\n",
       "      <td>141.0</td>\n",
       "      <td>3.0</td>\n",
       "      <td>3.0</td>\n",
       "      <td>0.0</td>\n",
       "      <td>4.0</td>\n",
       "      <td>2.0</td>\n",
       "      <td>4.0</td>\n",
       "      <td>3.0</td>\n",
       "      <td>3.0</td>\n",
       "      <td>3.0</td>\n",
       "      <td>7.0</td>\n",
       "      <td>4.0</td>\n",
       "      <td>7.0</td>\n",
       "      <td>12.0</td>\n",
       "      <td>3.0</td>\n",
       "      <td>8.0</td>\n",
       "      <td>0.0</td>\n",
       "      <td>0.0</td>\n",
       "      <td>0.0</td>\n",
       "      <td>4.0</td>\n",
       "      <td>73.3</td>\n",
       "      <td>0.0</td>\n",
       "      <td>0.0</td>\n",
       "      <td>0.0</td>\n",
       "      <td>17994.0</td>\n",
       "      <td>5403.0</td>\n",
       "      <td>2100.0</td>\n",
       "      <td>14394.0</td>\n",
       "      <td>5.844443</td>\n",
       "      <td>344.31</td>\n",
       "      <td>0.1452</td>\n",
       "      <td>36.0</td>\n",
       "      <td>0.222222</td>\n",
       "      <td>9.210440</td>\n",
       "      <td>2</td>\n",
       "      <td>-0.563191</td>\n",
       "      <td>-0.401601</td>\n",
       "      <td>0.236641</td>\n",
       "      <td>0.004091</td>\n",
       "      <td>False</td>\n",
       "    </tr>\n",
       "    <tr>\n",
       "      <th>1</th>\n",
       "      <td>15000.0</td>\n",
       "      <td>478.12</td>\n",
       "      <td>45000.0</td>\n",
       "      <td>9.15</td>\n",
       "      <td>0.0</td>\n",
       "      <td>665.0</td>\n",
       "      <td>669.0</td>\n",
       "      <td>0.0</td>\n",
       "      <td>8.0</td>\n",
       "      <td>1.0</td>\n",
       "      <td>11112.0</td>\n",
       "      <td>25.0</td>\n",
       "      <td>15000.00</td>\n",
       "      <td>2187.48</td>\n",
       "      <td>0.0</td>\n",
       "      <td>0.00</td>\n",
       "      <td>0.0000</td>\n",
       "      <td>2824.80</td>\n",
       "      <td>789.0</td>\n",
       "      <td>785.0</td>\n",
       "      <td>0.0</td>\n",
       "      <td>1.0</td>\n",
       "      <td>0.0</td>\n",
       "      <td>0.0</td>\n",
       "      <td>246148.0</td>\n",
       "      <td>0.0</td>\n",
       "      <td>0.0</td>\n",
       "      <td>0.0</td>\n",
       "      <td>0.0</td>\n",
       "      <td>99.0</td>\n",
       "      <td>0.0</td>\n",
       "      <td>0.0</td>\n",
       "      <td>1.0</td>\n",
       "      <td>2.0</td>\n",
       "      <td>4836.0</td>\n",
       "      <td>48.0</td>\n",
       "      <td>23300.0</td>\n",
       "      <td>0.0</td>\n",
       "      <td>0.0</td>\n",
       "      <td>3.0</td>\n",
       "      <td>3.0</td>\n",
       "      <td>35164.0</td>\n",
       "      <td>8879.0</td>\n",
       "      <td>55.2</td>\n",
       "      <td>0.0</td>\n",
       "      <td>0.0</td>\n",
       "      <td>114.0</td>\n",
       "      <td>166.0</td>\n",
       "      <td>11.0</td>\n",
       "      <td>11.0</td>\n",
       "      <td>3.0</td>\n",
       "      <td>21.0</td>\n",
       "      <td>4.0</td>\n",
       "      <td>0.0</td>\n",
       "      <td>4.0</td>\n",
       "      <td>5.0</td>\n",
       "      <td>4.0</td>\n",
       "      <td>12.0</td>\n",
       "      <td>2.0</td>\n",
       "      <td>7.0</td>\n",
       "      <td>20.0</td>\n",
       "      <td>5.0</td>\n",
       "      <td>7.0</td>\n",
       "      <td>0.0</td>\n",
       "      <td>0.0</td>\n",
       "      <td>0.0</td>\n",
       "      <td>1.0</td>\n",
       "      <td>100.0</td>\n",
       "      <td>0.0</td>\n",
       "      <td>1.0</td>\n",
       "      <td>0.0</td>\n",
       "      <td>266906.0</td>\n",
       "      <td>11112.0</td>\n",
       "      <td>19800.0</td>\n",
       "      <td>0.0</td>\n",
       "      <td>7.946547</td>\n",
       "      <td>2824.80</td>\n",
       "      <td>0.0916</td>\n",
       "      <td>36.0</td>\n",
       "      <td>0.333333</td>\n",
       "      <td>9.615872</td>\n",
       "      <td>1</td>\n",
       "      <td>-0.035104</td>\n",
       "      <td>-0.401601</td>\n",
       "      <td>0.363868</td>\n",
       "      <td>0.004091</td>\n",
       "      <td>False</td>\n",
       "    </tr>\n",
       "    <tr>\n",
       "      <th>2</th>\n",
       "      <td>15000.0</td>\n",
       "      <td>496.79</td>\n",
       "      <td>65000.0</td>\n",
       "      <td>14.25</td>\n",
       "      <td>0.0</td>\n",
       "      <td>675.0</td>\n",
       "      <td>679.0</td>\n",
       "      <td>0.0</td>\n",
       "      <td>12.0</td>\n",
       "      <td>1.0</td>\n",
       "      <td>7385.0</td>\n",
       "      <td>26.0</td>\n",
       "      <td>6428.83</td>\n",
       "      <td>1933.02</td>\n",
       "      <td>0.0</td>\n",
       "      <td>0.00</td>\n",
       "      <td>0.0000</td>\n",
       "      <td>496.79</td>\n",
       "      <td>729.0</td>\n",
       "      <td>725.0</td>\n",
       "      <td>0.0</td>\n",
       "      <td>1.0</td>\n",
       "      <td>0.0</td>\n",
       "      <td>0.0</td>\n",
       "      <td>279548.0</td>\n",
       "      <td>1.0</td>\n",
       "      <td>2.0</td>\n",
       "      <td>1.0</td>\n",
       "      <td>3.0</td>\n",
       "      <td>10.0</td>\n",
       "      <td>20823.0</td>\n",
       "      <td>84.0</td>\n",
       "      <td>1.0</td>\n",
       "      <td>2.0</td>\n",
       "      <td>4740.0</td>\n",
       "      <td>53.0</td>\n",
       "      <td>28700.0</td>\n",
       "      <td>1.0</td>\n",
       "      <td>8.0</td>\n",
       "      <td>3.0</td>\n",
       "      <td>6.0</td>\n",
       "      <td>25413.0</td>\n",
       "      <td>13103.0</td>\n",
       "      <td>29.6</td>\n",
       "      <td>0.0</td>\n",
       "      <td>0.0</td>\n",
       "      <td>125.0</td>\n",
       "      <td>118.0</td>\n",
       "      <td>8.0</td>\n",
       "      <td>5.0</td>\n",
       "      <td>1.0</td>\n",
       "      <td>8.0</td>\n",
       "      <td>6.0</td>\n",
       "      <td>0.0</td>\n",
       "      <td>2.0</td>\n",
       "      <td>6.0</td>\n",
       "      <td>3.0</td>\n",
       "      <td>6.0</td>\n",
       "      <td>10.0</td>\n",
       "      <td>9.0</td>\n",
       "      <td>15.0</td>\n",
       "      <td>6.0</td>\n",
       "      <td>12.0</td>\n",
       "      <td>0.0</td>\n",
       "      <td>0.0</td>\n",
       "      <td>0.0</td>\n",
       "      <td>3.0</td>\n",
       "      <td>100.0</td>\n",
       "      <td>0.0</td>\n",
       "      <td>1.0</td>\n",
       "      <td>0.0</td>\n",
       "      <td>305664.0</td>\n",
       "      <td>28208.0</td>\n",
       "      <td>18600.0</td>\n",
       "      <td>24944.0</td>\n",
       "      <td>6.210178</td>\n",
       "      <td>496.79</td>\n",
       "      <td>0.1180</td>\n",
       "      <td>36.0</td>\n",
       "      <td>0.230769</td>\n",
       "      <td>9.615872</td>\n",
       "      <td>1</td>\n",
       "      <td>-0.035104</td>\n",
       "      <td>-0.172306</td>\n",
       "      <td>0.363868</td>\n",
       "      <td>0.005910</td>\n",
       "      <td>False</td>\n",
       "    </tr>\n",
       "    <tr>\n",
       "      <th>3</th>\n",
       "      <td>7275.0</td>\n",
       "      <td>254.37</td>\n",
       "      <td>45000.0</td>\n",
       "      <td>20.48</td>\n",
       "      <td>0.0</td>\n",
       "      <td>665.0</td>\n",
       "      <td>669.0</td>\n",
       "      <td>3.0</td>\n",
       "      <td>7.0</td>\n",
       "      <td>1.0</td>\n",
       "      <td>6006.0</td>\n",
       "      <td>18.0</td>\n",
       "      <td>7275.00</td>\n",
       "      <td>980.66</td>\n",
       "      <td>0.0</td>\n",
       "      <td>0.00</td>\n",
       "      <td>0.0000</td>\n",
       "      <td>5711.96</td>\n",
       "      <td>504.0</td>\n",
       "      <td>500.0</td>\n",
       "      <td>0.0</td>\n",
       "      <td>1.0</td>\n",
       "      <td>0.0</td>\n",
       "      <td>0.0</td>\n",
       "      <td>19343.0</td>\n",
       "      <td>0.0</td>\n",
       "      <td>0.0</td>\n",
       "      <td>0.0</td>\n",
       "      <td>0.0</td>\n",
       "      <td>999.0</td>\n",
       "      <td>0.0</td>\n",
       "      <td>0.0</td>\n",
       "      <td>0.0</td>\n",
       "      <td>0.0</td>\n",
       "      <td>0.0</td>\n",
       "      <td>0.0</td>\n",
       "      <td>9750.0</td>\n",
       "      <td>0.0</td>\n",
       "      <td>0.0</td>\n",
       "      <td>0.0</td>\n",
       "      <td>5.0</td>\n",
       "      <td>2763.0</td>\n",
       "      <td>2438.0</td>\n",
       "      <td>62.0</td>\n",
       "      <td>0.0</td>\n",
       "      <td>0.0</td>\n",
       "      <td>141.0</td>\n",
       "      <td>158.0</td>\n",
       "      <td>10.0</td>\n",
       "      <td>3.0</td>\n",
       "      <td>0.0</td>\n",
       "      <td>10.0</td>\n",
       "      <td>1.0</td>\n",
       "      <td>0.0</td>\n",
       "      <td>4.0</td>\n",
       "      <td>4.0</td>\n",
       "      <td>9.0</td>\n",
       "      <td>10.0</td>\n",
       "      <td>4.0</td>\n",
       "      <td>4.0</td>\n",
       "      <td>14.0</td>\n",
       "      <td>1.0</td>\n",
       "      <td>7.0</td>\n",
       "      <td>0.0</td>\n",
       "      <td>0.0</td>\n",
       "      <td>0.0</td>\n",
       "      <td>4.0</td>\n",
       "      <td>94.0</td>\n",
       "      <td>25.0</td>\n",
       "      <td>1.0</td>\n",
       "      <td>0.0</td>\n",
       "      <td>25578.0</td>\n",
       "      <td>19343.0</td>\n",
       "      <td>9750.0</td>\n",
       "      <td>15828.0</td>\n",
       "      <td>8.650493</td>\n",
       "      <td>5711.96</td>\n",
       "      <td>0.1561</td>\n",
       "      <td>36.0</td>\n",
       "      <td>0.161667</td>\n",
       "      <td>8.892337</td>\n",
       "      <td>2</td>\n",
       "      <td>-0.850998</td>\n",
       "      <td>-0.401601</td>\n",
       "      <td>0.167303</td>\n",
       "      <td>0.004091</td>\n",
       "      <td>False</td>\n",
       "    </tr>\n",
       "    <tr>\n",
       "      <th>4</th>\n",
       "      <td>12000.0</td>\n",
       "      <td>333.82</td>\n",
       "      <td>30000.0</td>\n",
       "      <td>13.60</td>\n",
       "      <td>1.0</td>\n",
       "      <td>665.0</td>\n",
       "      <td>669.0</td>\n",
       "      <td>0.0</td>\n",
       "      <td>7.0</td>\n",
       "      <td>1.0</td>\n",
       "      <td>2555.0</td>\n",
       "      <td>25.0</td>\n",
       "      <td>2328.16</td>\n",
       "      <td>3673.01</td>\n",
       "      <td>0.0</td>\n",
       "      <td>1366.67</td>\n",
       "      <td>123.0003</td>\n",
       "      <td>333.82</td>\n",
       "      <td>574.0</td>\n",
       "      <td>570.0</td>\n",
       "      <td>0.0</td>\n",
       "      <td>1.0</td>\n",
       "      <td>0.0</td>\n",
       "      <td>0.0</td>\n",
       "      <td>8711.0</td>\n",
       "      <td>1.0</td>\n",
       "      <td>1.0</td>\n",
       "      <td>2.0</td>\n",
       "      <td>3.0</td>\n",
       "      <td>6.0</td>\n",
       "      <td>6156.0</td>\n",
       "      <td>98.0</td>\n",
       "      <td>0.0</td>\n",
       "      <td>4.0</td>\n",
       "      <td>2555.0</td>\n",
       "      <td>60.0</td>\n",
       "      <td>8200.0</td>\n",
       "      <td>0.0</td>\n",
       "      <td>2.0</td>\n",
       "      <td>1.0</td>\n",
       "      <td>7.0</td>\n",
       "      <td>1244.0</td>\n",
       "      <td>145.0</td>\n",
       "      <td>94.6</td>\n",
       "      <td>0.0</td>\n",
       "      <td>0.0</td>\n",
       "      <td>180.0</td>\n",
       "      <td>144.0</td>\n",
       "      <td>17.0</td>\n",
       "      <td>6.0</td>\n",
       "      <td>0.0</td>\n",
       "      <td>45.0</td>\n",
       "      <td>10.0</td>\n",
       "      <td>0.0</td>\n",
       "      <td>1.0</td>\n",
       "      <td>1.0</td>\n",
       "      <td>1.0</td>\n",
       "      <td>3.0</td>\n",
       "      <td>13.0</td>\n",
       "      <td>6.0</td>\n",
       "      <td>12.0</td>\n",
       "      <td>1.0</td>\n",
       "      <td>7.0</td>\n",
       "      <td>0.0</td>\n",
       "      <td>0.0</td>\n",
       "      <td>0.0</td>\n",
       "      <td>2.0</td>\n",
       "      <td>95.2</td>\n",
       "      <td>100.0</td>\n",
       "      <td>1.0</td>\n",
       "      <td>0.0</td>\n",
       "      <td>14500.0</td>\n",
       "      <td>8711.0</td>\n",
       "      <td>2700.0</td>\n",
       "      <td>6300.0</td>\n",
       "      <td>5.813593</td>\n",
       "      <td>333.82</td>\n",
       "      <td>0.2235</td>\n",
       "      <td>60.0</td>\n",
       "      <td>0.400000</td>\n",
       "      <td>9.392745</td>\n",
       "      <td>4</td>\n",
       "      <td>-0.351956</td>\n",
       "      <td>-0.573572</td>\n",
       "      <td>0.287532</td>\n",
       "      <td>0.002727</td>\n",
       "      <td>True</td>\n",
       "    </tr>\n",
       "  </tbody>\n",
       "</table>\n",
       "</div>"
      ],
      "text/plain": [
       "   loan_amnt  installment  annual_inc    dti  delinq_2yrs  fico_range_low  \\\n",
       "0    10000.0       344.31     45000.0  15.52          0.0           665.0   \n",
       "1    15000.0       478.12     45000.0   9.15          0.0           665.0   \n",
       "2    15000.0       496.79     65000.0  14.25          0.0           675.0   \n",
       "3     7275.0       254.37     45000.0  20.48          0.0           665.0   \n",
       "4    12000.0       333.82     30000.0  13.60          1.0           665.0   \n",
       "\n",
       "   fico_range_high  inq_last_6mths  open_acc  pub_rec  revol_bal  total_acc  \\\n",
       "0            669.0             1.0       8.0      0.0      965.0       16.0   \n",
       "1            669.0             0.0       8.0      1.0    11112.0       25.0   \n",
       "2            679.0             0.0      12.0      1.0     7385.0       26.0   \n",
       "3            669.0             3.0       7.0      1.0     6006.0       18.0   \n",
       "4            669.0             0.0       7.0      1.0     2555.0       25.0   \n",
       "\n",
       "   total_rec_prncp  total_rec_int  total_rec_late_fee  recoveries  \\\n",
       "0          6175.80        2079.57                 0.0        0.00   \n",
       "1         15000.00        2187.48                 0.0        0.00   \n",
       "2          6428.83        1933.02                 0.0        0.00   \n",
       "3          7275.00         980.66                 0.0        0.00   \n",
       "4          2328.16        3673.01                 0.0     1366.67   \n",
       "\n",
       "   collection_recovery_fee  last_pymnt_amnt  last_fico_range_high  \\\n",
       "0                   0.0000           344.31                 694.0   \n",
       "1                   0.0000          2824.80                 789.0   \n",
       "2                   0.0000           496.79                 729.0   \n",
       "3                   0.0000          5711.96                 504.0   \n",
       "4                 123.0003           333.82                 574.0   \n",
       "\n",
       "   last_fico_range_low  collections_12_mths_ex_med  policy_code  \\\n",
       "0                690.0                         0.0          1.0   \n",
       "1                785.0                         0.0          1.0   \n",
       "2                725.0                         0.0          1.0   \n",
       "3                500.0                         0.0          1.0   \n",
       "4                570.0                         0.0          1.0   \n",
       "\n",
       "   acc_now_delinq  tot_coll_amt  tot_cur_bal  open_acc_6m  open_act_il  \\\n",
       "0             0.0        1211.0       5403.0          2.0          1.0   \n",
       "1             0.0           0.0     246148.0          0.0          0.0   \n",
       "2             0.0           0.0     279548.0          1.0          2.0   \n",
       "3             0.0           0.0      19343.0          0.0          0.0   \n",
       "4             0.0           0.0       8711.0          1.0          1.0   \n",
       "\n",
       "   open_il_12m  open_il_24m  mths_since_rcnt_il  total_bal_il  il_util  \\\n",
       "0          0.0          0.0                26.0        4438.0     31.0   \n",
       "1          0.0          0.0                99.0           0.0      0.0   \n",
       "2          1.0          3.0                10.0       20823.0     84.0   \n",
       "3          0.0          0.0               999.0           0.0      0.0   \n",
       "4          2.0          3.0                 6.0        6156.0     98.0   \n",
       "\n",
       "   open_rv_12m  open_rv_24m  max_bal_bc  all_util  total_rev_hi_lim  inq_fi  \\\n",
       "0          4.0          7.0       512.0      30.0            3600.0     0.0   \n",
       "1          1.0          2.0      4836.0      48.0           23300.0     0.0   \n",
       "2          1.0          2.0      4740.0      53.0           28700.0     1.0   \n",
       "3          0.0          0.0         0.0       0.0            9750.0     0.0   \n",
       "4          0.0          4.0      2555.0      60.0            8200.0     0.0   \n",
       "\n",
       "   total_cu_tl  inq_last_12m  acc_open_past_24mths  avg_cur_bal  \\\n",
       "0          0.0           3.0                   7.0        675.0   \n",
       "1          0.0           3.0                   3.0      35164.0   \n",
       "2          8.0           3.0                   6.0      25413.0   \n",
       "3          0.0           0.0                   5.0       2763.0   \n",
       "4          2.0           1.0                   7.0       1244.0   \n",
       "\n",
       "   bc_open_to_buy  bc_util  chargeoff_within_12_mths  delinq_amnt  \\\n",
       "0          1135.0     46.0                       0.0          0.0   \n",
       "1          8879.0     55.2                       0.0          0.0   \n",
       "2         13103.0     29.6                       0.0          0.0   \n",
       "3          2438.0     62.0                       0.0          0.0   \n",
       "4           145.0     94.6                       0.0          0.0   \n",
       "\n",
       "   mo_sin_old_il_acct  mo_sin_old_rev_tl_op  mo_sin_rcnt_rev_tl_op  \\\n",
       "0               141.0                 141.0                    3.0   \n",
       "1               114.0                 166.0                   11.0   \n",
       "2               125.0                 118.0                    8.0   \n",
       "3               141.0                 158.0                   10.0   \n",
       "4               180.0                 144.0                   17.0   \n",
       "\n",
       "   mo_sin_rcnt_tl  mort_acc  mths_since_recent_bc  mths_since_recent_inq  \\\n",
       "0             3.0       0.0                   4.0                    2.0   \n",
       "1            11.0       3.0                  21.0                    4.0   \n",
       "2             5.0       1.0                   8.0                    6.0   \n",
       "3             3.0       0.0                  10.0                    1.0   \n",
       "4             6.0       0.0                  45.0                   10.0   \n",
       "\n",
       "   num_accts_ever_120_pd  num_actv_bc_tl  num_actv_rev_tl  num_bc_sats  \\\n",
       "0                    4.0             3.0              3.0          3.0   \n",
       "1                    0.0             4.0              5.0          4.0   \n",
       "2                    0.0             2.0              6.0          3.0   \n",
       "3                    0.0             4.0              4.0          9.0   \n",
       "4                    0.0             1.0              1.0          1.0   \n",
       "\n",
       "   num_bc_tl  num_il_tl  num_op_rev_tl  num_rev_accts  num_rev_tl_bal_gt_0  \\\n",
       "0        7.0        4.0            7.0           12.0                  3.0   \n",
       "1       12.0        2.0            7.0           20.0                  5.0   \n",
       "2        6.0       10.0            9.0           15.0                  6.0   \n",
       "3       10.0        4.0            4.0           14.0                  1.0   \n",
       "4        3.0       13.0            6.0           12.0                  1.0   \n",
       "\n",
       "   num_sats  num_tl_120dpd_2m  num_tl_30dpd  num_tl_90g_dpd_24m  \\\n",
       "0       8.0               0.0           0.0                 0.0   \n",
       "1       7.0               0.0           0.0                 0.0   \n",
       "2      12.0               0.0           0.0                 0.0   \n",
       "3       7.0               0.0           0.0                 0.0   \n",
       "4       7.0               0.0           0.0                 0.0   \n",
       "\n",
       "   num_tl_op_past_12m  pct_tl_nvr_dlq  percent_bc_gt_75  pub_rec_bankruptcies  \\\n",
       "0                 4.0            73.3               0.0                   0.0   \n",
       "1                 1.0           100.0               0.0                   1.0   \n",
       "2                 3.0           100.0               0.0                   1.0   \n",
       "3                 4.0            94.0              25.0                   1.0   \n",
       "4                 2.0            95.2             100.0                   1.0   \n",
       "\n",
       "   tax_liens  tot_hi_cred_lim  total_bal_ex_mort  total_bc_limit  \\\n",
       "0        0.0          17994.0             5403.0          2100.0   \n",
       "1        0.0         266906.0            11112.0         19800.0   \n",
       "2        0.0         305664.0            28208.0         18600.0   \n",
       "3        0.0          25578.0            19343.0          9750.0   \n",
       "4        0.0          14500.0             8711.0          2700.0   \n",
       "\n",
       "   total_il_high_credit_limit  last_pymnt_amnt_log  last_pymnt_amnt_capped  \\\n",
       "0                     14394.0             5.844443                  344.31   \n",
       "1                         0.0             7.946547                 2824.80   \n",
       "2                     24944.0             6.210178                  496.79   \n",
       "3                     15828.0             8.650493                 5711.96   \n",
       "4                      6300.0             5.813593                  333.82   \n",
       "\n",
       "   int_rate_clean  term_numeric  debt_to_income  loan_amnt_log  grade_encoded  \\\n",
       "0          0.1452          36.0        0.222222       9.210440              2   \n",
       "1          0.0916          36.0        0.333333       9.615872              1   \n",
       "2          0.1180          36.0        0.230769       9.615872              1   \n",
       "3          0.1561          36.0        0.161667       8.892337              2   \n",
       "4          0.2235          60.0        0.400000       9.392745              4   \n",
       "\n",
       "   loan_amnt_std  annual_inc_std  loan_amnt_norm  annual_inc_norm  \\\n",
       "0      -0.563191       -0.401601        0.236641         0.004091   \n",
       "1      -0.035104       -0.401601        0.363868         0.004091   \n",
       "2      -0.035104       -0.172306        0.363868         0.005910   \n",
       "3      -0.850998       -0.401601        0.167303         0.004091   \n",
       "4      -0.351956       -0.573572        0.287532         0.002727   \n",
       "\n",
       "   loan_default  \n",
       "0         False  \n",
       "1         False  \n",
       "2         False  \n",
       "3         False  \n",
       "4          True  "
      ]
     },
     "execution_count": 5,
     "metadata": {},
     "output_type": "execute_result"
    }
   ],
   "source": [
    "# Read data that was exported from previous session\n",
    "df = pd.read_csv(f\"{path_python_material}/data/2-intermediate/df_out_dsif6.csv\")#.sample(10000, random_state=800)\n",
    "df.head()"
   ]
  },
  {
   "cell_type": "markdown",
   "metadata": {
    "id": "5q6vvIONBLBl"
   },
   "source": [
    "### <span style=\"color:RED\"> **>>> NOTE:**  </span>    \n",
    "> **Make sure to have plenty of data!**"
   ]
  },
  {
   "cell_type": "code",
   "execution_count": 6,
   "metadata": {
    "colab": {
     "base_uri": "https://localhost:8080/"
    },
    "executionInfo": {
     "elapsed": 34,
     "status": "ok",
     "timestamp": 1740519102087,
     "user": {
      "displayName": "Andrea Baroni",
      "userId": "13443912204230378793"
     },
     "user_tz": 0
    },
    "id": "HCcvyPnABLBn",
    "outputId": "58413244-3645-4a09-e1f5-374e3b13ffa7"
   },
   "outputs": [
    {
     "data": {
      "text/plain": [
       "(20000, 87)"
      ]
     },
     "execution_count": 6,
     "metadata": {},
     "output_type": "execute_result"
    }
   ],
   "source": [
    "df.shape"
   ]
  },
  {
   "cell_type": "markdown",
   "metadata": {
    "id": "TGArDhlGRBCr"
   },
   "source": [
    "# 2. Data preprocessing\n",
    "\n",
    "Neural networks expect data in a specific format and often require transformations to perform effectively. Here's a brief overview.\n",
    "\n",
    "-   **Numerical Input Data:**\n",
    "    -   **Transformation:** Convert categorical data to numerical using techniques like one-hot encoding or label encoding. Convert categorical target labels to integers or one-hot encoded vectors.\n",
    "    -   **Why:** Neural networks can't process strings or categorical data directly.\n",
    "\n",
    "-   **Feature Scaling:**\n",
    "    -   **Transformation:** Apply normalization (e.g., min-max scaling) or standardization (e.g., z-score normalization).\n",
    "    -   **Why:** Neural networks converge faster and perform better when input features are on a similar scale, preventing dominance of features with larger magnitudes.\n",
    "    \n",
    "-   **Handling Missing Data:**\n",
    "    -   **Transformation:** Impute missing values (e.g., using mean/mode imputation) or remove rows/columns with missing data.\n",
    "    -   **Why:** Missing data can lead to inaccurate training or model errors if not addressed.\n"
   ]
  },
  {
   "cell_type": "code",
   "execution_count": 7,
   "metadata": {
    "colab": {
     "base_uri": "https://localhost:8080/"
    },
    "executionInfo": {
     "elapsed": 72,
     "status": "ok",
     "timestamp": 1740519106870,
     "user": {
      "displayName": "Andrea Baroni",
      "userId": "13443912204230378793"
     },
     "user_tz": 0
    },
    "id": "gK5AkKObRBCr",
    "outputId": "3a298d7d-d978-45c2-d437-4c9c514810ca"
   },
   "outputs": [
    {
     "name": "stdout",
     "output_type": "stream",
     "text": [
      "Number of features: 19\n"
     ]
    }
   ],
   "source": [
    "# Let's use same features used by model previously built, plus the categorical ones\n",
    "features = ['installment', 'revol_bal', 'recoveries', 'collection_recovery_fee',\n",
    "       'last_fico_range_high', 'last_fico_range_low', 'tot_cur_bal',\n",
    "       'open_acc_6m', 'open_il_24m', 'total_bal_il', 'inq_fi',\n",
    "       'acc_open_past_24mths', 'bc_util', 'mo_sin_old_il_acct',\n",
    "       'percent_bc_gt_75', 'total_il_high_credit_limit', \n",
    "       'last_pymnt_amnt_capped', 'grade_encoded', 'annual_inc_std']\n",
    "# Note: 'last_pymnt_amnt_log' excluded for now because it containted some null values which was problematic for the below modelling part\n",
    "# Could you think of an alternative way to tackle this problem?\n",
    "\n",
    "X = df[features]\n",
    "y = df['loan_default']\n",
    "\n",
    "print(f\"Number of features: {len(features)}\")"
   ]
  },
  {
   "cell_type": "code",
   "execution_count": 8,
   "metadata": {
    "colab": {
     "base_uri": "https://localhost:8080/",
     "height": 226
    },
    "executionInfo": {
     "elapsed": 167,
     "status": "ok",
     "timestamp": 1740519108020,
     "user": {
      "displayName": "Andrea Baroni",
      "userId": "13443912204230378793"
     },
     "user_tz": 0
    },
    "id": "bvB9zVHhBLBq",
    "outputId": "6187698c-99c1-4be1-9af2-8a97113fa2db"
   },
   "outputs": [
    {
     "data": {
      "text/html": [
       "<div>\n",
       "<style scoped>\n",
       "    .dataframe tbody tr th:only-of-type {\n",
       "        vertical-align: middle;\n",
       "    }\n",
       "\n",
       "    .dataframe tbody tr th {\n",
       "        vertical-align: top;\n",
       "    }\n",
       "\n",
       "    .dataframe thead th {\n",
       "        text-align: right;\n",
       "    }\n",
       "</style>\n",
       "<table border=\"1\" class=\"dataframe\">\n",
       "  <thead>\n",
       "    <tr style=\"text-align: right;\">\n",
       "      <th></th>\n",
       "      <th>installment</th>\n",
       "      <th>revol_bal</th>\n",
       "      <th>recoveries</th>\n",
       "      <th>collection_recovery_fee</th>\n",
       "      <th>last_fico_range_high</th>\n",
       "      <th>last_fico_range_low</th>\n",
       "      <th>tot_cur_bal</th>\n",
       "      <th>open_acc_6m</th>\n",
       "      <th>open_il_24m</th>\n",
       "      <th>total_bal_il</th>\n",
       "      <th>inq_fi</th>\n",
       "      <th>acc_open_past_24mths</th>\n",
       "      <th>bc_util</th>\n",
       "      <th>mo_sin_old_il_acct</th>\n",
       "      <th>percent_bc_gt_75</th>\n",
       "      <th>total_il_high_credit_limit</th>\n",
       "      <th>last_pymnt_amnt_capped</th>\n",
       "      <th>grade_encoded</th>\n",
       "      <th>annual_inc_std</th>\n",
       "    </tr>\n",
       "  </thead>\n",
       "  <tbody>\n",
       "    <tr>\n",
       "      <th>0</th>\n",
       "      <td>344.31</td>\n",
       "      <td>965.0</td>\n",
       "      <td>0.00</td>\n",
       "      <td>0.0000</td>\n",
       "      <td>694.0</td>\n",
       "      <td>690.0</td>\n",
       "      <td>5403.0</td>\n",
       "      <td>2.0</td>\n",
       "      <td>0.0</td>\n",
       "      <td>4438.0</td>\n",
       "      <td>0.0</td>\n",
       "      <td>7.0</td>\n",
       "      <td>46.0</td>\n",
       "      <td>141.0</td>\n",
       "      <td>0.0</td>\n",
       "      <td>14394.0</td>\n",
       "      <td>344.31</td>\n",
       "      <td>2</td>\n",
       "      <td>-0.401601</td>\n",
       "    </tr>\n",
       "    <tr>\n",
       "      <th>1</th>\n",
       "      <td>478.12</td>\n",
       "      <td>11112.0</td>\n",
       "      <td>0.00</td>\n",
       "      <td>0.0000</td>\n",
       "      <td>789.0</td>\n",
       "      <td>785.0</td>\n",
       "      <td>246148.0</td>\n",
       "      <td>0.0</td>\n",
       "      <td>0.0</td>\n",
       "      <td>0.0</td>\n",
       "      <td>0.0</td>\n",
       "      <td>3.0</td>\n",
       "      <td>55.2</td>\n",
       "      <td>114.0</td>\n",
       "      <td>0.0</td>\n",
       "      <td>0.0</td>\n",
       "      <td>2824.80</td>\n",
       "      <td>1</td>\n",
       "      <td>-0.401601</td>\n",
       "    </tr>\n",
       "    <tr>\n",
       "      <th>2</th>\n",
       "      <td>496.79</td>\n",
       "      <td>7385.0</td>\n",
       "      <td>0.00</td>\n",
       "      <td>0.0000</td>\n",
       "      <td>729.0</td>\n",
       "      <td>725.0</td>\n",
       "      <td>279548.0</td>\n",
       "      <td>1.0</td>\n",
       "      <td>3.0</td>\n",
       "      <td>20823.0</td>\n",
       "      <td>1.0</td>\n",
       "      <td>6.0</td>\n",
       "      <td>29.6</td>\n",
       "      <td>125.0</td>\n",
       "      <td>0.0</td>\n",
       "      <td>24944.0</td>\n",
       "      <td>496.79</td>\n",
       "      <td>1</td>\n",
       "      <td>-0.172306</td>\n",
       "    </tr>\n",
       "    <tr>\n",
       "      <th>3</th>\n",
       "      <td>254.37</td>\n",
       "      <td>6006.0</td>\n",
       "      <td>0.00</td>\n",
       "      <td>0.0000</td>\n",
       "      <td>504.0</td>\n",
       "      <td>500.0</td>\n",
       "      <td>19343.0</td>\n",
       "      <td>0.0</td>\n",
       "      <td>0.0</td>\n",
       "      <td>0.0</td>\n",
       "      <td>0.0</td>\n",
       "      <td>5.0</td>\n",
       "      <td>62.0</td>\n",
       "      <td>141.0</td>\n",
       "      <td>25.0</td>\n",
       "      <td>15828.0</td>\n",
       "      <td>5711.96</td>\n",
       "      <td>2</td>\n",
       "      <td>-0.401601</td>\n",
       "    </tr>\n",
       "    <tr>\n",
       "      <th>4</th>\n",
       "      <td>333.82</td>\n",
       "      <td>2555.0</td>\n",
       "      <td>1366.67</td>\n",
       "      <td>123.0003</td>\n",
       "      <td>574.0</td>\n",
       "      <td>570.0</td>\n",
       "      <td>8711.0</td>\n",
       "      <td>1.0</td>\n",
       "      <td>3.0</td>\n",
       "      <td>6156.0</td>\n",
       "      <td>0.0</td>\n",
       "      <td>7.0</td>\n",
       "      <td>94.6</td>\n",
       "      <td>180.0</td>\n",
       "      <td>100.0</td>\n",
       "      <td>6300.0</td>\n",
       "      <td>333.82</td>\n",
       "      <td>4</td>\n",
       "      <td>-0.573572</td>\n",
       "    </tr>\n",
       "  </tbody>\n",
       "</table>\n",
       "</div>"
      ],
      "text/plain": [
       "   installment  revol_bal  recoveries  collection_recovery_fee  \\\n",
       "0       344.31      965.0        0.00                   0.0000   \n",
       "1       478.12    11112.0        0.00                   0.0000   \n",
       "2       496.79     7385.0        0.00                   0.0000   \n",
       "3       254.37     6006.0        0.00                   0.0000   \n",
       "4       333.82     2555.0     1366.67                 123.0003   \n",
       "\n",
       "   last_fico_range_high  last_fico_range_low  tot_cur_bal  open_acc_6m  \\\n",
       "0                 694.0                690.0       5403.0          2.0   \n",
       "1                 789.0                785.0     246148.0          0.0   \n",
       "2                 729.0                725.0     279548.0          1.0   \n",
       "3                 504.0                500.0      19343.0          0.0   \n",
       "4                 574.0                570.0       8711.0          1.0   \n",
       "\n",
       "   open_il_24m  total_bal_il  inq_fi  acc_open_past_24mths  bc_util  \\\n",
       "0          0.0        4438.0     0.0                   7.0     46.0   \n",
       "1          0.0           0.0     0.0                   3.0     55.2   \n",
       "2          3.0       20823.0     1.0                   6.0     29.6   \n",
       "3          0.0           0.0     0.0                   5.0     62.0   \n",
       "4          3.0        6156.0     0.0                   7.0     94.6   \n",
       "\n",
       "   mo_sin_old_il_acct  percent_bc_gt_75  total_il_high_credit_limit  \\\n",
       "0               141.0               0.0                     14394.0   \n",
       "1               114.0               0.0                         0.0   \n",
       "2               125.0               0.0                     24944.0   \n",
       "3               141.0              25.0                     15828.0   \n",
       "4               180.0             100.0                      6300.0   \n",
       "\n",
       "   last_pymnt_amnt_capped  grade_encoded  annual_inc_std  \n",
       "0                  344.31              2       -0.401601  \n",
       "1                 2824.80              1       -0.401601  \n",
       "2                  496.79              1       -0.172306  \n",
       "3                 5711.96              2       -0.401601  \n",
       "4                  333.82              4       -0.573572  "
      ]
     },
     "execution_count": 8,
     "metadata": {},
     "output_type": "execute_result"
    }
   ],
   "source": [
    "X.head()"
   ]
  },
  {
   "cell_type": "code",
   "execution_count": 9,
   "metadata": {
    "colab": {
     "base_uri": "https://localhost:8080/",
     "height": 226
    },
    "executionInfo": {
     "elapsed": 873,
     "status": "ok",
     "timestamp": 1740519109294,
     "user": {
      "displayName": "Andrea Baroni",
      "userId": "13443912204230378793"
     },
     "user_tz": 0
    },
    "id": "P1NYfZKZBLBs",
    "outputId": "2b87290c-5a2a-4906-b19e-28fecff618ba"
   },
   "outputs": [
    {
     "data": {
      "text/html": [
       "<div>\n",
       "<style scoped>\n",
       "    .dataframe tbody tr th:only-of-type {\n",
       "        vertical-align: middle;\n",
       "    }\n",
       "\n",
       "    .dataframe tbody tr th {\n",
       "        vertical-align: top;\n",
       "    }\n",
       "\n",
       "    .dataframe thead th {\n",
       "        text-align: right;\n",
       "    }\n",
       "</style>\n",
       "<table border=\"1\" class=\"dataframe\">\n",
       "  <thead>\n",
       "    <tr style=\"text-align: right;\">\n",
       "      <th></th>\n",
       "      <th>installment</th>\n",
       "      <th>revol_bal</th>\n",
       "      <th>recoveries</th>\n",
       "      <th>collection_recovery_fee</th>\n",
       "      <th>last_fico_range_high</th>\n",
       "      <th>last_fico_range_low</th>\n",
       "      <th>tot_cur_bal</th>\n",
       "      <th>open_acc_6m</th>\n",
       "      <th>open_il_24m</th>\n",
       "      <th>total_bal_il</th>\n",
       "      <th>inq_fi</th>\n",
       "      <th>acc_open_past_24mths</th>\n",
       "      <th>bc_util</th>\n",
       "      <th>mo_sin_old_il_acct</th>\n",
       "      <th>percent_bc_gt_75</th>\n",
       "      <th>total_il_high_credit_limit</th>\n",
       "      <th>last_pymnt_amnt_capped</th>\n",
       "      <th>grade_encoded</th>\n",
       "      <th>annual_inc_std</th>\n",
       "    </tr>\n",
       "  </thead>\n",
       "  <tbody>\n",
       "    <tr>\n",
       "      <th>0</th>\n",
       "      <td>0.198883</td>\n",
       "      <td>0.001310</td>\n",
       "      <td>0.000000</td>\n",
       "      <td>0.000000</td>\n",
       "      <td>0.816471</td>\n",
       "      <td>0.816568</td>\n",
       "      <td>0.001575</td>\n",
       "      <td>0.166667</td>\n",
       "      <td>0.00</td>\n",
       "      <td>0.006050</td>\n",
       "      <td>0.000000</td>\n",
       "      <td>0.194444</td>\n",
       "      <td>0.271707</td>\n",
       "      <td>0.285714</td>\n",
       "      <td>0.00</td>\n",
       "      <td>0.015612</td>\n",
       "      <td>0.019742</td>\n",
       "      <td>0.333333</td>\n",
       "      <td>0.009278</td>\n",
       "    </tr>\n",
       "    <tr>\n",
       "      <th>1</th>\n",
       "      <td>0.283725</td>\n",
       "      <td>0.015079</td>\n",
       "      <td>0.000000</td>\n",
       "      <td>0.000000</td>\n",
       "      <td>0.928235</td>\n",
       "      <td>0.928994</td>\n",
       "      <td>0.071746</td>\n",
       "      <td>0.000000</td>\n",
       "      <td>0.00</td>\n",
       "      <td>0.000000</td>\n",
       "      <td>0.000000</td>\n",
       "      <td>0.083333</td>\n",
       "      <td>0.326048</td>\n",
       "      <td>0.230612</td>\n",
       "      <td>0.00</td>\n",
       "      <td>0.000000</td>\n",
       "      <td>0.161972</td>\n",
       "      <td>0.166667</td>\n",
       "      <td>0.009278</td>\n",
       "    </tr>\n",
       "    <tr>\n",
       "      <th>2</th>\n",
       "      <td>0.295563</td>\n",
       "      <td>0.010022</td>\n",
       "      <td>0.000000</td>\n",
       "      <td>0.000000</td>\n",
       "      <td>0.857647</td>\n",
       "      <td>0.857988</td>\n",
       "      <td>0.081481</td>\n",
       "      <td>0.083333</td>\n",
       "      <td>0.15</td>\n",
       "      <td>0.028386</td>\n",
       "      <td>0.058824</td>\n",
       "      <td>0.166667</td>\n",
       "      <td>0.174838</td>\n",
       "      <td>0.253061</td>\n",
       "      <td>0.00</td>\n",
       "      <td>0.027055</td>\n",
       "      <td>0.028486</td>\n",
       "      <td>0.166667</td>\n",
       "      <td>0.013402</td>\n",
       "    </tr>\n",
       "    <tr>\n",
       "      <th>3</th>\n",
       "      <td>0.141856</td>\n",
       "      <td>0.008150</td>\n",
       "      <td>0.000000</td>\n",
       "      <td>0.000000</td>\n",
       "      <td>0.592941</td>\n",
       "      <td>0.591716</td>\n",
       "      <td>0.005638</td>\n",
       "      <td>0.000000</td>\n",
       "      <td>0.00</td>\n",
       "      <td>0.000000</td>\n",
       "      <td>0.000000</td>\n",
       "      <td>0.138889</td>\n",
       "      <td>0.366214</td>\n",
       "      <td>0.285714</td>\n",
       "      <td>0.25</td>\n",
       "      <td>0.017168</td>\n",
       "      <td>0.327520</td>\n",
       "      <td>0.333333</td>\n",
       "      <td>0.009278</td>\n",
       "    </tr>\n",
       "    <tr>\n",
       "      <th>4</th>\n",
       "      <td>0.192232</td>\n",
       "      <td>0.003467</td>\n",
       "      <td>0.069024</td>\n",
       "      <td>0.034512</td>\n",
       "      <td>0.675294</td>\n",
       "      <td>0.674556</td>\n",
       "      <td>0.002539</td>\n",
       "      <td>0.083333</td>\n",
       "      <td>0.15</td>\n",
       "      <td>0.008392</td>\n",
       "      <td>0.000000</td>\n",
       "      <td>0.194444</td>\n",
       "      <td>0.558771</td>\n",
       "      <td>0.365306</td>\n",
       "      <td>1.00</td>\n",
       "      <td>0.006833</td>\n",
       "      <td>0.019141</td>\n",
       "      <td>0.666667</td>\n",
       "      <td>0.006186</td>\n",
       "    </tr>\n",
       "  </tbody>\n",
       "</table>\n",
       "</div>"
      ],
      "text/plain": [
       "   installment  revol_bal  recoveries  collection_recovery_fee  \\\n",
       "0     0.198883   0.001310    0.000000                 0.000000   \n",
       "1     0.283725   0.015079    0.000000                 0.000000   \n",
       "2     0.295563   0.010022    0.000000                 0.000000   \n",
       "3     0.141856   0.008150    0.000000                 0.000000   \n",
       "4     0.192232   0.003467    0.069024                 0.034512   \n",
       "\n",
       "   last_fico_range_high  last_fico_range_low  tot_cur_bal  open_acc_6m  \\\n",
       "0              0.816471             0.816568     0.001575     0.166667   \n",
       "1              0.928235             0.928994     0.071746     0.000000   \n",
       "2              0.857647             0.857988     0.081481     0.083333   \n",
       "3              0.592941             0.591716     0.005638     0.000000   \n",
       "4              0.675294             0.674556     0.002539     0.083333   \n",
       "\n",
       "   open_il_24m  total_bal_il    inq_fi  acc_open_past_24mths   bc_util  \\\n",
       "0         0.00      0.006050  0.000000              0.194444  0.271707   \n",
       "1         0.00      0.000000  0.000000              0.083333  0.326048   \n",
       "2         0.15      0.028386  0.058824              0.166667  0.174838   \n",
       "3         0.00      0.000000  0.000000              0.138889  0.366214   \n",
       "4         0.15      0.008392  0.000000              0.194444  0.558771   \n",
       "\n",
       "   mo_sin_old_il_acct  percent_bc_gt_75  total_il_high_credit_limit  \\\n",
       "0            0.285714              0.00                    0.015612   \n",
       "1            0.230612              0.00                    0.000000   \n",
       "2            0.253061              0.00                    0.027055   \n",
       "3            0.285714              0.25                    0.017168   \n",
       "4            0.365306              1.00                    0.006833   \n",
       "\n",
       "   last_pymnt_amnt_capped  grade_encoded  annual_inc_std  \n",
       "0                0.019742       0.333333        0.009278  \n",
       "1                0.161972       0.166667        0.009278  \n",
       "2                0.028486       0.166667        0.013402  \n",
       "3                0.327520       0.333333        0.009278  \n",
       "4                0.019141       0.666667        0.006186  "
      ]
     },
     "execution_count": 9,
     "metadata": {},
     "output_type": "execute_result"
    }
   ],
   "source": [
    "from sklearn.preprocessing import MinMaxScaler\n",
    "\n",
    "# Apply Min-Max Scaling (alternative: StandardScaler for z-score normalization)\n",
    "scaler = MinMaxScaler()\n",
    "X_scaled = scaler.fit_transform(X)\n",
    "\n",
    "# Convert back to DataFrame with same column names\n",
    "X_scaled_df = pd.DataFrame(X_scaled, columns=features)\n",
    "X_scaled_df.head()"
   ]
  },
  {
   "cell_type": "markdown",
   "metadata": {
    "id": "hMlGIXWEBLBt"
   },
   "source": [
    "What can you observe now?"
   ]
  },
  {
   "cell_type": "markdown",
   "metadata": {
    "id": "pMUETYxNRBCr"
   },
   "source": [
    "# 3. Building a neural network model\n",
    "\n",
    "We'll use TensorFlow/Keras, and refer to a simple parallel with the brain in the commentary to explain what is going on.."
   ]
  },
  {
   "cell_type": "code",
   "execution_count": 10,
   "metadata": {
    "executionInfo": {
     "elapsed": 239,
     "status": "ok",
     "timestamp": 1740519123155,
     "user": {
      "displayName": "Andrea Baroni",
      "userId": "13443912204230378793"
     },
     "user_tz": 0
    },
    "id": "Fcke8q1eRBCs"
   },
   "outputs": [],
   "source": [
    "from sklearn.model_selection import train_test_split\n",
    "\n",
    "# Split the data into training and testing sets (returns pandas dfs)\n",
    "X_train, X_test, y_train, y_test = train_test_split(X_scaled_df, y, test_size=0.3, random_state=123)"
   ]
  },
  {
   "cell_type": "markdown",
   "metadata": {
    "id": "jTUVajWvBLBv"
   },
   "source": [
    "## 3.1 Starting with a simple architecture\n",
    "\n",
    "### Dense relu -> Dense relu -> Dense sigmoid\n",
    "\n"
   ]
  },
  {
   "cell_type": "code",
   "execution_count": 11,
   "metadata": {
    "colab": {
     "base_uri": "https://localhost:8080/"
    },
    "executionInfo": {
     "elapsed": 51,
     "status": "ok",
     "timestamp": 1740519616717,
     "user": {
      "displayName": "Andrea Baroni",
      "userId": "13443912204230378793"
     },
     "user_tz": 0
    },
    "id": "LcjWbxKoRBCt",
    "outputId": "6cc11a2d-b323-4b8f-a0c9-40a0f70038c4"
   },
   "outputs": [
    {
     "name": "stderr",
     "output_type": "stream",
     "text": [
      "/Users/hvs/miniconda3/envs/alt_text_env/lib/python3.9/site-packages/keras/src/layers/core/dense.py:87: UserWarning: Do not pass an `input_shape`/`input_dim` argument to a layer. When using Sequential models, prefer using an `Input(shape)` object as the first layer in the model instead.\n",
      "  super().__init__(activity_regularizer=activity_regularizer, **kwargs)\n"
     ]
    }
   ],
   "source": [
    "from keras.models import Sequential\n",
    "from keras.layers import Dense\n",
    "\n",
    "# Initialize the model (empty intiially)\n",
    "model = Sequential()\n",
    "\n",
    "# Adding layers to our model, which are like different parts of the brain.\n",
    "# Each layer has \"neurons\" (like tiny decision-makers):\n",
    "\n",
    "# Add the first part of our brain that looks at the data\n",
    "model.add(Dense(16, input_dim=X_scaled_df.shape[1], activation='relu'))\n",
    "\n",
    "# smaller brain part that processes what the first layer has figured out.\n",
    "model.add(Dense(8, activation='relu'))\n",
    "\n",
    "#This is like the brain's decision-making part, where it makes a yes/no decision (like \"Will this person pay back their loan?\").\n",
    "model.add(Dense(1, activation='sigmoid'))\n",
    "\n",
    "# Compile the model\n",
    "model.compile(\n",
    "    optimizer='adam', # like the brain’s coach, guiding it to get better and better at its task\n",
    "    loss='binary_crossentropy', # how the brain measures its mistakes,  for optimisation\n",
    "    metrics=['accuracy', 'Precision', 'Recall', 'AUC']\n",
    "    )"
   ]
  },
  {
   "cell_type": "markdown",
   "metadata": {},
   "source": [
    "#### **Note**: In older tensorflow versions, keras import syntax would have been:\n",
    "```\n",
    "from tensorflow.keras.models import Sequential\n",
    "from tensorflow.keras.layers import Dense\n",
    "```"
   ]
  },
  {
   "cell_type": "code",
   "execution_count": 12,
   "metadata": {
    "colab": {
     "base_uri": "https://localhost:8080/"
    },
    "executionInfo": {
     "elapsed": 10845,
     "status": "ok",
     "timestamp": 1740519630348,
     "user": {
      "displayName": "Andrea Baroni",
      "userId": "13443912204230378793"
     },
     "user_tz": 0
    },
    "id": "lsrq8x40RBCv",
    "outputId": "941b57ce-a1b7-4e09-eec3-9ed4e7e325ba"
   },
   "outputs": [
    {
     "name": "stdout",
     "output_type": "stream",
     "text": [
      "Epoch 1/10\n",
      "\u001b[1m350/350\u001b[0m \u001b[32m━━━━━━━━━━━━━━━━━━━━\u001b[0m\u001b[37m\u001b[0m \u001b[1m1s\u001b[0m 1ms/step - AUC: 0.5825 - Precision: 0.1385 - Recall: 0.2813 - accuracy: 0.6851 - loss: 0.5438 - val_AUC: 0.9450 - val_Precision: 1.0000 - val_Recall: 0.0563 - val_accuracy: 0.8804 - val_loss: 0.2737\n",
      "Epoch 2/10\n",
      "\u001b[1m350/350\u001b[0m \u001b[32m━━━━━━━━━━━━━━━━━━━━\u001b[0m\u001b[37m\u001b[0m \u001b[1m0s\u001b[0m 666us/step - AUC: 0.9440 - Precision: 0.9562 - Recall: 0.2197 - accuracy: 0.9029 - loss: 0.2335 - val_AUC: 0.9546 - val_Precision: 0.8954 - val_Recall: 0.6028 - val_accuracy: 0.9407 - val_loss: 0.1799\n",
      "Epoch 3/10\n",
      "\u001b[1m350/350\u001b[0m \u001b[32m━━━━━━━━━━━━━━━━━━━━\u001b[0m\u001b[37m\u001b[0m \u001b[1m0s\u001b[0m 654us/step - AUC: 0.9634 - Precision: 0.9315 - Recall: 0.5829 - accuracy: 0.9424 - loss: 0.1562 - val_AUC: 0.9744 - val_Precision: 0.9548 - val_Recall: 0.5944 - val_accuracy: 0.9450 - val_loss: 0.1411\n",
      "Epoch 4/10\n",
      "\u001b[1m350/350\u001b[0m \u001b[32m━━━━━━━━━━━━━━━━━━━━\u001b[0m\u001b[37m\u001b[0m \u001b[1m0s\u001b[0m 656us/step - AUC: 0.9697 - Precision: 0.9480 - Recall: 0.6070 - accuracy: 0.9509 - loss: 0.1299 - val_AUC: 0.9805 - val_Precision: 0.9409 - val_Recall: 0.6732 - val_accuracy: 0.9532 - val_loss: 0.1237\n",
      "Epoch 5/10\n",
      "\u001b[1m350/350\u001b[0m \u001b[32m━━━━━━━━━━━━━━━━━━━━\u001b[0m\u001b[37m\u001b[0m \u001b[1m0s\u001b[0m 657us/step - AUC: 0.9744 - Precision: 0.9339 - Recall: 0.6792 - accuracy: 0.9545 - loss: 0.1231 - val_AUC: 0.9845 - val_Precision: 0.9615 - val_Recall: 0.7042 - val_accuracy: 0.9589 - val_loss: 0.1116\n",
      "Epoch 6/10\n",
      "\u001b[1m350/350\u001b[0m \u001b[32m━━━━━━━━━━━━━━━━━━━━\u001b[0m\u001b[37m\u001b[0m \u001b[1m0s\u001b[0m 647us/step - AUC: 0.9772 - Precision: 0.9505 - Recall: 0.7063 - accuracy: 0.9593 - loss: 0.1124 - val_AUC: 0.9862 - val_Precision: 0.9618 - val_Recall: 0.7099 - val_accuracy: 0.9596 - val_loss: 0.1040\n",
      "Epoch 7/10\n",
      "\u001b[1m350/350\u001b[0m \u001b[32m━━━━━━━━━━━━━━━━━━━━\u001b[0m\u001b[37m\u001b[0m \u001b[1m0s\u001b[0m 663us/step - AUC: 0.9805 - Precision: 0.9429 - Recall: 0.7211 - accuracy: 0.9618 - loss: 0.1028 - val_AUC: 0.9871 - val_Precision: 0.9604 - val_Recall: 0.7521 - val_accuracy: 0.9646 - val_loss: 0.0988\n",
      "Epoch 8/10\n",
      "\u001b[1m350/350\u001b[0m \u001b[32m━━━━━━━━━━━━━━━━━━━━\u001b[0m\u001b[37m\u001b[0m \u001b[1m0s\u001b[0m 657us/step - AUC: 0.9819 - Precision: 0.9423 - Recall: 0.7424 - accuracy: 0.9621 - loss: 0.1011 - val_AUC: 0.9876 - val_Precision: 0.9725 - val_Recall: 0.6986 - val_accuracy: 0.9593 - val_loss: 0.1006\n",
      "Epoch 9/10\n",
      "\u001b[1m350/350\u001b[0m \u001b[32m━━━━━━━━━━━━━━━━━━━━\u001b[0m\u001b[37m\u001b[0m \u001b[1m0s\u001b[0m 650us/step - AUC: 0.9800 - Precision: 0.9411 - Recall: 0.7362 - accuracy: 0.9618 - loss: 0.1021 - val_AUC: 0.9879 - val_Precision: 0.9695 - val_Recall: 0.7155 - val_accuracy: 0.9611 - val_loss: 0.0985\n",
      "Epoch 10/10\n",
      "\u001b[1m350/350\u001b[0m \u001b[32m━━━━━━━━━━━━━━━━━━━━\u001b[0m\u001b[37m\u001b[0m \u001b[1m0s\u001b[0m 924us/step - AUC: 0.9842 - Precision: 0.9316 - Recall: 0.7477 - accuracy: 0.9625 - loss: 0.0942 - val_AUC: 0.9882 - val_Precision: 0.9647 - val_Recall: 0.7690 - val_accuracy: 0.9671 - val_loss: 0.0910\n"
     ]
    }
   ],
   "source": [
    "# Train the model\n",
    "history = model.fit(X_train, y_train, epochs=10, batch_size=32, validation_split=0.2 )\n"
   ]
  },
  {
   "cell_type": "markdown",
   "metadata": {
    "id": "mZ306jNCRBCw"
   },
   "source": [
    "#### What is going on here?\n",
    "-   **Epochs (10):** The brain goes through all the data 10 times, learning a bit more with each pass.  \n",
    "-   **Batch Size (32):** The brain practices on 32 examples at a time.\n",
    "-   **Validation Split (0.2):** We set aside 20% of the data to test the brain and see how well it's learning."
   ]
  },
  {
   "cell_type": "code",
   "execution_count": 13,
   "metadata": {
    "colab": {
     "base_uri": "https://localhost:8080/"
    },
    "executionInfo": {
     "elapsed": 234,
     "status": "ok",
     "timestamp": 1740519630584,
     "user": {
      "displayName": "Andrea Baroni",
      "userId": "13443912204230378793"
     },
     "user_tz": 0
    },
    "id": "uWjAyyThRBCx",
    "outputId": "0a46036b-0755-4f84-c090-82348a101764"
   },
   "outputs": [
    {
     "name": "stdout",
     "output_type": "stream",
     "text": [
      "\u001b[1m188/188\u001b[0m \u001b[32m━━━━━━━━━━━━━━━━━━━━\u001b[0m\u001b[37m\u001b[0m \u001b[1m0s\u001b[0m 333us/step\n"
     ]
    }
   ],
   "source": [
    "# How does this compare to model built in previous sessions?\n",
    "\n",
    "# Make predictions\n",
    "y_prob = model.predict(X_test)\n",
    "y_pred = (y_prob > 0.5)\n"
   ]
  },
  {
   "cell_type": "code",
   "execution_count": 14,
   "metadata": {
    "colab": {
     "base_uri": "https://localhost:8080/",
     "height": 376
    },
    "executionInfo": {
     "elapsed": 136,
     "status": "error",
     "timestamp": 1740522902260,
     "user": {
      "displayName": "Andrea Baroni",
      "userId": "13443912204230378793"
     },
     "user_tz": 0
    },
    "id": "g1oZYaQdRBCx",
    "outputId": "83c4fc24-cadd-41e8-b06a-b5ad9111598a"
   },
   "outputs": [
    {
     "name": "stdout",
     "output_type": "stream",
     "text": [
      "Accuracy: 0.9685\n",
      "Precision: 0.9620034542314335\n",
      "Recall: 0.7693370165745856\n",
      "F1-Score: 0.8549501151189562\n",
      "ROC-AUC: 0.9875486409845061\n",
      "Confusion Matrix:\n",
      "[[5254   22]\n",
      " [ 167  557]]\n"
     ]
    }
   ],
   "source": [
    "from dsif6utility import model_evaluation_report\n",
    "model_evaluation_report(X_test, y_test, y_pred, y_prob)"
   ]
  },
  {
   "cell_type": "markdown",
   "metadata": {
    "id": "lkb3l-QQBLB2"
   },
   "source": [
    "### Interpreting outputs produced\n",
    "Let's look at the probability scores produced:"
   ]
  },
  {
   "cell_type": "code",
   "execution_count": 15,
   "metadata": {
    "id": "YVNVrIeOBLB2",
    "outputId": "dced0102-dcf2-433b-fb1e-f9f020249704"
   },
   "outputs": [
    {
     "data": {
      "text/plain": [
       "count   6000.00\n",
       "mean       0.12\n",
       "std        0.28\n",
       "min        0.00\n",
       "0%         0.00\n",
       "1%         0.00\n",
       "10%        0.00\n",
       "25%        0.00\n",
       "50%        0.01\n",
       "75%        0.04\n",
       "90%        0.44\n",
       "95%        1.00\n",
       "99%        1.00\n",
       "100%       1.00\n",
       "max        1.00\n",
       "Name: prob, dtype: float64"
      ]
     },
     "execution_count": 15,
     "metadata": {},
     "output_type": "execute_result"
    }
   ],
   "source": [
    "# Set float format to 2 decimal places\n",
    "pd.options.display.float_format = '{:.2f}'.format\n",
    "\n",
    "y_prob = pd.DataFrame(y_prob, columns=[\"prob\"])\n",
    "y_prob.prob.describe(percentiles = [i / 100 for i in [0, 1, 10, 25, 50, 75, 90, 95, 99, 100]])"
   ]
  },
  {
   "cell_type": "markdown",
   "metadata": {
    "id": "XrNgPNkeBLB3"
   },
   "source": [
    "### <span style=\"color:BLUE\"> **>>> DISCUSSION:**  </span>    \n",
    "> What do you notice?"
   ]
  },
  {
   "cell_type": "markdown",
   "metadata": {
    "id": "ZKt1484CBLB5"
   },
   "source": [
    "To achieve a wider range of probabilities in your neural network output, you can consider the following modifications:\n",
    "\n",
    "**Change the output layer activation function**\n",
    "If your task requires predicting probabilities for multiple classes, use the `softmax` activation function instead of `sigmoid`. For binary classification, `sigmoid` is appropriate, but if you're observing outputs mostly at the extremes (0 or 1), consider adjusting the model complexity.\n",
    "\n",
    "**Increase model complexity**\n",
    "You can add more layers or increase the number of neurons in the existing layers to allow the model to learn more complex patterns.\n",
    "\n",
    "**Regularization techniques**\n",
    "Consider adding dropout layers to prevent overfitting, which can sometimes lead to extreme outputs.\n",
    "\n",
    "**Adjust the loss function**\n",
    "If your output is indeed binary but you want probabilities that are not strictly 0 or 1, ensure that you balance your dataset or adjust class weights during training."
   ]
  },
  {
   "cell_type": "markdown",
   "metadata": {
    "id": "MVy9rlghBLB5"
   },
   "source": [
    "## 3.2 Some pointers/examples for NNs architectures\n"
   ]
  },
  {
   "cell_type": "markdown",
   "metadata": {
    "id": "YGlp_nggBLB6"
   },
   "source": [
    "The following table includes a brief description of each architecture's structure and its rationale, providing a clearer understanding of why each architecture is suited for its respective use case.\n",
    "\n",
    "| Neural Network Type | Structure | Use Case | Links | Description |\n",
    "| --- | --- | --- | --- | --- |\n",
    "| **Basic Feedforward Neural Network** | Dense (ReLU) → Dense (ReLU) → Dense (Sigmoid) | Binary Classification | [Sonar, Mines vs. Rocks example](https://machinelearningmastery.com/binary-classification-tutorial-with-the-keras-deep-learning-library/) | Simple architecture for binary classification; fully connected layers enable learning complex relationships. |\n",
    "| **Simple Neural Network for Classification** | Dense (ReLU) → Dense (Softmax) | Multi-Class Classification | [Iris Dataset example](https://lnwatson.co.uk/posts/intro_to_nn/) | Designed for multi-class classification; softmax activation allows for probability distribution across multiple classes. |\n",
    "| **Convolutional Neural Network (CNN)** | Conv2D (ReLU) → flatten → Dense (Softmax) | Image Classification | [mnist image recognition example](https://towardsdatascience.com/building-a-convolutional-neural-network-cnn-in-keras-329fbbadc5f5) | Effective for image data; convolutional layers capture spatial hierarchies, while pooling reduces dimensionality. |\n",
    "| **Recurrent Neural Network (RNN)** | LSTM → Dense (Sigmoid) | Time Series Prediction | [lstm for time series example](https://machinelearningmastery.com/time-series-prediction-lstm-recurrent-neural-networks-python-keras/) | Suitable for sequential data; LSTMs manage long-term dependencies in time series or text inputs. |\n",
    "| **Autoencoder** | Dense (ReLU) → Dense (ReLU) → Dense (Bottleneck) → Dense (ReLU) → Dense (Sigmoid) | Unsupervised Learning, Feature Extraction, Fraud detection | [Autoencoders example](https://blog.keras.io/building-autoencoders-in-keras.html) | Unsupervised learning for feature extraction; compresses input data into a lower-dimensional representation. |\n",
    "| **Generative Adversarial Network (GAN)** | Dense (ReLU) → Dense (Output) (Generator) and Dense (ReLU) → Dense (Output) (Discriminator) | Synthetic data generation, Fraud detection | [GANs example](https://medium.com/@marcodelpra/generative-adversarial-networks-dba10e1b4424) | Two competing networks create new data; the generator learns to produce realistic samples while the discriminator assesses them. |\n"
   ]
  },
  {
   "cell_type": "markdown",
   "metadata": {
    "id": "3kcET8G1BLB6"
   },
   "source": [
    "## 3.3 Calculating sample size required - Rule of thumb\n",
    "\n",
    "**Rule of 10**, namely the amount of training data you need for a well performing model is 10x the number of parameters in the model. ([source](https://malay-haldar.medium.com/how-much-training-data-do-you-need-da8ec091e956#:~:text=This%20leads%20us%20to%20the,of%20parameters%20in%20the%20model.))\n",
    "\n",
    "To determine the appropriate sample size based on the rule of 10, we first need to calculate the total number of parameters in your model. Here's how to do that step-by-step:\n",
    "\n",
    "### i \\. **Calculate Parameters for Each Layer**\n",
    "\n",
    "For a `Dense` layer, the number of parameters can be calculated as:\n",
    "\n",
    "Parameters=(number of inputs+1)×(number of neurons)\n",
    "\n",
    "-   **Input Layer:** The first layer has `input_dim` neurons, which is the number of features in your dataset.\n",
    "-   **Hidden Layer 1:** Has 16 neurons.\n",
    "-   **Hidden Layer 2:** Has 8 neurons.\n",
    "-   **Output Layer:** Has 1 neuron.\n",
    "\n",
    "### ii \\. **Calculate the Total Parameters**\n",
    "\n",
    "Assuming your input has n features:\n",
    "\n",
    "-   **First Layer:** (n+1)×16  \n",
    "-   **Second Layer:** (16+1)×8= 136  \n",
    "-   **Output Layer:** (8+1)×1= 9  \n",
    "\n",
    "### iii \\. **Putting It Together**\n",
    "\n",
    "#### Total Parameters:  \n",
    "To ensure a well-performing model, your sample size should be at least:  \n",
    "\n",
    "Sample Size = 10 * [(n+1)×16 + 136 + 9]\n",
    "\n",
    "\n",
    "\n",
    "### Example Calculation\n",
    "\n",
    "If you have, for example, 20 features:\n",
    "\n",
    "Sample Size = 10 * [(20+1)×16 + 136 + 9] = 4810\n",
    "\n",
    "So, if your input has 20 features, you should aim for at least **4810 samples** for training your model. Adjust the calculation based on the actual number of features in your dataset."
   ]
  },
  {
   "cell_type": "markdown",
   "metadata": {
    "id": "OBRyKZrpRBCy"
   },
   "source": [
    "## 3.4 Detecting and dealing with overfitting in NNs"
   ]
  },
  {
   "cell_type": "code",
   "execution_count": 16,
   "metadata": {},
   "outputs": [
    {
     "data": {
      "text/plain": [
       "[0.9449823498725891,\n",
       " 0.954590916633606,\n",
       " 0.9743944406509399,\n",
       " 0.980472981929779,\n",
       " 0.9844915270805359,\n",
       " 0.9862369894981384,\n",
       " 0.9870802164077759,\n",
       " 0.9875808358192444,\n",
       " 0.9879305362701416,\n",
       " 0.9881811141967773]"
      ]
     },
     "execution_count": 16,
     "metadata": {},
     "output_type": "execute_result"
    }
   ],
   "source": [
    "history.history['val_AUC']"
   ]
  },
  {
   "cell_type": "code",
   "execution_count": 17,
   "metadata": {
    "colab": {
     "base_uri": "https://localhost:8080/",
     "height": 843
    },
    "executionInfo": {
     "elapsed": 514,
     "status": "ok",
     "timestamp": 1740520026356,
     "user": {
      "displayName": "Andrea Baroni",
      "userId": "13443912204230378793"
     },
     "user_tz": 0
    },
    "id": "teSV1hkeBLB7",
    "outputId": "099ea902-f019-4ca1-aca2-f887289ccb35"
   },
   "outputs": [
    {
     "data": {
      "image/png": "[encoded data removed]",
      "text/plain": [
       "<Figure size 640x480 with 1 Axes>"
      ]
     },
     "metadata": {},
     "output_type": "display_data"
    },
    {
     "data": {
      "image/png": "[encoded data removed]",
      "text/plain": [
       "<Figure size 640x480 with 1 Axes>"
      ]
     },
     "metadata": {},
     "output_type": "display_data"
    }
   ],
   "source": [
    "def plot_training_vs_overfitting(history):\n",
    "    \"\"\"Plot training and validation accuracy to detect overfitting (when gap between 2 is detected)\"\"\"\n",
    "    import matplotlib.pyplot as plt\n",
    "\n",
    "    # Plot accuracy\n",
    "    plt.plot(history.history['accuracy'], label='Train Accuracy')\n",
    "    plt.plot(history.history['val_accuracy'], label='Validation Accuracy')\n",
    "    plt.legend()\n",
    "    plt.show()\n",
    "\n",
    "    # Plot loss\n",
    "    plt.plot(history.history['loss'], label='Train Loss')\n",
    "    plt.plot(history.history['val_loss'], label='Validation Loss')\n",
    "    plt.legend()\n",
    "    plt.show()\n",
    "\n",
    "plot_training_vs_overfitting(history)"
   ]
  },
  {
   "cell_type": "markdown",
   "metadata": {
    "id": "sB5O49e8RBCy"
   },
   "source": [
    "### <span style=\"color:BLUE\"> **>>> DISCUSSION:**  </span>    \n",
    "> How can we see if there is any suspected overfitting?"
   ]
  },
  {
   "cell_type": "markdown",
   "metadata": {
    "id": "yVNBm7N_BLB-"
   },
   "source": [
    "### Common techniques to deal with overfitting:\n",
    "\n",
    "#### i\\. **Add a Dropout Layer**\n",
    "\n",
    "Dropout is a regularization technique that randomly \"drops out\" a fraction of the neurons during training, forcing the model to learn more robust features.\n"
   ]
  },
  {
   "cell_type": "code",
   "execution_count": 18,
   "metadata": {
    "colab": {
     "base_uri": "https://localhost:8080/"
    },
    "executionInfo": {
     "elapsed": 68,
     "status": "ok",
     "timestamp": 1740520029104,
     "user": {
      "displayName": "Andrea Baroni",
      "userId": "13443912204230378793"
     },
     "user_tz": 0
    },
    "id": "3z0wQFDaBLB-",
    "outputId": "2e3516ae-c486-40d4-871d-d048b7d2ea29"
   },
   "outputs": [
    {
     "name": "stderr",
     "output_type": "stream",
     "text": [
      "/Users/hvs/miniconda3/envs/alt_text_env/lib/python3.9/site-packages/keras/src/layers/core/dense.py:87: UserWarning: Do not pass an `input_shape`/`input_dim` argument to a layer. When using Sequential models, prefer using an `Input(shape)` object as the first layer in the model instead.\n",
      "  super().__init__(activity_regularizer=activity_regularizer, **kwargs)\n"
     ]
    }
   ],
   "source": [
    "from keras.layers import Dropout\n",
    "\n",
    "# Initialize the model\n",
    "model2 = Sequential()\n",
    "\n",
    "# First hidden layer with Dropout\n",
    "model2.add(Dense(16, input_dim=X_scaled_df.shape[1], activation='relu'))\n",
    "model2.add(Dropout(0.5))  # Drop 50% of neurons\n",
    "\n",
    "# Second hidden layer with Dropout\n",
    "model2.add(Dense(8, activation='relu'))\n",
    "model2.add(Dropout(0.5))  # Drop 50% of neurons\n",
    "\n",
    "# Output layer\n",
    "model2.add(Dense(1, activation='sigmoid'))\n",
    "\n",
    "# Compile the model\n",
    "model2.compile(\n",
    "    optimizer='adam',\n",
    "    loss='binary_crossentropy',\n",
    "    metrics=['accuracy', 'Precision', 'Recall', 'AUC']\n",
    ")"
   ]
  },
  {
   "cell_type": "code",
   "execution_count": 19,
   "metadata": {
    "id": "NIAz_RsOBLB-",
    "outputId": "2e441fc5-5cbd-4400-88b1-a8d1f631c061"
   },
   "outputs": [
    {
     "name": "stdout",
     "output_type": "stream",
     "text": [
      "Epoch 1/10\n",
      "\u001b[1m350/350\u001b[0m \u001b[32m━━━━━━━━━━━━━━━━━━━━\u001b[0m\u001b[37m\u001b[0m \u001b[1m1s\u001b[0m 1ms/step - AUC: 0.5295 - Precision: 0.1061 - Recall: 0.1438 - accuracy: 0.7449 - loss: 0.5471 - val_AUC: 0.8664 - val_Precision: 0.0000e+00 - val_Recall: 0.0000e+00 - val_accuracy: 0.8732 - val_loss: 0.3219\n",
      "Epoch 2/10\n",
      "\u001b[1m350/350\u001b[0m \u001b[32m━━━━━━━━━━━━━━━━━━━━\u001b[0m\u001b[37m\u001b[0m \u001b[1m0s\u001b[0m 675us/step - AUC: 0.6910 - Precision: 0.1715 - Recall: 0.0024 - accuracy: 0.8785 - loss: 0.3626 - val_AUC: 0.9053 - val_Precision: 0.0000e+00 - val_Recall: 0.0000e+00 - val_accuracy: 0.8732 - val_loss: 0.2713\n",
      "Epoch 3/10\n",
      "\u001b[1m350/350\u001b[0m \u001b[32m━━━━━━━━━━━━━━━━━━━━\u001b[0m\u001b[37m\u001b[0m \u001b[1m0s\u001b[0m 686us/step - AUC: 0.7899 - Precision: 0.7264 - Recall: 0.0475 - accuracy: 0.8850 - loss: 0.3087 - val_AUC: 0.9382 - val_Precision: 0.9744 - val_Recall: 0.2141 - val_accuracy: 0.8996 - val_loss: 0.2244\n",
      "Epoch 4/10\n",
      "\u001b[1m350/350\u001b[0m \u001b[32m━━━━━━━━━━━━━━━━━━━━\u001b[0m\u001b[37m\u001b[0m \u001b[1m0s\u001b[0m 689us/step - AUC: 0.8529 - Precision: 0.7716 - Recall: 0.2203 - accuracy: 0.8977 - loss: 0.2738 - val_AUC: 0.9560 - val_Precision: 0.9441 - val_Recall: 0.4282 - val_accuracy: 0.9243 - val_loss: 0.1924\n",
      "Epoch 5/10\n",
      "\u001b[1m350/350\u001b[0m \u001b[32m━━━━━━━━━━━━━━━━━━━━\u001b[0m\u001b[37m\u001b[0m \u001b[1m0s\u001b[0m 683us/step - AUC: 0.8868 - Precision: 0.7944 - Recall: 0.3082 - accuracy: 0.9088 - loss: 0.2411 - val_AUC: 0.9686 - val_Precision: 0.9427 - val_Recall: 0.5099 - val_accuracy: 0.9339 - val_loss: 0.1706\n",
      "Epoch 6/10\n",
      "\u001b[1m350/350\u001b[0m \u001b[32m━━━━━━━━━━━━━━━━━━━━\u001b[0m\u001b[37m\u001b[0m \u001b[1m0s\u001b[0m 682us/step - AUC: 0.9051 - Precision: 0.8553 - Recall: 0.4068 - accuracy: 0.9183 - loss: 0.2247 - val_AUC: 0.9759 - val_Precision: 0.9646 - val_Recall: 0.5380 - val_accuracy: 0.9389 - val_loss: 0.1593\n",
      "Epoch 7/10\n",
      "\u001b[1m350/350\u001b[0m \u001b[32m━━━━━━━━━━━━━━━━━━━━\u001b[0m\u001b[37m\u001b[0m \u001b[1m0s\u001b[0m 691us/step - AUC: 0.9145 - Precision: 0.8623 - Recall: 0.4263 - accuracy: 0.9182 - loss: 0.2186 - val_AUC: 0.9788 - val_Precision: 0.9550 - val_Recall: 0.5972 - val_accuracy: 0.9454 - val_loss: 0.1422\n",
      "Epoch 8/10\n",
      "\u001b[1m350/350\u001b[0m \u001b[32m━━━━━━━━━━━━━━━━━━━━\u001b[0m\u001b[37m\u001b[0m \u001b[1m0s\u001b[0m 687us/step - AUC: 0.9293 - Precision: 0.8460 - Recall: 0.4989 - accuracy: 0.9281 - loss: 0.1934 - val_AUC: 0.9820 - val_Precision: 0.9345 - val_Recall: 0.7239 - val_accuracy: 0.9586 - val_loss: 0.1263\n",
      "Epoch 9/10\n",
      "\u001b[1m350/350\u001b[0m \u001b[32m━━━━━━━━━━━━━━━━━━━━\u001b[0m\u001b[37m\u001b[0m \u001b[1m0s\u001b[0m 683us/step - AUC: 0.9368 - Precision: 0.8531 - Recall: 0.5093 - accuracy: 0.9315 - loss: 0.1816 - val_AUC: 0.9833 - val_Precision: 0.9544 - val_Recall: 0.7070 - val_accuracy: 0.9586 - val_loss: 0.1221\n",
      "Epoch 10/10\n",
      "\u001b[1m350/350\u001b[0m \u001b[32m━━━━━━━━━━━━━━━━━━━━\u001b[0m\u001b[37m\u001b[0m \u001b[1m0s\u001b[0m 691us/step - AUC: 0.9444 - Precision: 0.8695 - Recall: 0.5399 - accuracy: 0.9308 - loss: 0.1815 - val_AUC: 0.9850 - val_Precision: 0.9557 - val_Recall: 0.7296 - val_accuracy: 0.9614 - val_loss: 0.1132\n"
     ]
    },
    {
     "data": {
      "image/png": "[encoded data removed]",
      "text/plain": [
       "<Figure size 640x480 with 1 Axes>"
      ]
     },
     "metadata": {},
     "output_type": "display_data"
    },
    {
     "data": {
      "image/png": "[encoded data removed]",
      "text/plain": [
       "<Figure size 640x480 with 1 Axes>"
      ]
     },
     "metadata": {},
     "output_type": "display_data"
    }
   ],
   "source": [
    "# Train the model\n",
    "history2 = model2.fit(X_train, y_train, epochs=10, batch_size=32, validation_split=0.2)\n",
    "plot_training_vs_overfitting(history2)"
   ]
  },
  {
   "cell_type": "markdown",
   "metadata": {},
   "source": [
    "#### Interpretation\n",
    "- Dropout randomly drops neurons during training, forcing the model to learn more robust representations.\n",
    "- During training, this makes it harder for the network to memorize patterns, leading to lower training accuracy.\n",
    "- However, at validation time, dropout is turned off, meaning the full network is used, allowing the model to make better predictions with all neurons active.\n"
   ]
  },
  {
   "cell_type": "markdown",
   "metadata": {
    "id": "oKG0Oac6BLCA"
   },
   "source": [
    "#### 2\\. **Early Stopping**\n",
    "\n",
    "Early stopping halts training once the performance on the validation data stops improving. This prevents the model from overfitting after a certain point.\n"
   ]
  },
  {
   "cell_type": "code",
   "execution_count": 20,
   "metadata": {
    "id": "BpkJJXGmBLCB",
    "outputId": "ee35a879-273f-4bfb-e519-1fea5161b580"
   },
   "outputs": [
    {
     "name": "stdout",
     "output_type": "stream",
     "text": [
      "Epoch 1/100\n",
      "\u001b[1m438/438\u001b[0m \u001b[32m━━━━━━━━━━━━━━━━━━━━\u001b[0m\u001b[37m\u001b[0m \u001b[1m1s\u001b[0m 780us/step - AUC: 0.9824 - Precision: 0.9521 - Recall: 0.7732 - accuracy: 0.9666 - loss: 0.0955 - val_AUC: 0.9877 - val_Precision: 0.9323 - val_Recall: 0.7983 - val_accuracy: 0.9687 - val_loss: 0.0842\n",
      "Epoch 2/100\n",
      "\u001b[1m438/438\u001b[0m \u001b[32m━━━━━━━━━━━━━━━━━━━━\u001b[0m\u001b[37m\u001b[0m \u001b[1m0s\u001b[0m 736us/step - AUC: 0.9845 - Precision: 0.9416 - Recall: 0.7838 - accuracy: 0.9672 - loss: 0.0919 - val_AUC: 0.9880 - val_Precision: 0.9487 - val_Recall: 0.7914 - val_accuracy: 0.9697 - val_loss: 0.0820\n",
      "Epoch 3/100\n",
      "\u001b[1m438/438\u001b[0m \u001b[32m━━━━━━━━━━━━━━━━━━━━\u001b[0m\u001b[37m\u001b[0m \u001b[1m0s\u001b[0m 908us/step - AUC: 0.9837 - Precision: 0.9350 - Recall: 0.7872 - accuracy: 0.9670 - loss: 0.0918 - val_AUC: 0.9883 - val_Precision: 0.9145 - val_Recall: 0.8273 - val_accuracy: 0.9698 - val_loss: 0.0814\n",
      "Epoch 4/100\n",
      "\u001b[1m438/438\u001b[0m \u001b[32m━━━━━━━━━━━━━━━━━━━━\u001b[0m\u001b[37m\u001b[0m \u001b[1m0s\u001b[0m 739us/step - AUC: 0.9859 - Precision: 0.9325 - Recall: 0.8028 - accuracy: 0.9679 - loss: 0.0860 - val_AUC: 0.9886 - val_Precision: 0.9359 - val_Recall: 0.8066 - val_accuracy: 0.9700 - val_loss: 0.0789\n"
     ]
    },
    {
     "data": {
      "image/png": "[encoded data removed]",
      "text/plain": [
       "<Figure size 640x480 with 1 Axes>"
      ]
     },
     "metadata": {},
     "output_type": "display_data"
    },
    {
     "data": {
      "image/png": "[encoded data removed]",
      "text/plain": [
       "<Figure size 640x480 with 1 Axes>"
      ]
     },
     "metadata": {},
     "output_type": "display_data"
    }
   ],
   "source": [
    "from keras.callbacks import EarlyStopping\n",
    "\n",
    "# Early stopping to prevent overfitting\n",
    "early_stopping = EarlyStopping(\n",
    "    monitor='val_Precision',  # Evaluation metric to watch\n",
    "    mode='max',\n",
    "    patience=2,               # Stop if no improvement after <X> epochs\n",
    "    restore_best_weights=True  # Restore the model weights at the best epoch\n",
    ")\n",
    "\n",
    "# Train with early stopping\n",
    "history3 = model.fit(\n",
    "    X_train, y_train,\n",
    "    validation_data=(X_test, y_test),\n",
    "    epochs=100,\n",
    "    batch_size=32,\n",
    "    validation_split=0.2,\n",
    "    callbacks=[early_stopping]\n",
    ")\n",
    "plot_training_vs_overfitting(history3)"
   ]
  },
  {
   "cell_type": "markdown",
   "metadata": {
    "id": "ShGREeq4BLCW"
   },
   "source": [
    "#### 3\\. **Reduce Model Complexity**\n",
    "Sometimes, your model may be too complex (too many layers or neurons). You can simplify it by reducing the number of hidden layers or neurons per layer.\n",
    "\n",
    "#### 4\\. **Data Augmentation**\n",
    "If possible, increase the amount of training data by augmenting it. More data can help the model generalize better, especially in tasks like image recognition (though it's less applicable for tabular data).\n",
    "\n",
    "#### 5\\. **Regularization (L2)**\n",
    "L2 regularization (also called weight decay) adds a penalty for large weights, which helps prevent overfitting.\n"
   ]
  },
  {
   "cell_type": "code",
   "execution_count": 21,
   "metadata": {
    "id": "QpNxBGByBLCX"
   },
   "outputs": [
    {
     "name": "stderr",
     "output_type": "stream",
     "text": [
      "/Users/hvs/miniconda3/envs/alt_text_env/lib/python3.9/site-packages/keras/src/layers/core/dense.py:87: UserWarning: Do not pass an `input_shape`/`input_dim` argument to a layer. When using Sequential models, prefer using an `Input(shape)` object as the first layer in the model instead.\n",
      "  super().__init__(activity_regularizer=activity_regularizer, **kwargs)\n"
     ]
    }
   ],
   "source": [
    "from keras.regularizers import l2\n",
    "\n",
    "# Add L2 regularization to the model\n",
    "model4 = Sequential()\n",
    "model4.add(Dense(16, input_dim=X_scaled_df.shape[1], activation='relu', kernel_regularizer=l2(0.01)))\n",
    "model4.add(Dense(8, activation='relu', kernel_regularizer=l2(0.01)))\n",
    "model4.add(Dense(1, activation='sigmoid'))\n",
    "\n",
    "model4.compile(optimizer='adam', loss='binary_crossentropy', metrics=['accuracy', 'Precision', 'Recall', 'AUC'])\n"
   ]
  },
  {
   "cell_type": "code",
   "execution_count": 22,
   "metadata": {
    "id": "kD1lE2GsBLCX",
    "outputId": "8893e5fc-be44-4810-c777-87154bbce537"
   },
   "outputs": [
    {
     "name": "stdout",
     "output_type": "stream",
     "text": [
      "Epoch 1/10\n",
      "\u001b[1m350/350\u001b[0m \u001b[32m━━━━━━━━━━━━━━━━━━━━\u001b[0m\u001b[37m\u001b[0m \u001b[1m1s\u001b[0m 1ms/step - AUC: 0.5482 - Precision: 0.0867 - Recall: 0.1680 - accuracy: 0.6993 - loss: 0.7562 - val_AUC: 0.9716 - val_Precision: 0.0000e+00 - val_Recall: 0.0000e+00 - val_accuracy: 0.8732 - val_loss: 0.4228\n",
      "Epoch 2/10\n",
      "\u001b[1m350/350\u001b[0m \u001b[32m━━━━━━━━━━━━━━━━━━━━\u001b[0m\u001b[37m\u001b[0m \u001b[1m0s\u001b[0m 664us/step - AUC: 0.9566 - Precision: 0.0000e+00 - Recall: 0.0000e+00 - accuracy: 0.8758 - loss: 0.3994 - val_AUC: 0.9478 - val_Precision: 1.0000 - val_Recall: 0.0141 - val_accuracy: 0.8750 - val_loss: 0.3580\n",
      "Epoch 3/10\n",
      "\u001b[1m350/350\u001b[0m \u001b[32m━━━━━━━━━━━━━━━━━━━━\u001b[0m\u001b[37m\u001b[0m \u001b[1m0s\u001b[0m 670us/step - AUC: 0.9415 - Precision: 0.8877 - Recall: 0.0322 - accuracy: 0.8858 - loss: 0.3344 - val_AUC: 0.9410 - val_Precision: 0.9512 - val_Recall: 0.2197 - val_accuracy: 0.8996 - val_loss: 0.3174\n",
      "Epoch 4/10\n",
      "\u001b[1m350/350\u001b[0m \u001b[32m━━━━━━━━━━━━━━━━━━━━\u001b[0m\u001b[37m\u001b[0m \u001b[1m0s\u001b[0m 666us/step - AUC: 0.9487 - Precision: 0.9254 - Recall: 0.1964 - accuracy: 0.9030 - loss: 0.2987 - val_AUC: 0.9518 - val_Precision: 0.9407 - val_Recall: 0.3577 - val_accuracy: 0.9157 - val_loss: 0.2897\n",
      "Epoch 5/10\n",
      "\u001b[1m350/350\u001b[0m \u001b[32m━━━━━━━━━━━━━━━━━━━━\u001b[0m\u001b[37m\u001b[0m \u001b[1m0s\u001b[0m 684us/step - AUC: 0.9526 - Precision: 0.9264 - Recall: 0.3019 - accuracy: 0.9140 - loss: 0.2795 - val_AUC: 0.9645 - val_Precision: 0.9388 - val_Recall: 0.3887 - val_accuracy: 0.9193 - val_loss: 0.2699\n",
      "Epoch 6/10\n",
      "\u001b[1m350/350\u001b[0m \u001b[32m━━━━━━━━━━━━━━━━━━━━\u001b[0m\u001b[37m\u001b[0m \u001b[1m0s\u001b[0m 664us/step - AUC: 0.9638 - Precision: 0.9181 - Recall: 0.4117 - accuracy: 0.9231 - loss: 0.2609 - val_AUC: 0.9701 - val_Precision: 0.9367 - val_Recall: 0.4169 - val_accuracy: 0.9225 - val_loss: 0.2559\n",
      "Epoch 7/10\n",
      "\u001b[1m350/350\u001b[0m \u001b[32m━━━━━━━━━━━━━━━━━━━━\u001b[0m\u001b[37m\u001b[0m \u001b[1m0s\u001b[0m 675us/step - AUC: 0.9698 - Precision: 0.9160 - Recall: 0.4558 - accuracy: 0.9270 - loss: 0.2480 - val_AUC: 0.9738 - val_Precision: 0.9149 - val_Recall: 0.4845 - val_accuracy: 0.9289 - val_loss: 0.2462\n",
      "Epoch 8/10\n",
      "\u001b[1m350/350\u001b[0m \u001b[32m━━━━━━━━━━━━━━━━━━━━\u001b[0m\u001b[37m\u001b[0m \u001b[1m0s\u001b[0m 677us/step - AUC: 0.9675 - Precision: 0.8998 - Recall: 0.4689 - accuracy: 0.9290 - loss: 0.2437 - val_AUC: 0.9762 - val_Precision: 0.9416 - val_Recall: 0.4085 - val_accuracy: 0.9218 - val_loss: 0.2425\n",
      "Epoch 9/10\n",
      "\u001b[1m350/350\u001b[0m \u001b[32m━━━━━━━━━━━━━━━━━━━━\u001b[0m\u001b[37m\u001b[0m \u001b[1m0s\u001b[0m 691us/step - AUC: 0.9720 - Precision: 0.9108 - Recall: 0.5273 - accuracy: 0.9373 - loss: 0.2285 - val_AUC: 0.9771 - val_Precision: 0.9274 - val_Recall: 0.4676 - val_accuracy: 0.9279 - val_loss: 0.2299\n",
      "Epoch 10/10\n",
      "\u001b[1m350/350\u001b[0m \u001b[32m━━━━━━━━━━━━━━━━━━━━\u001b[0m\u001b[37m\u001b[0m \u001b[1m0s\u001b[0m 681us/step - AUC: 0.9666 - Precision: 0.8998 - Recall: 0.5478 - accuracy: 0.9392 - loss: 0.2270 - val_AUC: 0.9780 - val_Precision: 0.9270 - val_Recall: 0.4648 - val_accuracy: 0.9275 - val_loss: 0.2255\n"
     ]
    },
    {
     "data": {
      "image/png": "[encoded data removed]",
      "text/plain": [
       "<Figure size 640x480 with 1 Axes>"
      ]
     },
     "metadata": {},
     "output_type": "display_data"
    },
    {
     "data": {
      "image/png": "[encoded data removed]",
      "text/plain": [
       "<Figure size 640x480 with 1 Axes>"
      ]
     },
     "metadata": {},
     "output_type": "display_data"
    }
   ],
   "source": [
    "# Train the model\n",
    "history4 = model4.fit(X_train, y_train, epochs=10, batch_size=32, validation_split=0.2)\n",
    "plot_training_vs_overfitting(history4)"
   ]
  },
  {
   "cell_type": "markdown",
   "metadata": {
    "id": "-jJGaVL_RBCz"
   },
   "source": [
    "# 4. Assignment overview\n",
    "\n",
    "### Part 1 - Mandatory\n",
    "**Develop a challenger model:** \\\n",
    "Using the concepts from **Session 7** and **Session 8**, create a challenger model to compare against the `model` and `model_2` built in **Session 5**. Name your new model `model_3`. Explore various architectures, models, activation functions, and other hyperparameters to improve performance.\n",
    "\n",
    "> Experiment with different combinations of optimizers, loss functions, and metrics to evaluate how they affect training speed, overall performance, and the final model's accuracy. This will help you fine-tune your model for the specific problem you're addressing.\n",
    "\n",
    "> Add at least one additional hidden layer. Observe how this affects the model's performance and overfitting and make note of the differences."
   ]
  },
  {
   "cell_type": "markdown",
   "metadata": {},
   "source": [
    "Link to assignment scoring criteria [here](https://docs.google.com/spreadsheets/d/1UXef6HO4hNWv9OiViYsUS-qNzY4ykKV5/edit?gid=711633108#gid=711633108)."
   ]
  },
  {
   "cell_type": "markdown",
   "metadata": {
    "id": "POC6twlhRBC0"
   },
   "source": [
    "# End of session"
   ]
  },
  {
   "cell_type": "code",
   "execution_count": 23,
   "metadata": {
    "colab": {
     "base_uri": "https://localhost:8080/",
     "height": 350
    },
    "executionInfo": {
     "elapsed": 591,
     "status": "ok",
     "timestamp": 1725040081880,
     "user": {
      "displayName": "Andrea Baroni",
      "userId": "13443912204230378793"
     },
     "user_tz": -60
    },
    "id": "KuGRHlSsRBC0",
    "outputId": "b341871c-340e-4a78-dc53-205d28ee1b2a"
   },
   "outputs": [
    {
     "data": {
      "image/jpeg": "[encoded data removed]",
      "text/plain": [
       "<IPython.core.display.Image object>"
      ]
     },
     "execution_count": 23,
     "metadata": {
      "image/jpeg": {
       "width": 500
      }
     },
     "output_type": "execute_result"
    }
   ],
   "source": [
    "from IPython.display import Image\n",
    "Image(filename=f\"{path_python_material}/images/the-end.jpg\", width=500,)\n"
   ]
  },
  {
   "cell_type": "markdown",
   "metadata": {
    "id": "5xciZDwtRBC0"
   },
   "source": [
    "# Appendix"
   ]
  },
  {
   "cell_type": "markdown",
   "metadata": {
    "id": "8mgAjRWMRBCu"
   },
   "source": [
    "## Best practices for choosing activation functions:\n",
    "\n",
    "-   **ReLU (Rectified Linear Unit)**:\n",
    "\n",
    "    -   **Default choice for hidden layers** in most neural networks.\n",
    "    -   **Fast and simple**, helps avoid the vanishing gradient problem.\n",
    "    -   Use with caution if inputs can be negative or if your model isn't learning well (may cause \"dying ReLUs\").\n",
    "-   **Leaky ReLU**:\n",
    "\n",
    "    -   **Use when ReLU is causing dead neurons** (outputs stuck at 0).\n",
    "    -   Allows a small, non-zero gradient when the input is negative.\n",
    "-   **Sigmoid**:\n",
    "\n",
    "    -   Good for **binary classification output layers** (produces a probability between 0 and 1).\n",
    "    -   Avoid in hidden layers due to the **vanishing gradient problem**.\n",
    "-   **Tanh (Hyperbolic Tangent)**:\n",
    "\n",
    "    -   Use when outputs need to range between **-1 and 1**.\n",
    "    -   **Better than Sigmoid** for hidden layers but still prone to vanishing gradients.\n",
    "-   **Softmax**:\n",
    "\n",
    "    -   Ideal for **multi-class classification output layers**.\n",
    "    -   Outputs a probability distribution over multiple classes (sums to 1).\n",
    "\n",
    "-   **Linear**:\n",
    "\n",
    "    -   Use in the **output layer for regression tasks** (predicting continuous values).\n",
    "    -   No non-linearity is applied, so the output is a linear combination of inputs.\n"
   ]
  },
  {
   "cell_type": "markdown",
   "metadata": {
    "id": "fL1KW3M-BLCZ"
   },
   "source": [
    "## Changing Optimizer, Loss, and Metrics: What to Expect\n",
    "\n",
    "Changing the **optimizer**, **loss**, and **metrics** in a neural network can have a significant impact on model performance, convergence speed, and the accuracy of predictions.\n",
    "\n",
    "More info here: https://www.tensorflow.org/api_docs/python/tf/keras\n"
   ]
  },
  {
   "cell_type": "code",
   "execution_count": null,
   "metadata": {
    "id": "8Nmj6UScBLCZ"
   },
   "outputs": [],
   "source": []
  },
  {
   "cell_type": "code",
   "execution_count": null,
   "metadata": {},
   "outputs": [],
   "source": []
  }
 ],
 "metadata": {
  "colab": {
   "provenance": []
  },
  "kernelspec": {
   "display_name": "Python 3 (ipykernel)",
   "language": "python",
   "name": "python3"
  },
  "language_info": {
   "codemirror_mode": {
    "name": "ipython",
    "version": 3
   },
   "file_extension": ".py",
   "mimetype": "text/x-python",
   "name": "python",
   "nbconvert_exporter": "python",
   "pygments_lexer": "ipython3",
   "version": "3.9.19"
  }
 },
 "nbformat": 4,
 "nbformat_minor": 4
}
