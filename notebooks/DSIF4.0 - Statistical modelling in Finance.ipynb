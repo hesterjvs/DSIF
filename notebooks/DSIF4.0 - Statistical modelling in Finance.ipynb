{
 "cells": [
  {
   "cell_type": "markdown",
   "metadata": {
    "id": "bf4e4263"
   },
   "source": [
    "# Workshop: Creditworthiness Assessment using Central Limit Theorem\n",
    "\n",
    "### Brief\n",
    "The Head of Lending has asked you to compare the credit scores of default and non-default borrowers to determine if there is a significant difference between the two groups.\n",
    "\n",
    "### Hypothesis Testing Approach\n",
    "\n",
    "We will compare the credit scores of default and non-default borrowers using a two-sample t-test to determine if there is a significant difference between the two groups.\n",
    "\n",
    "### Python Code Walkthrough\n"
   ]
  },
  {
   "cell_type": "markdown",
   "metadata": {
    "id": "C7Z0ziWxSfu1"
   },
   "source": [
    "#### User-specified parameters"
   ]
  },
  {
   "cell_type": "code",
   "execution_count": null,
   "metadata": {},
   "outputs": [],
   "source": [
    "python_material_folder_name = \"python-material\""
   ]
  },
  {
   "cell_type": "markdown",
   "metadata": {
    "id": "C7Z0ziWxSfu1"
   },
   "source": [
    "#### Import libraries"
   ]
  },
  {
   "cell_type": "code",
   "execution_count": null,
   "metadata": {
    "colab": {
     "base_uri": "https://localhost:8080/"
    },
    "executionInfo": {
     "elapsed": 2100,
     "status": "ok",
     "timestamp": 1725038572938,
     "user": {
      "displayName": "Andrea Baroni",
      "userId": "13443912204230378793"
     },
     "user_tz": -60
    },
    "id": "XFiWOjY-Sga0",
    "outputId": "b35d77fb-399d-4436-89f4-609af594006d"
   },
   "outputs": [],
   "source": [
    "import pandas as pd\n",
    "import numpy as np\n",
    "\n",
    "pd.set_option('display.max_columns', None)\n",
    "pd.set_option('display.max_rows', None)\n",
    "\n",
    "# Check if in Google Colab environment\n",
    "try:\n",
    "    from google.colab import drive\n",
    "    # Mount drive\n",
    "    drive.mount('/content/drive')\n",
    "    # Set up path to Python material parent folder\n",
    "    path_python_material = rf\"drive/MyDrive/{python_material_folder_name}\"\n",
    "        # If unsure, print current directory path by executing the following in a new cell:\n",
    "        # !pwd\n",
    "    IN_COLAB = True\n",
    "except:\n",
    "    IN_COLAB = False\n",
    "    # If working locally on Jupyter Notebook, parent folder is one folder up (assuming you are using the folder structure shared at the beginning of the course)\n",
    "    path_python_material = \"..\""
   ]
  },
  {
   "cell_type": "markdown",
   "metadata": {},
   "source": [
    "## Import data"
   ]
  },
  {
   "cell_type": "code",
   "execution_count": null,
   "metadata": {},
   "outputs": [],
   "source": [
    "# Read data that was exported from previous session\n",
    "df = pd.read_csv(f\"{path_python_material}/data/2-intermediate/df_out_dsif3.csv\")\n",
    "df.head()"
   ]
  },
  {
   "cell_type": "code",
   "execution_count": null,
   "metadata": {},
   "outputs": [],
   "source": [
    "df.columns[df.columns.str.contains(\"fico\")]"
   ]
  },
  {
   "cell_type": "code",
   "execution_count": null,
   "metadata": {},
   "outputs": [],
   "source": [
    "df.last_fico_range_high.describe()"
   ]
  },
  {
   "cell_type": "code",
   "execution_count": null,
   "metadata": {},
   "outputs": [],
   "source": [
    "df.loan_status.value_counts()"
   ]
  },
  {
   "cell_type": "markdown",
   "metadata": {},
   "source": [
    "Useful resources:\n",
    "- https://www.experian.co.uk/consumer/guides/good-credit-score.html\n",
    "- https://www.experian.com/blogs/ask-experian/what-is-the-difference-between-fico-score-and-credit-score/\n",
    "    "
   ]
  },
  {
   "cell_type": "code",
   "execution_count": null,
   "metadata": {},
   "outputs": [],
   "source": [
    "default_scores = df[df.loan_status == \"Charged Off\"][\"last_fico_range_high\"]\n",
    "non_default_scores = df[df.loan_status != \"Charged Off\"][\"last_fico_range_high\"]\n",
    "\n",
    "print(f\"Found {len(default_scores)} default scores and {len(non_default_scores)} non default scores\")\n"
   ]
  },
  {
   "cell_type": "markdown",
   "metadata": {
    "id": "1b26f4fd"
   },
   "source": [
    "The t-statistic is a measure used to determine if there is a significant difference between the means of two groups. It is calculated using the formula:\n",
    "\n",
    "$$\n",
    "t = \\frac{\\bar{X}_1 - \\bar{X}_2}{\\sqrt{\\frac{s_1^2}{n_1} + \\frac{s_2^2}{n_2}}}\n",
    "$$\n",
    "\n",
    "where:\n",
    "\n",
    "- $\\bar{X}_1$ and $\\bar{X}_2$ are the sample means of the two groups.\n",
    "- $s_1^2$ and $s_2^2$ are the sample variances of the two groups.\n",
    "- $n_1$ and $n_2$ are the sample sizes of the two groups."
   ]
  },
  {
   "cell_type": "code",
   "execution_count": null,
   "metadata": {
    "colab": {
     "base_uri": "https://localhost:8080/"
    },
    "executionInfo": {
     "elapsed": 26,
     "status": "ok",
     "timestamp": 1725038572939,
     "user": {
      "displayName": "Andrea Baroni",
      "userId": "13443912204230378793"
     },
     "user_tz": -60
    },
    "id": "5b008c40",
    "outputId": "d5bf58ad-7e70-4c69-8661-62b96d79db98"
   },
   "outputs": [],
   "source": [
    "from scipy import stats\n",
    "\n",
    "# Perform two-sample t-test\n",
    "t_stat, p_value = stats.ttest_ind(default_scores, non_default_scores)\n",
    "\n",
    "print(f\"T-statistic: {t_stat:.2f}\")\n",
    "print(f\"P-value: {p_value:.5f}\")"
   ]
  },
  {
   "cell_type": "markdown",
   "metadata": {
    "id": "2e5a22ff"
   },
   "source": [
    "### <span style=\"color:BLUE\"> **>>> QUESTION:**  </span>    \n",
    "> What conclusions should we share with the Head of Credit Cards?\n",
    "\n"
   ]
  },
  {
   "cell_type": "markdown",
   "metadata": {
    "id": "acccd770"
   },
   "source": [
    "### Result Interpretation\n",
    "\n",
    "-   **T-statistic:** Measures the difference between the means of two groups relative to the variation in the sample data. A higher absolute value indicates a larger difference between group means.\n",
    "\n",
    "-   **P-Values:** The p-value represents the probability of observing the test results under the null hypothesis. It helps to determine the statistical significance of the test.\n",
    "\n",
    "    -   **Low P-value (< 0.05):** Indicates strong evidence against the null hypothesis, suggesting that the observed difference is statistically significant.\n",
    "    -   **High P-value (>= 0.05):** Indicates weak evidence against the null hypothesis, suggesting that the observed difference could be due to chance."
   ]
  },
  {
   "cell_type": "markdown",
   "metadata": {
    "executionInfo": {
     "elapsed": 25,
     "status": "ok",
     "timestamp": 1725038572940,
     "user": {
      "displayName": "Andrea Baroni",
      "userId": "13443912204230378793"
     },
     "user_tz": -60
    },
    "id": "a0e18e24"
   },
   "source": [
    "### <span style=\"color:BLUE\"> **>>> EXERCISE:**  </span>    \n",
    "> The Head of Lending has now asked you to test if the default rates vary significantly across loan grades.  \n",
    "> What test would you be using for this case and what would be your null and alternative hypotheses?    \n",
    "> Please implement in the cells below.  \n",
    "\n",
    "> Tip: check out the following [guide](https://statsandr.com/blog/files/overview-statistical-tests-statsandr.pdf) on how to choose the right test.  \n",
    "> For python implementation of tests, check out [scipy docs](https://docs.scipy.org/doc/scipy/reference/stats.html)."
   ]
  },
  {
   "cell_type": "code",
   "execution_count": null,
   "metadata": {},
   "outputs": [],
   "source": [
    "# YOUR CODE HERE"
   ]
  },
  {
   "cell_type": "markdown",
   "metadata": {},
   "source": [
    "\n"
   ]
  },
  {
   "cell_type": "markdown",
   "metadata": {},
   "source": [
    "### <span style=\"color:BLUE\"> **>>> OPTIONAL EXERCISE (advanced): Bayesian Inference Implementation**  </span>    \n",
    "\n",
    "In this exercise, you will apply **Bayesian Inference** to estimate the probability of default based on prior beliefs and new data. Bayesian inference is a powerful tool for updating probabilities as new information becomes available, and is commonly used in finance for risk assessment and modeling uncertainties.\n",
    "\n",
    "* * * * *\n",
    "\n",
    "### **Objective:**\n",
    "\n",
    "The goal is to help students implement a simple Bayesian model that calculates the probability of a borrower defaulting on a loan, given prior probabilities and new evidence.\n",
    "\n",
    "#### **Bayesian Inference Basics**:\n",
    "\n",
    "-   **Prior:** Initial belief about a parameter before seeing any data.\n",
    "-   **Likelihood:** The probability of observing the data given the hypothesis.\n",
    "-   **Posterior:** The updated belief after considering the new data (evidence).\n",
    "\n",
    "The formula for Bayesian inference is given by:\n",
    "\n",
    "P(H∣E)= ( P(E∣H) * P(H) ) / P(E)\n",
    "\n",
    "Where:\n",
    "\n",
    "-   P(H) is the **prior** probability (initial belief).\n",
    "-   P(H∣E) is the **posterior** probability (the updated probability after observing the evidence).\n",
    "-   P(E∣H) is the **likelihood** (the probability of the evidence given the hypothesis).\n",
    "-   P(E) is the **evidence** (the total probability of the evidence across all hypotheses).\n",
    "\n",
    "* * * * *\n",
    "\n",
    "### **Scenario:**\n",
    "\n",
    "A bank wants to estimate the probability that a borrower will **default** on a loan based on two pieces of information:\n",
    "\n",
    "1.  **Prior Information**: The bank has historical data showing that 5% of all borrowers default on their loans. This is the **prior probability** P(Default)=0.05.\n",
    "\n",
    "2.  **New Evidence**: The bank analyzes the borrower's credit score. Based on historical data:\n",
    "\n",
    "    -   70% of borrowers who defaulted had a credit score below 600.\n",
    "    -   20% of borrowers who did not default had a credit score below 600.\n",
    "\n",
    "The borrower in question has a **credit score below 600**. You will calculate the **posterior probability** of the borrower defaulting using this new evidence."
   ]
  },
  {
   "cell_type": "code",
   "execution_count": null,
   "metadata": {},
   "outputs": [],
   "source": [
    "# # a) Define prior probabilities\n",
    "# P_default = # YOUR CODE HERE\n",
    "# P_no_default = # YOUR CODE HERE\n",
    "\n",
    "# # b) Define likelihoods based on new evidence\n",
    "# P_evidence_given_default =    # YOUR CODE HERE\n",
    "# P_evidence_given_no_default = # YOUR CODE HERE\n",
    "\n",
    "# # c) Calculate the total probability of the evidence\n",
    "# P_evidence = # YOUR CODE HERE\n",
    "\n",
    "# # d) Calculate the posterior probability of default given the evidence\n",
    "# P_default_given_evidence = # YOUR CODE HERE\n",
    "\n",
    "# # Output the results\n",
    "# print(f\"Posterior Probability of Default given credit score < 600: {P_default_given_evidence:.4f}\")\n"
   ]
  },
  {
   "cell_type": "markdown",
   "metadata": {
    "id": "146ecc53"
   },
   "source": [
    "# Appendix\n",
    "\n",
    "## Calculating t statistic manually vs. scipy library"
   ]
  },
  {
   "cell_type": "markdown",
   "metadata": {
    "id": "f012a7ac"
   },
   "source": [
    "**Steps to Calculate the T-Statistic:**\n",
    "\n",
    "1. **Calculate the Sample Means:**\n",
    "\n",
    "   For each group, compute the mean of the sample data.\n",
    "\n",
    "2. **Calculate the Sample Variances:**\n",
    "\n",
    "   Compute the variance for each group. Variance measures how much the data points differ from the mean.\n",
    "\n",
    "3. **Compute the Standard Error:**\n",
    "\n",
    "   The standard error is the square root of the sum of the variances divided by the sample sizes.\n",
    "\n",
    "4. **Calculate the T-Statistic:**\n",
    "\n",
    "   Plug the sample means, variances, and sample sizes into the formula to get the t-statistic.\n",
    "\n",
    "### Python Code Walkthrough"
   ]
  },
  {
   "cell_type": "code",
   "execution_count": null,
   "metadata": {
    "colab": {
     "base_uri": "https://localhost:8080/"
    },
    "executionInfo": {
     "elapsed": 23,
     "status": "ok",
     "timestamp": 1725038572940,
     "user": {
      "displayName": "Andrea Baroni",
      "userId": "13443912204230378793"
     },
     "user_tz": -60
    },
    "id": "573fe1c0",
    "outputId": "98b85522-ef91-47ca-a72c-31ebff776ee4"
   },
   "outputs": [],
   "source": [
    "\n",
    "import numpy as np\n",
    "from scipy import stats\n",
    "\n",
    "# Sample data: credit scores of default and non-default borrowers\n",
    "default_scores = np.array([600, 620, 580, 570, 630])\n",
    "non_default_scores = np.array([700, 720, 710, 690, 740])\n",
    "\n",
    "# Compute sample means\n",
    "mean_default = np.mean(default_scores)\n",
    "mean_non_default = np.mean(non_default_scores)\n",
    "\n",
    "# Compute sample variances\n",
    "var_default = np.var(default_scores, ddof=1)\n",
    "var_non_default = np.var(non_default_scores, ddof=1)\n",
    "\n",
    "# Sample sizes\n",
    "n_default = len(default_scores)\n",
    "n_non_default = len(non_default_scores)\n",
    "\n",
    "# Calculate the t-statistic\n",
    "t_stat = (mean_default - mean_non_default) / np.sqrt((var_default / n_default) + (var_non_default / n_non_default))\n",
    "\n",
    "# Perform two-sample t-test using scipy\n",
    "t_stat_scipy, p_value = stats.ttest_ind(default_scores, non_default_scores)\n",
    "\n",
    "print(f\"Calculated T-statistic: {t_stat}\")\n",
    "print(f\"Scipy T-statistic: {t_stat_scipy}\")\n",
    "print(f\"P-value: {p_value}\")"
   ]
  },
  {
   "cell_type": "code",
   "execution_count": null,
   "metadata": {},
   "outputs": [],
   "source": []
  },
  {
   "cell_type": "code",
   "execution_count": null,
   "metadata": {},
   "outputs": [],
   "source": []
  },
  {
   "cell_type": "markdown",
   "metadata": {
    "id": "11e35ddc"
   },
   "source": [
    "# End of session"
   ]
  },
  {
   "cell_type": "code",
   "execution_count": null,
   "metadata": {
    "colab": {
     "base_uri": "https://localhost:8080/",
     "height": 350
    },
    "executionInfo": {
     "elapsed": 21,
     "status": "ok",
     "timestamp": 1725038572940,
     "user": {
      "displayName": "Andrea Baroni",
      "userId": "13443912204230378793"
     },
     "user_tz": -60
    },
    "id": "98574ffc",
    "outputId": "fe7d1519-05b1-46fa-c4e3-fb5c526854be"
   },
   "outputs": [],
   "source": [
    "from IPython.display import Image\n",
    "Image(filename=f\"{path_python_material}/images/the-end.jpg\", width=500,)\n"
   ]
  },
  {
   "cell_type": "code",
   "execution_count": null,
   "metadata": {
    "executionInfo": {
     "elapsed": 14,
     "status": "ok",
     "timestamp": 1725038572940,
     "user": {
      "displayName": "Andrea Baroni",
      "userId": "13443912204230378793"
     },
     "user_tz": -60
    },
    "id": "f35f66f8"
   },
   "outputs": [],
   "source": []
  }
 ],
 "metadata": {
  "colab": {
   "provenance": []
  },
  "kernelspec": {
   "display_name": "Python 3",
   "language": "python",
   "name": "python3"
  },
  "language_info": {
   "codemirror_mode": {
    "name": "ipython",
    "version": 3
   },
   "file_extension": ".py",
   "mimetype": "text/x-python",
   "name": "python",
   "nbconvert_exporter": "python",
   "pygments_lexer": "ipython3",
   "version": "3.8.5"
  }
 },
 "nbformat": 4,
 "nbformat_minor": 5
}
