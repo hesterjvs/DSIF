{
 "cells": [
  {
   "cell_type": "markdown",
   "metadata": {
    "id": "DH1XQ07F5Bx8"
   },
   "source": [
    "# Introduction\n",
    "\n",
    "In this notebook, we will get started by importing and cleaning the LendingClub dataset, which will be used throughout the course.\n",
    "\n",
    "We will achieve this by leveraging key data cleaning techniques in Python using Pandas, among other libraries.\n",
    "\n",
    "\n",
    "## Agenda:\n",
    "1. Importing data for your Data Science project\n",
    "2. Understanding your data and cleaning it:initial exploration and stats\n",
    "3. Handling missing values\n",
    "4. Removing duplicates\n",
    "5. Handling outliers\n",
    "6. Text data handling\n",
    "7. Intro to time series data\n",
    "\n",
    "\n",
    "Demo: Implementation in Python (Lending Club use case)\n",
    "------------------------------\n",
    "\n",
    "\n",
    "---\n"
   ]
  },
  {
   "cell_type": "markdown",
   "metadata": {
    "id": "GtogBfReQgxs"
   },
   "source": [
    "### Set up"
   ]
  },
  {
   "cell_type": "markdown",
   "metadata": {
    "id": "XmGuFdipQgxv"
   },
   "source": [
    "#### User-specified parameters"
   ]
  },
  {
   "cell_type": "code",
   "execution_count": 1,
   "metadata": {
    "executionInfo": {
     "elapsed": 478,
     "status": "ok",
     "timestamp": 1724823535451,
     "user": {
      "displayName": "Andrea Baroni",
      "userId": "13443912204230378793"
     },
     "user_tz": -120
    },
    "id": "iF1cKwF4Qgxw"
   },
   "outputs": [],
   "source": [
    "python_material_folder_name = \"python-material-INSTRUCTOR\""
   ]
  },
  {
   "cell_type": "markdown",
   "metadata": {
    "id": "iej9FzGAQgxy"
   },
   "source": [
    "#### Import libraries"
   ]
  },
  {
   "cell_type": "code",
   "execution_count": 3,
   "metadata": {
    "colab": {
     "base_uri": "https://localhost:8080/"
    },
    "executionInfo": {
     "elapsed": 5218,
     "status": "ok",
     "timestamp": 1724823541021,
     "user": {
      "displayName": "Andrea Baroni",
      "userId": "13443912204230378793"
     },
     "user_tz": -120
    },
    "id": "MR78M58RQgx0",
    "outputId": "e3e08a39-85b8-4c59-9b83-6006cc7fd0ff"
   },
   "outputs": [],
   "source": [
    "import pandas as pd\n",
    "import numpy as np\n",
    "from sklearn.preprocessing import StandardScaler, LabelEncoder\n",
    "\n",
    "import matplotlib.pyplot as plt\n",
    "import seaborn as sns\n",
    "\n",
    "pd.set_option('display.max_columns', None)\n",
    "pd.set_option('display.max_rows', None)\n",
    "\n",
    "\n",
    "# Check if in Google Colab environment\n",
    "try:\n",
    "    from google.colab import drive\n",
    "    # Mount drive\n",
    "    drive.mount('/content/drive')\n",
    "    # Set up path to Python material parent folder\n",
    "    path_python_material = rf\"drive/MyDrive/{python_material_folder_name}\"\n",
    "        # If unsure, print current directory path by executing the following in a new cell:\n",
    "        # !pwd\n",
    "    IN_COLAB = True\n",
    "except:\n",
    "    IN_COLAB = False\n",
    "    # If working locally on Jupyter Notebook, parent folder is one folder up (assuming you are using the folder structure shared at the beginning of the course)\n",
    "    path_python_material = \"..\""
   ]
  },
  {
   "cell_type": "markdown",
   "metadata": {
    "id": "YPHTDE_ZQgx2"
   },
   "source": [
    "1\\. Importing data for your Data Science project\n",
    "----------------------------------------\n",
    "\n",
    "### Flat file (.csv) format\n",
    "Our data is stored in csv format which is a very popular tabular format, where each line corresponds to a row, and each field within the row is separated by a comma.\n",
    "\n",
    "Csv is widely used for data exchange and storage, especially for datasets that need to be easily readable and editable with spreadsheet software (like Microsoft Excel) and programming languages (like Python, R).\n",
    "\n",
    "- Advantages: Simple, easy to create and parse, human-readable.\n",
    "- Disadvantages: Can become large and unwieldy with big datasets, lacks support for complex data structures.\n",
    "\n",
    "Let's read our data in using [**pandas**](https://pandas.pydata.org/docs/getting_started/index.html#getting-started), Python's most popular library for data manipulation.\n",
    "\n",
    "**Note:** Thorughout this course, data will be located in the *data* folder within the code area.\n",
    "\n",
    "### Other formats\n",
    "- See [data import cheat sheet(text files, SAS files, Excel files, relational databases, etc.](https://www.datacamp.com/cheat-sheet/importing-data-in-python-cheat-sheet)\n",
    "- [Read data from APIs](https://medium.com/analytics-lane/python-get-and-process-web-api-data-through-pandas-and-requests-part-1-32127638b463)"
   ]
  },
  {
   "cell_type": "code",
   "execution_count": 4,
   "metadata": {
    "colab": {
     "base_uri": "https://localhost:8080/",
     "height": 330
    },
    "executionInfo": {
     "elapsed": 8808,
     "status": "ok",
     "timestamp": 1724823549826,
     "user": {
      "displayName": "Andrea Baroni",
      "userId": "13443912204230378793"
     },
     "user_tz": -120
    },
    "id": "Ev6Xsmi_Qgx4",
    "outputId": "feb3c9aa-1248-43c9-9d42-474a28f2102e"
   },
   "outputs": [
    {
     "ename": "FileNotFoundError",
     "evalue": "[Errno 2] No such file or directory: '../data/1-raw/lending-club-2007-2020Q3/Loan_status_2007-2020Q3-100ksample.csv'",
     "output_type": "error",
     "traceback": [
      "\u001b[0;31m---------------------------------------------------------------------------\u001b[0m",
      "\u001b[0;31mFileNotFoundError\u001b[0m                         Traceback (most recent call last)",
      "Cell \u001b[0;32mIn[4], line 3\u001b[0m\n\u001b[1;32m      1\u001b[0m \u001b[38;5;66;03m# Load the dataset\u001b[39;00m\n\u001b[1;32m      2\u001b[0m \u001b[38;5;66;03m# Note: optionally, added a 'sample' step to reduce size if facing slowdown/computational challenges.\u001b[39;00m\n\u001b[0;32m----> 3\u001b[0m df \u001b[38;5;241m=\u001b[39m \u001b[43mpd\u001b[49m\u001b[38;5;241;43m.\u001b[39;49m\u001b[43mread_csv\u001b[49m\u001b[43m(\u001b[49m\u001b[38;5;124;43mrf\u001b[39;49m\u001b[38;5;124;43m\"\u001b[39;49m\u001b[38;5;132;43;01m{\u001b[39;49;00m\u001b[43mpath_python_material\u001b[49m\u001b[38;5;132;43;01m}\u001b[39;49;00m\u001b[38;5;124;43m/data/1-raw/lending-club-2007-2020Q3/Loan_status_2007-2020Q3-100ksample.csv\u001b[39;49m\u001b[38;5;124;43m\"\u001b[39;49m\u001b[43m)\u001b[49m\u001b[38;5;66;03m#.sample(100)\u001b[39;00m\n\u001b[1;32m      5\u001b[0m \u001b[38;5;66;03m# Display the first few rows of the dataset\u001b[39;00m\n\u001b[1;32m      6\u001b[0m df\u001b[38;5;241m.\u001b[39mhead(\u001b[38;5;241m5\u001b[39m)\n",
      "File \u001b[0;32m/opt/anaconda3/envs/dsif/lib/python3.11/site-packages/pandas/io/parsers/readers.py:1026\u001b[0m, in \u001b[0;36mread_csv\u001b[0;34m(filepath_or_buffer, sep, delimiter, header, names, index_col, usecols, dtype, engine, converters, true_values, false_values, skipinitialspace, skiprows, skipfooter, nrows, na_values, keep_default_na, na_filter, verbose, skip_blank_lines, parse_dates, infer_datetime_format, keep_date_col, date_parser, date_format, dayfirst, cache_dates, iterator, chunksize, compression, thousands, decimal, lineterminator, quotechar, quoting, doublequote, escapechar, comment, encoding, encoding_errors, dialect, on_bad_lines, delim_whitespace, low_memory, memory_map, float_precision, storage_options, dtype_backend)\u001b[0m\n\u001b[1;32m   1013\u001b[0m kwds_defaults \u001b[38;5;241m=\u001b[39m _refine_defaults_read(\n\u001b[1;32m   1014\u001b[0m     dialect,\n\u001b[1;32m   1015\u001b[0m     delimiter,\n\u001b[0;32m   (...)\u001b[0m\n\u001b[1;32m   1022\u001b[0m     dtype_backend\u001b[38;5;241m=\u001b[39mdtype_backend,\n\u001b[1;32m   1023\u001b[0m )\n\u001b[1;32m   1024\u001b[0m kwds\u001b[38;5;241m.\u001b[39mupdate(kwds_defaults)\n\u001b[0;32m-> 1026\u001b[0m \u001b[38;5;28;01mreturn\u001b[39;00m \u001b[43m_read\u001b[49m\u001b[43m(\u001b[49m\u001b[43mfilepath_or_buffer\u001b[49m\u001b[43m,\u001b[49m\u001b[43m \u001b[49m\u001b[43mkwds\u001b[49m\u001b[43m)\u001b[49m\n",
      "File \u001b[0;32m/opt/anaconda3/envs/dsif/lib/python3.11/site-packages/pandas/io/parsers/readers.py:620\u001b[0m, in \u001b[0;36m_read\u001b[0;34m(filepath_or_buffer, kwds)\u001b[0m\n\u001b[1;32m    617\u001b[0m _validate_names(kwds\u001b[38;5;241m.\u001b[39mget(\u001b[38;5;124m\"\u001b[39m\u001b[38;5;124mnames\u001b[39m\u001b[38;5;124m\"\u001b[39m, \u001b[38;5;28;01mNone\u001b[39;00m))\n\u001b[1;32m    619\u001b[0m \u001b[38;5;66;03m# Create the parser.\u001b[39;00m\n\u001b[0;32m--> 620\u001b[0m parser \u001b[38;5;241m=\u001b[39m \u001b[43mTextFileReader\u001b[49m\u001b[43m(\u001b[49m\u001b[43mfilepath_or_buffer\u001b[49m\u001b[43m,\u001b[49m\u001b[43m \u001b[49m\u001b[38;5;241;43m*\u001b[39;49m\u001b[38;5;241;43m*\u001b[39;49m\u001b[43mkwds\u001b[49m\u001b[43m)\u001b[49m\n\u001b[1;32m    622\u001b[0m \u001b[38;5;28;01mif\u001b[39;00m chunksize \u001b[38;5;129;01mor\u001b[39;00m iterator:\n\u001b[1;32m    623\u001b[0m     \u001b[38;5;28;01mreturn\u001b[39;00m parser\n",
      "File \u001b[0;32m/opt/anaconda3/envs/dsif/lib/python3.11/site-packages/pandas/io/parsers/readers.py:1620\u001b[0m, in \u001b[0;36mTextFileReader.__init__\u001b[0;34m(self, f, engine, **kwds)\u001b[0m\n\u001b[1;32m   1617\u001b[0m     \u001b[38;5;28mself\u001b[39m\u001b[38;5;241m.\u001b[39moptions[\u001b[38;5;124m\"\u001b[39m\u001b[38;5;124mhas_index_names\u001b[39m\u001b[38;5;124m\"\u001b[39m] \u001b[38;5;241m=\u001b[39m kwds[\u001b[38;5;124m\"\u001b[39m\u001b[38;5;124mhas_index_names\u001b[39m\u001b[38;5;124m\"\u001b[39m]\n\u001b[1;32m   1619\u001b[0m \u001b[38;5;28mself\u001b[39m\u001b[38;5;241m.\u001b[39mhandles: IOHandles \u001b[38;5;241m|\u001b[39m \u001b[38;5;28;01mNone\u001b[39;00m \u001b[38;5;241m=\u001b[39m \u001b[38;5;28;01mNone\u001b[39;00m\n\u001b[0;32m-> 1620\u001b[0m \u001b[38;5;28mself\u001b[39m\u001b[38;5;241m.\u001b[39m_engine \u001b[38;5;241m=\u001b[39m \u001b[38;5;28;43mself\u001b[39;49m\u001b[38;5;241;43m.\u001b[39;49m\u001b[43m_make_engine\u001b[49m\u001b[43m(\u001b[49m\u001b[43mf\u001b[49m\u001b[43m,\u001b[49m\u001b[43m \u001b[49m\u001b[38;5;28;43mself\u001b[39;49m\u001b[38;5;241;43m.\u001b[39;49m\u001b[43mengine\u001b[49m\u001b[43m)\u001b[49m\n",
      "File \u001b[0;32m/opt/anaconda3/envs/dsif/lib/python3.11/site-packages/pandas/io/parsers/readers.py:1880\u001b[0m, in \u001b[0;36mTextFileReader._make_engine\u001b[0;34m(self, f, engine)\u001b[0m\n\u001b[1;32m   1878\u001b[0m     \u001b[38;5;28;01mif\u001b[39;00m \u001b[38;5;124m\"\u001b[39m\u001b[38;5;124mb\u001b[39m\u001b[38;5;124m\"\u001b[39m \u001b[38;5;129;01mnot\u001b[39;00m \u001b[38;5;129;01min\u001b[39;00m mode:\n\u001b[1;32m   1879\u001b[0m         mode \u001b[38;5;241m+\u001b[39m\u001b[38;5;241m=\u001b[39m \u001b[38;5;124m\"\u001b[39m\u001b[38;5;124mb\u001b[39m\u001b[38;5;124m\"\u001b[39m\n\u001b[0;32m-> 1880\u001b[0m \u001b[38;5;28mself\u001b[39m\u001b[38;5;241m.\u001b[39mhandles \u001b[38;5;241m=\u001b[39m \u001b[43mget_handle\u001b[49m\u001b[43m(\u001b[49m\n\u001b[1;32m   1881\u001b[0m \u001b[43m    \u001b[49m\u001b[43mf\u001b[49m\u001b[43m,\u001b[49m\n\u001b[1;32m   1882\u001b[0m \u001b[43m    \u001b[49m\u001b[43mmode\u001b[49m\u001b[43m,\u001b[49m\n\u001b[1;32m   1883\u001b[0m \u001b[43m    \u001b[49m\u001b[43mencoding\u001b[49m\u001b[38;5;241;43m=\u001b[39;49m\u001b[38;5;28;43mself\u001b[39;49m\u001b[38;5;241;43m.\u001b[39;49m\u001b[43moptions\u001b[49m\u001b[38;5;241;43m.\u001b[39;49m\u001b[43mget\u001b[49m\u001b[43m(\u001b[49m\u001b[38;5;124;43m\"\u001b[39;49m\u001b[38;5;124;43mencoding\u001b[39;49m\u001b[38;5;124;43m\"\u001b[39;49m\u001b[43m,\u001b[49m\u001b[43m \u001b[49m\u001b[38;5;28;43;01mNone\u001b[39;49;00m\u001b[43m)\u001b[49m\u001b[43m,\u001b[49m\n\u001b[1;32m   1884\u001b[0m \u001b[43m    \u001b[49m\u001b[43mcompression\u001b[49m\u001b[38;5;241;43m=\u001b[39;49m\u001b[38;5;28;43mself\u001b[39;49m\u001b[38;5;241;43m.\u001b[39;49m\u001b[43moptions\u001b[49m\u001b[38;5;241;43m.\u001b[39;49m\u001b[43mget\u001b[49m\u001b[43m(\u001b[49m\u001b[38;5;124;43m\"\u001b[39;49m\u001b[38;5;124;43mcompression\u001b[39;49m\u001b[38;5;124;43m\"\u001b[39;49m\u001b[43m,\u001b[49m\u001b[43m \u001b[49m\u001b[38;5;28;43;01mNone\u001b[39;49;00m\u001b[43m)\u001b[49m\u001b[43m,\u001b[49m\n\u001b[1;32m   1885\u001b[0m \u001b[43m    \u001b[49m\u001b[43mmemory_map\u001b[49m\u001b[38;5;241;43m=\u001b[39;49m\u001b[38;5;28;43mself\u001b[39;49m\u001b[38;5;241;43m.\u001b[39;49m\u001b[43moptions\u001b[49m\u001b[38;5;241;43m.\u001b[39;49m\u001b[43mget\u001b[49m\u001b[43m(\u001b[49m\u001b[38;5;124;43m\"\u001b[39;49m\u001b[38;5;124;43mmemory_map\u001b[39;49m\u001b[38;5;124;43m\"\u001b[39;49m\u001b[43m,\u001b[49m\u001b[43m \u001b[49m\u001b[38;5;28;43;01mFalse\u001b[39;49;00m\u001b[43m)\u001b[49m\u001b[43m,\u001b[49m\n\u001b[1;32m   1886\u001b[0m \u001b[43m    \u001b[49m\u001b[43mis_text\u001b[49m\u001b[38;5;241;43m=\u001b[39;49m\u001b[43mis_text\u001b[49m\u001b[43m,\u001b[49m\n\u001b[1;32m   1887\u001b[0m \u001b[43m    \u001b[49m\u001b[43merrors\u001b[49m\u001b[38;5;241;43m=\u001b[39;49m\u001b[38;5;28;43mself\u001b[39;49m\u001b[38;5;241;43m.\u001b[39;49m\u001b[43moptions\u001b[49m\u001b[38;5;241;43m.\u001b[39;49m\u001b[43mget\u001b[49m\u001b[43m(\u001b[49m\u001b[38;5;124;43m\"\u001b[39;49m\u001b[38;5;124;43mencoding_errors\u001b[39;49m\u001b[38;5;124;43m\"\u001b[39;49m\u001b[43m,\u001b[49m\u001b[43m \u001b[49m\u001b[38;5;124;43m\"\u001b[39;49m\u001b[38;5;124;43mstrict\u001b[39;49m\u001b[38;5;124;43m\"\u001b[39;49m\u001b[43m)\u001b[49m\u001b[43m,\u001b[49m\n\u001b[1;32m   1888\u001b[0m \u001b[43m    \u001b[49m\u001b[43mstorage_options\u001b[49m\u001b[38;5;241;43m=\u001b[39;49m\u001b[38;5;28;43mself\u001b[39;49m\u001b[38;5;241;43m.\u001b[39;49m\u001b[43moptions\u001b[49m\u001b[38;5;241;43m.\u001b[39;49m\u001b[43mget\u001b[49m\u001b[43m(\u001b[49m\u001b[38;5;124;43m\"\u001b[39;49m\u001b[38;5;124;43mstorage_options\u001b[39;49m\u001b[38;5;124;43m\"\u001b[39;49m\u001b[43m,\u001b[49m\u001b[43m \u001b[49m\u001b[38;5;28;43;01mNone\u001b[39;49;00m\u001b[43m)\u001b[49m\u001b[43m,\u001b[49m\n\u001b[1;32m   1889\u001b[0m \u001b[43m\u001b[49m\u001b[43m)\u001b[49m\n\u001b[1;32m   1890\u001b[0m \u001b[38;5;28;01massert\u001b[39;00m \u001b[38;5;28mself\u001b[39m\u001b[38;5;241m.\u001b[39mhandles \u001b[38;5;129;01mis\u001b[39;00m \u001b[38;5;129;01mnot\u001b[39;00m \u001b[38;5;28;01mNone\u001b[39;00m\n\u001b[1;32m   1891\u001b[0m f \u001b[38;5;241m=\u001b[39m \u001b[38;5;28mself\u001b[39m\u001b[38;5;241m.\u001b[39mhandles\u001b[38;5;241m.\u001b[39mhandle\n",
      "File \u001b[0;32m/opt/anaconda3/envs/dsif/lib/python3.11/site-packages/pandas/io/common.py:873\u001b[0m, in \u001b[0;36mget_handle\u001b[0;34m(path_or_buf, mode, encoding, compression, memory_map, is_text, errors, storage_options)\u001b[0m\n\u001b[1;32m    868\u001b[0m \u001b[38;5;28;01melif\u001b[39;00m \u001b[38;5;28misinstance\u001b[39m(handle, \u001b[38;5;28mstr\u001b[39m):\n\u001b[1;32m    869\u001b[0m     \u001b[38;5;66;03m# Check whether the filename is to be opened in binary mode.\u001b[39;00m\n\u001b[1;32m    870\u001b[0m     \u001b[38;5;66;03m# Binary mode does not support 'encoding' and 'newline'.\u001b[39;00m\n\u001b[1;32m    871\u001b[0m     \u001b[38;5;28;01mif\u001b[39;00m ioargs\u001b[38;5;241m.\u001b[39mencoding \u001b[38;5;129;01mand\u001b[39;00m \u001b[38;5;124m\"\u001b[39m\u001b[38;5;124mb\u001b[39m\u001b[38;5;124m\"\u001b[39m \u001b[38;5;129;01mnot\u001b[39;00m \u001b[38;5;129;01min\u001b[39;00m ioargs\u001b[38;5;241m.\u001b[39mmode:\n\u001b[1;32m    872\u001b[0m         \u001b[38;5;66;03m# Encoding\u001b[39;00m\n\u001b[0;32m--> 873\u001b[0m         handle \u001b[38;5;241m=\u001b[39m \u001b[38;5;28;43mopen\u001b[39;49m\u001b[43m(\u001b[49m\n\u001b[1;32m    874\u001b[0m \u001b[43m            \u001b[49m\u001b[43mhandle\u001b[49m\u001b[43m,\u001b[49m\n\u001b[1;32m    875\u001b[0m \u001b[43m            \u001b[49m\u001b[43mioargs\u001b[49m\u001b[38;5;241;43m.\u001b[39;49m\u001b[43mmode\u001b[49m\u001b[43m,\u001b[49m\n\u001b[1;32m    876\u001b[0m \u001b[43m            \u001b[49m\u001b[43mencoding\u001b[49m\u001b[38;5;241;43m=\u001b[39;49m\u001b[43mioargs\u001b[49m\u001b[38;5;241;43m.\u001b[39;49m\u001b[43mencoding\u001b[49m\u001b[43m,\u001b[49m\n\u001b[1;32m    877\u001b[0m \u001b[43m            \u001b[49m\u001b[43merrors\u001b[49m\u001b[38;5;241;43m=\u001b[39;49m\u001b[43merrors\u001b[49m\u001b[43m,\u001b[49m\n\u001b[1;32m    878\u001b[0m \u001b[43m            \u001b[49m\u001b[43mnewline\u001b[49m\u001b[38;5;241;43m=\u001b[39;49m\u001b[38;5;124;43m\"\u001b[39;49m\u001b[38;5;124;43m\"\u001b[39;49m\u001b[43m,\u001b[49m\n\u001b[1;32m    879\u001b[0m \u001b[43m        \u001b[49m\u001b[43m)\u001b[49m\n\u001b[1;32m    880\u001b[0m     \u001b[38;5;28;01melse\u001b[39;00m:\n\u001b[1;32m    881\u001b[0m         \u001b[38;5;66;03m# Binary mode\u001b[39;00m\n\u001b[1;32m    882\u001b[0m         handle \u001b[38;5;241m=\u001b[39m \u001b[38;5;28mopen\u001b[39m(handle, ioargs\u001b[38;5;241m.\u001b[39mmode)\n",
      "\u001b[0;31mFileNotFoundError\u001b[0m: [Errno 2] No such file or directory: '../data/1-raw/lending-club-2007-2020Q3/Loan_status_2007-2020Q3-100ksample.csv'"
     ]
    }
   ],
   "source": [
    "# Load the dataset\n",
    "# Note: optionally, added a 'sample' step to reduce size if facing slowdown/computational challenges.\n",
    "df = pd.read_csv(rf\"{path_python_material}/data/1-raw/lending-club-2007-2020Q3/Loan_status_2007-2020Q3-100ksample.csv\")#.sample(100)\n",
    "\n",
    "# Display the first few rows of the dataset\n",
    "df.head(5)"
   ]
  },
  {
   "cell_type": "code",
   "execution_count": null,
   "metadata": {
    "colab": {
     "base_uri": "https://localhost:8080/"
    },
    "executionInfo": {
     "elapsed": 17,
     "status": "ok",
     "timestamp": 1724823549826,
     "user": {
      "displayName": "Andrea Baroni",
      "userId": "13443912204230378793"
     },
     "user_tz": -120
    },
    "id": "eR6xGIvjQgx6",
    "outputId": "a9cc1ef1-d4b2-4131-e3fe-0b6e87a55b57"
   },
   "outputs": [],
   "source": [
    "df.columns[:5]"
   ]
  },
  {
   "cell_type": "code",
   "execution_count": null,
   "metadata": {
    "colab": {
     "base_uri": "https://localhost:8080/",
     "height": 241
    },
    "executionInfo": {
     "elapsed": 11,
     "status": "ok",
     "timestamp": 1724823549826,
     "user": {
      "displayName": "Andrea Baroni",
      "userId": "13443912204230378793"
     },
     "user_tz": -120
    },
    "id": "2X6oLbeUQgyA",
    "outputId": "0079ab06-800f-4e8b-96af-2468ea58f7b9"
   },
   "outputs": [],
   "source": [
    "df.dtypes[:5]"
   ]
  },
  {
   "cell_type": "markdown",
   "metadata": {
    "id": "YbZCSclGQgyA"
   },
   "source": [
    "**Hint**: Check out data types [here](https://pbpython.com/pandas_dtypes.html)"
   ]
  },
  {
   "cell_type": "markdown",
   "metadata": {
    "id": "1BYT-ok_QgyB"
   },
   "source": [
    "### <span style=\"color:BLUE\"> **>>> DISCUSSION: What are some of the things you notice by just looking at the data?**  </span>    \n",
    "*Hints*:\n",
    "- You may want to take a look at the data dictionary provided in the 'data' folder\n",
    "- Do you understand what each column, and the values within it, is or means?\n",
    "- Do you notice any inconsistencies or potential areas of concern around data quality or completeness?\n"
   ]
  },
  {
   "cell_type": "markdown",
   "metadata": {
    "id": "zZpDLrAnQgyB"
   },
   "source": [
    "2\\. Understanding your data and cleaning it: initial exploration and stats\n",
    "----------------------------------------\n"
   ]
  },
  {
   "cell_type": "markdown",
   "metadata": {
    "id": "ZFe629CuQgyB"
   },
   "source": [
    "As you can probably tell from looking at the above, it is easy to get overwhelmed by trying to scroll through over 100 fields to make sense of the data!\n",
    "In a real-life scenario, we would want to make sure we spend enough time (weeks if needed!) to deeply understand it and make sure it is ready to be used, by applying some of the techniques covered over the next few sessions.\n",
    "\n",
    "For that, we will be using the pandas 'drop' method, which takes a list of columns to be dropped as follows:\n",
    "``` df.drop(labels)``` : where labels is a single column name, or list.\n"
   ]
  },
  {
   "cell_type": "markdown",
   "metadata": {
    "id": "JinW-yHSQgyC"
   },
   "source": [
    "### <span style=\"color:BLUE\"> **>>> EXERCISE:**  </span>\n",
    "> - Pick 2 columns you would drop from this dataset (be ready to explain why). Create a list called `to_drop`.\n",
    "> - Drop the columns from your df by passing the list. If you are unsure how to do this, you are allowed to search on Google for the relevant pandas method - it is good to get familiar with searching through documentation.\n",
    "> - The new dataframe should be called `df_dropped`.   \n"
   ]
  },
  {
   "cell_type": "code",
   "execution_count": null,
   "metadata": {
    "executionInfo": {
     "elapsed": 11,
     "status": "ok",
     "timestamp": 1724823549827,
     "user": {
      "displayName": "Andrea Baroni",
      "userId": "13443912204230378793"
     },
     "user_tz": -120
    },
    "id": "egPlgOA1QgyC"
   },
   "outputs": [],
   "source": [
    "# list_to_drop = #YOUR CODE HERE\n",
    "# df_dropped = #YOUR CODE HERE"
   ]
  },
  {
   "cell_type": "code",
   "execution_count": null,
   "metadata": {
    "executionInfo": {
     "elapsed": 11,
     "status": "ok",
     "timestamp": 1724823549827,
     "user": {
      "displayName": "Andrea Baroni",
      "userId": "13443912204230378793"
     },
     "user_tz": -120
    },
    "id": "SHHdGxeXQgyC"
   },
   "outputs": [],
   "source": [
    "# SOLUTION:\n",
    "list_to_drop = ['Unnamed: 0.1', 'Unnamed: 0']\n",
    "df_dropped = df.drop(list_to_drop, axis = 1)"
   ]
  },
  {
   "cell_type": "code",
   "execution_count": null,
   "metadata": {
    "colab": {
     "base_uri": "https://localhost:8080/"
    },
    "executionInfo": {
     "elapsed": 10,
     "status": "ok",
     "timestamp": 1724823549827,
     "user": {
      "displayName": "Andrea Baroni",
      "userId": "13443912204230378793"
     },
     "user_tz": -120
    },
    "id": "e1bFFw9kQgyD",
    "outputId": "9f9499d0-b040-4f55-8940-d1367dc22577"
   },
   "outputs": [],
   "source": [
    "print(f\"df shape: {df.shape}\")\n",
    "print(f\"df_dropped shape: {df_dropped.shape}\")"
   ]
  },
  {
   "cell_type": "markdown",
   "metadata": {
    "id": "pJKtp_BAQgyD"
   },
   "source": [
    "**When to consider dropping columns?**\n",
    "- **business/problem relevance**: is the data relevant to the problem I am trying to solve (e.g. Do I need IDs?)\n",
    "- **high % of missing values**: especially if the data is not easily recoverable or imputation might introduce significant bias.\n",
    "- **little to no variance**: provide minimal information for the model and can be dropped.\n",
    "- **high correlation**: if two or more columns are highly correlated, they contain redundant information. You might drop one of them to reduce 'multicollinearity'.\n",
    "- **high cardinality**: Categorical columns with too many unique values (high cardinality) can lead to overfitting and increased computational cost. These can be dropped or encoded differently.\n"
   ]
  },
  {
   "cell_type": "markdown",
   "metadata": {
    "id": "AIfAqnZYQgyE"
   },
   "source": [
    "\n",
    "### Basic data exploration and stats"
   ]
  },
  {
   "cell_type": "code",
   "execution_count": null,
   "metadata": {
    "colab": {
     "base_uri": "https://localhost:8080/"
    },
    "executionInfo": {
     "elapsed": 9,
     "status": "ok",
     "timestamp": 1724823549827,
     "user": {
      "displayName": "Andrea Baroni",
      "userId": "13443912204230378793"
     },
     "user_tz": -120
    },
    "id": "QpFOiLh2QgyF",
    "outputId": "18269c9f-5e82-47cb-e96f-fc468593bc11"
   },
   "outputs": [],
   "source": [
    "# Number of rows and columns\n",
    "df_dropped.shape"
   ]
  },
  {
   "cell_type": "markdown",
   "metadata": {
    "id": "K9a84oNsQgyG"
   },
   "source": [
    "#### Numeric columns"
   ]
  },
  {
   "cell_type": "markdown",
   "metadata": {
    "id": "AbZ8T6jlQgyG"
   },
   "source": [
    "The dataset used has 100k rows - for the purposes of this course, a sample is being used for simplicity (original dataset size: circa 3m records covering period between 2007 and 2020)."
   ]
  },
  {
   "cell_type": "markdown",
   "metadata": {
    "id": "wsXNYXJLQgyG"
   },
   "source": [
    "The describe() method generates descriptive statistics **for numeric columns**. This includes:\n",
    "\n",
    "- count: Number of non-null entries.\n",
    "- mean: Average value.\n",
    "- std: Standard deviation.\n",
    "- min: Minimum value.\n",
    "- 25%: 25th percentile (first quartile).\n",
    "- 50%: 50th percentile (median or second quartile).\n",
    "- 75%: 75th percentile (third quartile).\n",
    "- max: Maximum value."
   ]
  },
  {
   "cell_type": "code",
   "execution_count": null,
   "metadata": {
    "colab": {
     "base_uri": "https://localhost:8080/",
     "height": 356
    },
    "executionInfo": {
     "elapsed": 1939,
     "status": "ok",
     "timestamp": 1724823551759,
     "user": {
      "displayName": "Andrea Baroni",
      "userId": "13443912204230378793"
     },
     "user_tz": -120
    },
    "id": "NqdT14k_QgyH",
    "outputId": "79ad096f-a811-4a99-f1d0-c3b6a8415f8d"
   },
   "outputs": [],
   "source": [
    "# Descriptive statistics of the numeric columns\n",
    "print(\"\\nDescriptive Statistics:\")\n",
    "df_dropped.describe()"
   ]
  },
  {
   "cell_type": "markdown",
   "metadata": {
    "id": "69nLtG7sQgyH"
   },
   "source": [
    "This table can be slightly overwhelming to digest, but is very useful to get a sense of our data."
   ]
  },
  {
   "cell_type": "markdown",
   "metadata": {
    "id": "gUWcHgUsQgyI"
   },
   "source": [
    "#### Categorical columns"
   ]
  },
  {
   "cell_type": "code",
   "execution_count": null,
   "metadata": {
    "colab": {
     "base_uri": "https://localhost:8080/",
     "height": 1000
    },
    "executionInfo": {
     "elapsed": 1100,
     "status": "ok",
     "timestamp": 1724823552854,
     "user": {
      "displayName": "Andrea Baroni",
      "userId": "13443912204230378793"
     },
     "user_tz": -120
    },
    "id": "3AYZUCIvQgyI",
    "outputId": "9e5c073a-8ef8-484e-f09d-e96481dfe5fd"
   },
   "outputs": [],
   "source": [
    "print(\"\\nNumber of unique values in each column:\")\n",
    "df_dropped.nunique()"
   ]
  },
  {
   "cell_type": "markdown",
   "metadata": {
    "id": "SZHxmRQ7QgyI"
   },
   "source": [
    "This can be used to further validate our understanding of the data, as well as detect unusual or rare values that may indicate data entry errors, outliers, or irrelevant categories.\n",
    "\n",
    "E.g.:\n",
    "- Are we expecting single value of identifiers per record (linked to granularity)\n",
    "- Does any of the categorical features present too many values, and if so could it be be simplified by grouping them into fewer categories ('enconding')?"
   ]
  },
  {
   "cell_type": "markdown",
   "metadata": {
    "id": "OaVl3fB0QgyJ"
   },
   "source": [
    "Let's look at the values assumed by one of the categorical features.  \n",
    "\n",
    "One of the variables to look out for is *loan_status*, which will be used for modelling later on:"
   ]
  },
  {
   "cell_type": "code",
   "execution_count": null,
   "metadata": {
    "colab": {
     "base_uri": "https://localhost:8080/",
     "height": 429
    },
    "executionInfo": {
     "elapsed": 11,
     "status": "ok",
     "timestamp": 1724823552854,
     "user": {
      "displayName": "Andrea Baroni",
      "userId": "13443912204230378793"
     },
     "user_tz": -120
    },
    "id": "f4cXbI6iQgyJ",
    "outputId": "1b4a6105-03f9-4e9f-803b-4f48c32a1558"
   },
   "outputs": [],
   "source": [
    "df_dropped.loan_status.value_counts()"
   ]
  },
  {
   "cell_type": "markdown",
   "metadata": {
    "id": "P5eWN7fpQgyJ"
   },
   "source": [
    "*Useful definitions:*  \n",
    "- *Defaulted Loan: A loan is considered in default when the borrower fails to make the required payments as agreed in the loan contract. Default typically occurs after missing several payments (usually 90 to 180 days, depending on the type of loan and lender policies).*\n",
    "- *A loan is charged off when the lender writes off the loan as a bad debt on their financial statements, recognizing it as a loss. This typically happens after the loan has been in default for a significant period, often around 180 days.*\n"
   ]
  },
  {
   "cell_type": "markdown",
   "metadata": {
    "id": "h75K04w3QgyK"
   },
   "source": [
    "### <span style=\"color:BLUE\"> **>>> EXERCISE:**  </span>    \n",
    "> Calculate the average loan amount for loans that were charged off\n"
   ]
  },
  {
   "cell_type": "code",
   "execution_count": null,
   "metadata": {
    "executionInfo": {
     "elapsed": 10,
     "status": "ok",
     "timestamp": 1724823552854,
     "user": {
      "displayName": "Andrea Baroni",
      "userId": "13443912204230378793"
     },
     "user_tz": -120
    },
    "id": "ufStEjuqQgyK"
   },
   "outputs": [],
   "source": [
    "# # Step 1 - Filter on charged off records based on df_dropped.loan_status == \"Charged Off\" condition\n",
    "# charged_off_loans = # YOUR CODE HERE\n",
    "#\n",
    "# # Step 2 - Calculate average size of charged off loan\n",
    "# average_size_loan = # YOUR CODE HERE\n",
    "# print(f\"\"\"Average size of charged off loan:\n",
    "#           {\n",
    "#               average_size_loan\n",
    "#           }\"\"\")\n",
    "#"
   ]
  },
  {
   "cell_type": "code",
   "execution_count": null,
   "metadata": {
    "colab": {
     "base_uri": "https://localhost:8080/"
    },
    "executionInfo": {
     "elapsed": 9,
     "status": "ok",
     "timestamp": 1724823552854,
     "user": {
      "displayName": "Andrea Baroni",
      "userId": "13443912204230378793"
     },
     "user_tz": -120
    },
    "id": "dnHs349CQgyM",
    "outputId": "66e8fefa-3459-4069-d9f2-440207ed754d"
   },
   "outputs": [],
   "source": [
    "# SOLUTION\n",
    "# Step 1 - Filter on charged off records based on df_dropped.loan_status == \"Charged Off\" condition\n",
    "charged_off_loans = df_dropped[df_dropped.loan_status == \"Charged Off\"]\n",
    "\n",
    "# Step 2 - Calculate average size of charged off loan\n",
    "average_size_loan = charged_off_loans['loan_amnt'].mean()\n",
    "print(f\"\"\"Average size of charged off loan:\n",
    "         {\n",
    "             average_size_loan\n",
    "         }\"\"\")\n"
   ]
  },
  {
   "cell_type": "code",
   "execution_count": null,
   "metadata": {
    "colab": {
     "base_uri": "https://localhost:8080/",
     "height": 35
    },
    "executionInfo": {
     "elapsed": 8,
     "status": "ok",
     "timestamp": 1724823552855,
     "user": {
      "displayName": "Andrea Baroni",
      "userId": "13443912204230378793"
     },
     "user_tz": -120
    },
    "id": "0xmQ8a3MQgyN",
    "outputId": "3934abc6-dbf8-4f19-cc1f-c521843d6993"
   },
   "outputs": [],
   "source": [
    "# Tip: How to format your output?\n",
    "formatted_average_size_loan = f\"${average_size_loan:,.2f}\"\n",
    "formatted_average_size_loan"
   ]
  },
  {
   "cell_type": "code",
   "execution_count": null,
   "metadata": {
    "executionInfo": {
     "elapsed": 529,
     "status": "ok",
     "timestamp": 1724823553377,
     "user": {
      "displayName": "Andrea Baroni",
      "userId": "13443912204230378793"
     },
     "user_tz": -120
    },
    "id": "KIvaolXoQgyN"
   },
   "outputs": [],
   "source": [
    "# Let's apply to the entire dataframe\n",
    "\n",
    "def format_dollar(amount):\n",
    "    return f\"${amount:,.2f}\"\n",
    "\n",
    "# Apply the function to the 'loan_amount' column for display purposes\n",
    "df_dropped['loan_amount_formatted'] = df_dropped['loan_amnt'].apply(format_dollar)\n"
   ]
  },
  {
   "cell_type": "markdown",
   "metadata": {
    "id": "bbC-KGGVQgyO"
   },
   "source": [
    "Note: The above number has been formatted to string, hence while this may be useful to display the result - it will not be useful for analysis/modelling purposes, as seen in the following example:"
   ]
  },
  {
   "cell_type": "code",
   "execution_count": null,
   "metadata": {
    "colab": {
     "base_uri": "https://localhost:8080/",
     "height": 161
    },
    "executionInfo": {
     "elapsed": 6832,
     "status": "ok",
     "timestamp": 1724823560190,
     "user": {
      "displayName": "Andrea Baroni",
      "userId": "13443912204230378793"
     },
     "user_tz": -120
    },
    "id": "gcusaoG4QgyP",
    "outputId": "5b0caa45-f524-4b03-ce77-c2b7dfcfbf5d"
   },
   "outputs": [],
   "source": [
    "# As an example:\n",
    "df_dropped['loan_amount_formatted'].sum()"
   ]
  },
  {
   "cell_type": "markdown",
   "metadata": {
    "id": "qyWAEofkQgyW"
   },
   "source": [
    "### <span style=\"color:BLUE\"> **>>> DISCUSSION: Can you guess what happened and why?**  </span>    "
   ]
  },
  {
   "cell_type": "markdown",
   "metadata": {
    "id": "1n96TIjIQgyX"
   },
   "source": [
    "### <span style=\"color:BLUE\"> **>>> EXERCISE:**  </span>    \n",
    "> Drop the `loan_amount_formatted` column given it will not be useful for our downstream work."
   ]
  },
  {
   "cell_type": "code",
   "execution_count": null,
   "metadata": {
    "executionInfo": {
     "elapsed": 22,
     "status": "ok",
     "timestamp": 1724823560191,
     "user": {
      "displayName": "Andrea Baroni",
      "userId": "13443912204230378793"
     },
     "user_tz": -120
    },
    "id": "Jc8qjp9yQgyX"
   },
   "outputs": [],
   "source": [
    "# df_dropped = # YOUR CODE HERE"
   ]
  },
  {
   "cell_type": "code",
   "execution_count": null,
   "metadata": {
    "executionInfo": {
     "elapsed": 20,
     "status": "ok",
     "timestamp": 1724823560191,
     "user": {
      "displayName": "Andrea Baroni",
      "userId": "13443912204230378793"
     },
     "user_tz": -120
    },
    "id": "LTvdFz5EQgyY"
   },
   "outputs": [],
   "source": [
    "# SOLUTION\n",
    "df_dropped = df_dropped.drop([\"loan_amount_formatted\"], axis = 1)"
   ]
  },
  {
   "cell_type": "markdown",
   "metadata": {
    "id": "wT8YVz08QgyY"
   },
   "source": [
    "3\\. Handling missing values\n",
    "----------------------------------------\n",
    "\n",
    "\n",
    "Identifying and treating missing value is a critical step in data preparation, particularly given many algorithms require a complete dataset to calculate distances, probabilities, and optimize objective functions. It is also a great opportunity to cement our understanding of the features and what they represent.\n",
    "\n",
    "In Pandas, missing data is represented by two values:\n",
    "- None: a Python singleton object that is often used for missing data in Python code.\n",
    "- NaN : acronym for 'Not a Number' - is a special floating-point value recognized by all systems that use the standard IEEE floating-point representatio\n",
    "\n",
    "**Explanation**\n",
    "Missing values are common in real-world datasets and need to be handled appropriately. There are several ways to deal with missing values:\n",
    "- Removal: Dropping rows or columns with missing values.\n",
    "- Imputation: Filling missing values with a specific value, such as the mean, median, or mode.\n",
    "\n",
    "**Implementation**"
   ]
  },
  {
   "cell_type": "code",
   "execution_count": null,
   "metadata": {
    "colab": {
     "base_uri": "https://localhost:8080/",
     "height": 1000
    },
    "executionInfo": {
     "elapsed": 574,
     "status": "ok",
     "timestamp": 1724823560745,
     "user": {
      "displayName": "Andrea Baroni",
      "userId": "13443912204230378793"
     },
     "user_tz": -120
    },
    "id": "9ShliHr0QgyY",
    "outputId": "f644424e-8d0a-4411-fc22-a5dfdfe90e2e"
   },
   "outputs": [],
   "source": [
    "# Checking for missing values\n",
    "df_dropped.isnull().sum()\n"
   ]
  },
  {
   "cell_type": "markdown",
   "metadata": {
    "id": "z2qkj1kPQgyZ"
   },
   "source": [
    "#### Example approaches"
   ]
  },
  {
   "cell_type": "markdown",
   "metadata": {
    "id": "xI3ExVpOQgyZ"
   },
   "source": [
    "We could leverage the power of Python to create a rule that automatically drops columns with a % of missing values that exceeds a given threshold. However, we **absolutely** need to make sure we understand the data and what missing values **actually** represent.\n",
    "\n",
    "If unsure, do not drop features at this initial stage, as we will be learning about techniques that can help with feature selection when we get to model building classes.\n",
    "\n",
    "As an example, let's image data SMEs in the business have advised that 'hardship' related features actually point to customers who are NOT on hardship plan, which may actually be useful information we do not want to discard!"
   ]
  },
  {
   "cell_type": "code",
   "execution_count": null,
   "metadata": {
    "colab": {
     "base_uri": "https://localhost:8080/",
     "height": 130
    },
    "executionInfo": {
     "elapsed": 11,
     "status": "ok",
     "timestamp": 1724823560746,
     "user": {
      "displayName": "Andrea Baroni",
      "userId": "13443912204230378793"
     },
     "user_tz": -120
    },
    "id": "YnvM07PQQgyZ",
    "outputId": "bb12b7b3-69f5-4146-d684-559d52ecbc0b"
   },
   "outputs": [],
   "source": [
    "# Create hardship flag based on information provided by data SMEs in the business\n",
    "df_dropped['hardship_status_filled'] = df_dropped['hardship_status'].fillna(\"NO_HARDSHIP\")\n",
    "print(f\"Nulls after filling: {df_dropped['hardship_status_filled'].isnull().sum()}\")\n",
    "df_dropped[['hardship_status_filled', 'hardship_status']].head(2)"
   ]
  },
  {
   "cell_type": "code",
   "execution_count": null,
   "metadata": {
    "colab": {
     "base_uri": "https://localhost:8080/"
    },
    "executionInfo": {
     "elapsed": 7,
     "status": "ok",
     "timestamp": 1724823560746,
     "user": {
      "displayName": "Andrea Baroni",
      "userId": "13443912204230378793"
     },
     "user_tz": -120
    },
    "id": "-HRf1dLWQgyZ",
    "outputId": "60bc27b0-c9fa-4290-9bf7-a63d5a1a7a7f"
   },
   "outputs": [],
   "source": [
    "# Imputation: Filling missing values with the mean for numerical columns\n",
    "df_dropped['num_accts_ever_120_pd'].fillna(df_dropped['num_accts_ever_120_pd'].mean(), inplace=True)\n",
    "print(f\"Nulls after filling: {df_dropped['num_accts_ever_120_pd'].isnull().sum()}\")\n"
   ]
  },
  {
   "cell_type": "markdown",
   "metadata": {
    "id": "XcTKcbzEQgya"
   },
   "source": [
    "Alternatively, a more radical approach is to drop records when null values appear. This is **not recommended** unless you have confidence that it will meet a business need, or not impact your modelling too much (e.g. overall data is populated, only minor portion of rows have missing values which we want to discard)."
   ]
  },
  {
   "cell_type": "code",
   "execution_count": null,
   "metadata": {
    "colab": {
     "base_uri": "https://localhost:8080/"
    },
    "executionInfo": {
     "elapsed": 479,
     "status": "ok",
     "timestamp": 1724823561220,
     "user": {
      "displayName": "Andrea Baroni",
      "userId": "13443912204230378793"
     },
     "user_tz": -120
    },
    "id": "LQu0bE4oQgya",
    "outputId": "8ec282af-0bea-4871-8f8a-72748aa52af5"
   },
   "outputs": [],
   "source": [
    "# Let's try this 'blanket' approach on our data and see what happens:\n",
    "df_blanket_drop = df_dropped.dropna(axis=0, how='any')\n",
    "df_blanket_drop.shape"
   ]
  },
  {
   "cell_type": "markdown",
   "metadata": {
    "id": "uZQYvdtFQgya"
   },
   "source": [
    "As expected, we ended up with very few/no records given the many 'holes' in our dataset. This is very common in practice for such large data sources (and so many features which are often sparsely populated), so if really wanted to use this approach, we may want to restrict dropping based on a subset of features being null."
   ]
  },
  {
   "cell_type": "code",
   "execution_count": null,
   "metadata": {
    "colab": {
     "base_uri": "https://localhost:8080/"
    },
    "executionInfo": {
     "elapsed": 350,
     "status": "ok",
     "timestamp": 1724823561568,
     "user": {
      "displayName": "Andrea Baroni",
      "userId": "13443912204230378793"
     },
     "user_tz": -120
    },
    "id": "YJmSRcvBQgyb",
    "outputId": "81dc00ce-876e-417f-b815-bb8575ee9d8c"
   },
   "outputs": [],
   "source": [
    "# Let's try this 'blanket' approach on a subset of fields and see what happens:\n",
    "df_blanket_drop2 = df_dropped.dropna(axis=0, how='any',subset=['mo_sin_rcnt_rev_tl_op', 'emp_title'])\n",
    "df_blanket_drop2.shape"
   ]
  },
  {
   "cell_type": "markdown",
   "metadata": {
    "id": "jTjI3tFMQgyd"
   },
   "source": [
    "Alternatively, we can use the 'all' option to only drop records that are completely empty"
   ]
  },
  {
   "cell_type": "code",
   "execution_count": null,
   "metadata": {
    "colab": {
     "base_uri": "https://localhost:8080/"
    },
    "executionInfo": {
     "elapsed": 367,
     "status": "ok",
     "timestamp": 1724823561933,
     "user": {
      "displayName": "Andrea Baroni",
      "userId": "13443912204230378793"
     },
     "user_tz": -120
    },
    "id": "B5s0IvMGQgyd",
    "outputId": "a1278a69-4fad-43e1-c783-3ea36f7ffca6"
   },
   "outputs": [],
   "source": [
    "# Let's try this option and see what happens:\n",
    "df_blanket_drop3 = df_dropped.dropna(axis=0, how='all')\n",
    "df_blanket_drop3.shape"
   ]
  },
  {
   "cell_type": "markdown",
   "metadata": {
    "id": "u95kBxJSQgye"
   },
   "source": [
    "### <span style=\"color:BLUE\"> **>>> DISCUSSION:**  </span>    \n",
    "- Can you think of benefits / limitations of above approaches?\n",
    "\n"
   ]
  },
  {
   "cell_type": "markdown",
   "metadata": {
    "id": "4YD5x4-6Qgyi"
   },
   "source": [
    "4\\. Removing duplicates\n",
    "----------------------------------------\n",
    "\n",
    "Duplicates can skew your analysis and should be removed to ensure data integrity."
   ]
  },
  {
   "cell_type": "code",
   "execution_count": null,
   "metadata": {
    "colab": {
     "base_uri": "https://localhost:8080/"
    },
    "executionInfo": {
     "elapsed": 788,
     "status": "ok",
     "timestamp": 1724823562718,
     "user": {
      "displayName": "Andrea Baroni",
      "userId": "13443912204230378793"
     },
     "user_tz": -120
    },
    "id": "RZ1yORvOQgyn",
    "outputId": "d04d63f4-0cb3-4cd4-961c-9d6be617f9a0"
   },
   "outputs": [],
   "source": [
    "# Checking for duplicate rows\n",
    "duplicates = df_dropped.duplicated().sum()\n",
    "duplicates"
   ]
  },
  {
   "cell_type": "code",
   "execution_count": null,
   "metadata": {
    "colab": {
     "base_uri": "https://localhost:8080/"
    },
    "executionInfo": {
     "elapsed": 1097,
     "status": "ok",
     "timestamp": 1724823563813,
     "user": {
      "displayName": "Andrea Baroni",
      "userId": "13443912204230378793"
     },
     "user_tz": -120
    },
    "id": "NR3zJLvEQgyo",
    "outputId": "bbc5497c-4794-41e0-9be0-fe14e0659bea"
   },
   "outputs": [],
   "source": [
    "# Removing duplicate rows\n",
    "df_deduped = df_dropped.drop_duplicates(inplace=True)\n",
    "\n",
    "try:\n",
    "    df_deduped.shape # Note: it will fail if empty (i.e. no duplicates)\n",
    "except:\n",
    "    print(\"No duplicates\")"
   ]
  },
  {
   "cell_type": "markdown",
   "metadata": {
    "id": "dJ0Of17CQgyp"
   },
   "source": [
    "### <span style=\"color:BLUE\"> **>>> DISCUSSION:**  </span>    \n",
    "- Can you think of benefits / limitations of above approaches?\n",
    "- Do you know why we used the 'try' and 'except' logic?\n",
    "\n"
   ]
  },
  {
   "cell_type": "markdown",
   "metadata": {
    "id": "NULBAYdOQgyq"
   },
   "source": [
    "5\\. Handling outliers\n",
    "----------------------------------------\n",
    "Outliers can distort statistical analysis and models. They can be genuine outlying observations (e.g.: Black Friday sales spike), or point to data errors (e.g.: manual data entry). In both cases, we would want to account for this and treat them.\n",
    "\n",
    "Common techniques to **identify** outliers include:\n",
    "\n",
    "- Z-score: Identifying outliers based on the standard deviation.\n",
    "- IQR (Interquartile Range): Identifying outliers based on the 25th and 75th percentiles."
   ]
  },
  {
   "cell_type": "markdown",
   "metadata": {
    "id": "aOTfM9o7Qgyq"
   },
   "source": [
    "### Why is Outlier Detection Important?\n",
    "\n",
    "Outliers can significantly impact the performance and accuracy of machine learning models and statistical analyses. Here's why detecting and handling outliers is crucial:\n",
    "\n",
    "1\\. **Model Performance:** Outliers can skew model training and lead to poor generalization on unseen data.\n",
    "\n",
    "2\\. **Data Integrity:** Outliers may indicate data entry errors or unusual events that require further investigation.\n",
    "\n",
    "3\\. **Statistical Accuracy:** Outliers can affect summary statistics such as mean, standard deviation, and correlation, leading to misleading conclusions.\n",
    "\n",
    "4\\. **Improved Insights:** Identifying outliers can reveal valuable insights into rare but important events or patterns in the data.\n",
    "\n",
    "### Use Cases for Outlier Detection\n",
    "\n",
    "In the context of lending, outlier detection can be used in several ways:\n",
    "\n",
    "1\\. **Fraud Detection:** Outliers in financial transactions or application data could indicate fraudulent activities.\n",
    "\n",
    "2\\. **Credit Risk Analysis:** Unusual loan amounts, incomes or other features (or set of) might signal higher risk applications.\n",
    "\n",
    "3\\. **Data Quality Improvement:** Identifying and correcting outliers can improve the overall quality of the dataset.\n",
    "\n",
    "### Example Analysis on LendingClub Loan Application Data\n",
    "\n",
    "Let's perform an outlier detection analysis on LendingClub loan application data using various techniques.\n",
    "\n",
    "#### Checking for Outliers using Z-score\n",
    "\n",
    "The Z-score method identifies outliers by measuring how many standard deviations a data point is from the mean.\n"
   ]
  },
  {
   "cell_type": "markdown",
   "metadata": {
    "id": "w0SNZ738Qgyr"
   },
   "source": [
    "From [investopedia](https://www.investopedia.com/terms/z/zscore.asp#:~:text=Understanding%20Z%2DScore,-Z%2Dscore%20is&text=It%20indicates%20how%20many%20standard,standard%20deviation%20from%20the%20mean.):\n",
    "> Z-score is a statistical measure that quantifies the distance between a data point and the mean of a dataset. It's expressed in terms of standard deviations. It indicates how many standard deviations a data point is from the mean of the distribution.\n",
    "\n",
    "> If a Z-score is 0, it indicates that the data point's score is identical to the mean score. A Z-score of 1.0 would indicate a value that is one standard deviation from the mean. Z-scores may be positive or negative, with a positive value indicating the score is above the mean and a negative score indicating it is below the mean."
   ]
  },
  {
   "cell_type": "code",
   "execution_count": null,
   "metadata": {
    "colab": {
     "base_uri": "https://localhost:8080/",
     "height": 525
    },
    "executionInfo": {
     "elapsed": 816,
     "status": "ok",
     "timestamp": 1724823564627,
     "user": {
      "displayName": "Andrea Baroni",
      "userId": "13443912204230378793"
     },
     "user_tz": -120
    },
    "id": "EHhAYJGrQgyr",
    "outputId": "ab932380-a87a-475a-ca20-f16e7fcb074d"
   },
   "outputs": [],
   "source": [
    "from scipy import stats\n",
    "import numpy as np\n",
    "\n",
    "# Calculating on a single column, e.g. loan amount\n",
    "z_scores = stats.zscore(df_dropped[\"loan_amnt\"])\n",
    "sns.displot(z_scores, kind='kde')"
   ]
  },
  {
   "cell_type": "markdown",
   "metadata": {
    "id": "oRxIufJpQgyu"
   },
   "source": [
    "Observations:\n",
    "- Loan amount follows a distribution close to normal\n",
    "- Slight volume increase in loan amounts between 1 and 3 stddev from the mean, probably a subset of loans with higher amount\n",
    "- Do we have any outliers? This depends on how we define outlier (ie. where we set the threshold), as per example below:"
   ]
  },
  {
   "cell_type": "code",
   "execution_count": null,
   "metadata": {
    "colab": {
     "base_uri": "https://localhost:8080/"
    },
    "executionInfo": {
     "elapsed": 8,
     "status": "ok",
     "timestamp": 1724823564628,
     "user": {
      "displayName": "Andrea Baroni",
      "userId": "13443912204230378793"
     },
     "user_tz": -120
    },
    "id": "tGCVnmr4Qgyv",
    "outputId": "6492b682-8d58-4ebd-a54d-9c3e5a73833b"
   },
   "outputs": [],
   "source": [
    "# Threshold = 3\n",
    "for threshold in range(200, 301, 25):\n",
    "    thresh = threshold/100\n",
    "    print(f\"Threshold == {thresh}, {df_dropped[np.abs(z_scores)>thresh].shape[0]} outliers \")"
   ]
  },
  {
   "cell_type": "markdown",
   "metadata": {
    "id": "Sk9K7u2lQgyv"
   },
   "source": [
    "Now let's calculate across all numeric features, no longer single feature:"
   ]
  },
  {
   "cell_type": "code",
   "execution_count": null,
   "metadata": {
    "colab": {
     "base_uri": "https://localhost:8080/",
     "height": 1000
    },
    "executionInfo": {
     "elapsed": 656,
     "status": "ok",
     "timestamp": 1724823565279,
     "user": {
      "displayName": "Andrea Baroni",
      "userId": "13443912204230378793"
     },
     "user_tz": -120
    },
    "id": "YFjBvuS7Qgyv",
    "outputId": "248b3beb-49f7-4640-e600-ac623198ad13"
   },
   "outputs": [],
   "source": [
    "# Calculate Z-scores for numerical columns\n",
    "z_scores = np.abs(stats.zscore(df_dropped.select_dtypes(include=[np.number])))\n",
    "\n",
    "# Define a threshold for identifying outliers\n",
    "threshold = 3\n",
    "\n",
    "# How many outliers identified for each numerical columns?\n",
    "gt_thresh = z_scores > threshold\n",
    "outlier_volume = pd.DataFrame(gt_thresh.sum(), columns=[\"num_outliers\"])\n",
    "outlier_volume.sort_values(by = \"num_outliers\"\n",
    "                          , ascending= False)"
   ]
  },
  {
   "cell_type": "markdown",
   "metadata": {
    "id": "RRVMrXGvQgyw"
   },
   "source": [
    "### <span style=\"color:BLUE\"> **>>> EXERCISE:**  </span>\n",
    "> Highlight the outlying values for `last_pmnt_amnt`. How do they compare to the rest of the distribution for that same column?\n"
   ]
  },
  {
   "cell_type": "code",
   "execution_count": null,
   "metadata": {
    "executionInfo": {
     "elapsed": 22,
     "status": "ok",
     "timestamp": 1724823565279,
     "user": {
      "displayName": "Andrea Baroni",
      "userId": "13443912204230378793"
     },
     "user_tz": -120
    },
    "id": "qfMGX1IBQgyw"
   },
   "outputs": [],
   "source": [
    "# # YOUR CODE HERE\n",
    "# lpa_outliers = # YOUR CODE HERE\n",
    "# print(f\"Outlying values:\\n {len(lpa_outliers)}\")\n",
    "\n",
    "# print(f\"Distribution details for outliers:\\n {#YOUR CODE HERE}\")\n",
    "# print(f\"Distribution details for non-outliers:\\n {#YOUR CODE HERE}\")"
   ]
  },
  {
   "cell_type": "code",
   "execution_count": null,
   "metadata": {
    "colab": {
     "base_uri": "https://localhost:8080/"
    },
    "executionInfo": {
     "elapsed": 351,
     "status": "ok",
     "timestamp": 1724823695220,
     "user": {
      "displayName": "Andrea Baroni",
      "userId": "13443912204230378793"
     },
     "user_tz": -120
    },
    "id": "o8a_Gs9nQgyx",
    "outputId": "3d22350d-c318-4920-b413-d626f436a314"
   },
   "outputs": [],
   "source": [
    "# Solution\n",
    "lpa_outliers = df_dropped[gt_thresh.last_pymnt_amnt == True].last_pymnt_amnt\n",
    "lpa_non_outliers = df_dropped[gt_thresh.last_pymnt_amnt == False].last_pymnt_amnt\n",
    "print(f\"Outlying values:\\n {len(lpa_outliers)}\")\n",
    "print(f\"Distribution details for outliers:\\n {lpa_outliers.describe()}\")\n",
    "print(f\"Distribution details for non outliers:\\n {df_dropped.last_pymnt_amnt.describe()}\")"
   ]
  },
  {
   "cell_type": "markdown",
   "metadata": {
    "id": "OEy1BhiEQgyy"
   },
   "source": [
    "### Visualizing Outliers\n",
    "Visualizing outliers can help understand their distribution and impact.\n",
    "Boxplots (a.k.a. box and whisker plots) can be used to visualise distributions and outliers.\n"
   ]
  },
  {
   "cell_type": "code",
   "execution_count": null,
   "metadata": {
    "colab": {
     "base_uri": "https://localhost:8080/",
     "height": 564
    },
    "executionInfo": {
     "elapsed": 15,
     "status": "ok",
     "timestamp": 1724823565279,
     "user": {
      "displayName": "Andrea Baroni",
      "userId": "13443912204230378793"
     },
     "user_tz": -120
    },
    "id": "Sy-1oBPqQgyy",
    "outputId": "4236e860-b42b-45de-b5de-40bd86ec9604"
   },
   "outputs": [],
   "source": [
    "import matplotlib.pyplot as plt\n",
    "import seaborn as sns\n",
    "\n",
    "field_to_plot = \"last_pymnt_amnt\"\n",
    "\n",
    "# Plotting variable distribution with outliers\n",
    "plt.figure(figsize=(12, 6))\n",
    "sns.boxplot(x=df_dropped[field_to_plot])\n",
    "plt.title(f\"Distribution and outliers for {field_to_plot}\")\n",
    "plt.show()\n"
   ]
  },
  {
   "cell_type": "markdown",
   "metadata": {
    "id": "IaYU0eNvQgy1"
   },
   "source": [
    "Do you notice anything unusual in the chart above?\n",
    "\n",
    "The number of outliers is indeed different - this is because the library used adopts a differnt methodology to identify outliers, based on Interquantile Range. You can read more details [here](https://www.geeksforgeeks.org/interquartile-range-to-detect-outliers-in-data/)."
   ]
  },
  {
   "cell_type": "markdown",
   "metadata": {
    "id": "AICEtmFjQgy2"
   },
   "source": [
    "\n",
    "\n",
    "### Once detected, handling outliers\n",
    "\n",
    "Once outliers have been identified - what do we do with them?\n",
    "\n",
    "Outliers can be handled in several ways, including removal, transformation, or capping.\n"
   ]
  },
  {
   "cell_type": "code",
   "execution_count": null,
   "metadata": {
    "colab": {
     "base_uri": "https://localhost:8080/"
    },
    "executionInfo": {
     "elapsed": 486,
     "status": "ok",
     "timestamp": 1724823565752,
     "user": {
      "displayName": "Andrea Baroni",
      "userId": "13443912204230378793"
     },
     "user_tz": -120
    },
    "id": "4ZZnEtxvQgy2",
    "outputId": "6963fa16-e777-4e22-d235-6c2b527a0bb9"
   },
   "outputs": [],
   "source": [
    "# Option 1 - Removing outliers\n",
    "field_to_treat = \"last_pymnt_amnt\"\n",
    "\n",
    "df_no_outliers = df_dropped[(z_scores[field_to_treat] < threshold)]\n",
    "df_no_outliers.shape"
   ]
  },
  {
   "cell_type": "code",
   "execution_count": null,
   "metadata": {
    "colab": {
     "base_uri": "https://localhost:8080/"
    },
    "executionInfo": {
     "elapsed": 21,
     "status": "ok",
     "timestamp": 1724823565753,
     "user": {
      "displayName": "Andrea Baroni",
      "userId": "13443912204230378793"
     },
     "user_tz": -120
    },
    "id": "gRfFah2lQgy3",
    "outputId": "53b96851-cb29-4013-9937-fcbff4a292a0"
   },
   "outputs": [],
   "source": [
    "# Option 2 - Transforming field affected by outliers\n",
    "field_to_treat_log = f\"{field_to_treat}_log\"\n",
    "\n",
    "df_dropped[field_to_treat_log] = np.log1p(df_dropped[field_to_treat])\n",
    "print(f\"Maximum value of z score after taking log: {max(np.abs(stats.zscore(df_dropped[field_to_treat_log].dropna())))}\") # Added dropna() as some NAs returned (ideally to be fixed, for illustrative purposes only)"
   ]
  },
  {
   "cell_type": "code",
   "execution_count": null,
   "metadata": {
    "colab": {
     "base_uri": "https://localhost:8080/",
     "height": 600
    },
    "executionInfo": {
     "elapsed": 16,
     "status": "ok",
     "timestamp": 1724823565753,
     "user": {
      "displayName": "Andrea Baroni",
      "userId": "13443912204230378793"
     },
     "user_tz": -120
    },
    "id": "1JpirxjZQgy6",
    "outputId": "1d2398a1-e5cf-4563-b4f9-e36f17c989ad"
   },
   "outputs": [],
   "source": [
    "# Option 3 - Capping outliers\n",
    "field_to_treat_capped = f\"{field_to_treat}_capped\"\n",
    "\n",
    "# e.g.: Capping outliers at 95th percentile\n",
    "cap_value = df_dropped[field_to_treat].quantile(0.95)\n",
    "print(f\"Value to be applied as cap: {cap_value}\")\n",
    "\n",
    "df_dropped[field_to_treat_capped] = np.where(df_dropped[field_to_treat] > cap_value, cap_value, df_dropped[field_to_treat])\n",
    "\n",
    "print(f\"Maximum value of z score after capping: {max(np.abs(stats.zscore(df_dropped[field_to_treat_capped])))}\")\n",
    "\n",
    "field_to_plot = field_to_treat_capped\n",
    "\n",
    "# Plotting variable distribution with outliers\n",
    "plt.figure(figsize=(12, 6))\n",
    "sns.boxplot(x=df_dropped[field_to_plot])\n",
    "plt.title(f\"Distribution and outliers for {field_to_plot}\")\n",
    "plt.show()"
   ]
  },
  {
   "cell_type": "markdown",
   "metadata": {
    "id": "s9ivRrCOQgy6"
   },
   "source": [
    "Note: Capping will change the distribution, and as a result you may still see outliers."
   ]
  },
  {
   "cell_type": "markdown",
   "metadata": {
    "id": "r-1_yucyQgy7"
   },
   "source": [
    "#### Measuring Impact of Outlier Analysis\n",
    "\n",
    "Tracking the effectiveness of outlier analysis involves comparing model performance before and after handling outliers.\n",
    "\n",
    "\n",
    "\n",
    "### Conclusion\n",
    "\n",
    "By detecting and handling outliers, we can improve the quality of the dataset and the performance of predictive models. In this example, we used the Z-score method for outlier detection and demonstrated various techniques for handling outliers."
   ]
  },
  {
   "cell_type": "markdown",
   "metadata": {
    "id": "V12CRAapQgy7"
   },
   "source": [
    "### <span style=\"color:BLUE\"> **>>> DISCUSSION:**  </span>    \n",
    "- Can you think of benefits / limitations of above approaches?\n",
    "\n"
   ]
  },
  {
   "cell_type": "markdown",
   "metadata": {
    "id": "xZkDc1_lQgy7"
   },
   "source": [
    "6\\. Text data handling\n",
    "----------------------------------------\n",
    "\n",
    "Text data often requires cleaning, such as converting to lowercase, removing special characters, and trimming whitespace.\n",
    "\n",
    "Let us assume we needed to extract the loan ID from the url feature (not the case here, since this is already in the Id column)\n"
   ]
  },
  {
   "cell_type": "code",
   "execution_count": null,
   "metadata": {
    "colab": {
     "base_uri": "https://localhost:8080/",
     "height": 272
    },
    "executionInfo": {
     "elapsed": 486,
     "status": "ok",
     "timestamp": 1724823566228,
     "user": {
      "displayName": "Andrea Baroni",
      "userId": "13443912204230378793"
     },
     "user_tz": -120
    },
    "id": "NhZfibI5Qgy8",
    "outputId": "a05abe10-5373-4cf4-9510-dc319e968f4b"
   },
   "outputs": [],
   "source": [
    "df_dropped['url'].value_counts()[:5]"
   ]
  },
  {
   "cell_type": "code",
   "execution_count": null,
   "metadata": {
    "colab": {
     "base_uri": "https://localhost:8080/",
     "height": 206
    },
    "executionInfo": {
     "elapsed": 18,
     "status": "ok",
     "timestamp": 1724823566228,
     "user": {
      "displayName": "Andrea Baroni",
      "userId": "13443912204230378793"
     },
     "user_tz": -120
    },
    "id": "K_qjYQfnQgy-",
    "outputId": "5ee554e4-ac89-438a-8a4f-71c734c41d7d"
   },
   "outputs": [],
   "source": [
    "import re\n",
    "\n",
    "def extract_loan_id_from_url(mystring):\n",
    "    keyword = '='\n",
    "    before_keyword, keyword, after_keyword = mystring.partition(keyword)\n",
    "    return after_keyword\n",
    "\n",
    "df_dropped['loan_id_extracted'] = df_dropped['url'].apply(extract_loan_id_from_url)\n",
    "df_dropped[['id','url','loan_id_extracted']][:5]"
   ]
  },
  {
   "cell_type": "markdown",
   "metadata": {
    "id": "scQsZll4Qgy-"
   },
   "source": [
    "Let's check how employment title is populated:"
   ]
  },
  {
   "cell_type": "code",
   "execution_count": null,
   "metadata": {
    "colab": {
     "base_uri": "https://localhost:8080/",
     "height": 447
    },
    "executionInfo": {
     "elapsed": 17,
     "status": "ok",
     "timestamp": 1724823566228,
     "user": {
      "displayName": "Andrea Baroni",
      "userId": "13443912204230378793"
     },
     "user_tz": -120
    },
    "id": "4kRdarZtQgy_",
    "outputId": "0a701444-c95a-4126-becc-9705de19455f"
   },
   "outputs": [],
   "source": [
    "print(\"Number of unique titles:\", df_dropped['emp_title'].value_counts().shape[0])\n",
    "df_dropped['emp_title'].value_counts()[:10]"
   ]
  },
  {
   "cell_type": "markdown",
   "metadata": {
    "id": "x0zaW5wJQgzB"
   },
   "source": [
    "This is likely too granular for us.\n",
    "Let's start by cleaning this list up and make it consistent (e.g.: \"Manager\" and \"manager\")"
   ]
  },
  {
   "cell_type": "code",
   "execution_count": null,
   "metadata": {
    "colab": {
     "base_uri": "https://localhost:8080/",
     "height": 429
    },
    "executionInfo": {
     "elapsed": 11,
     "status": "ok",
     "timestamp": 1724823566228,
     "user": {
      "displayName": "Andrea Baroni",
      "userId": "13443912204230378793"
     },
     "user_tz": -120
    },
    "id": "eUwAOIcOQgzC",
    "outputId": "2970a28d-1851-49ae-c387-20a1181de7cf"
   },
   "outputs": [],
   "source": [
    "# Cleaning text data\n",
    "df_dropped['emp_title_clean'] = df_dropped['emp_title'].str.lower().str.strip()\n",
    "df_dropped['emp_title_clean'].value_counts()[:10]"
   ]
  },
  {
   "cell_type": "code",
   "execution_count": null,
   "metadata": {
    "colab": {
     "base_uri": "https://localhost:8080/",
     "height": 178
    },
    "executionInfo": {
     "elapsed": 10,
     "status": "ok",
     "timestamp": 1724823566228,
     "user": {
      "displayName": "Andrea Baroni",
      "userId": "13443912204230378793"
     },
     "user_tz": -120
    },
    "id": "Rmz_Kbz0QgzC",
    "outputId": "f2c449b2-78a0-410e-f1d7-4d39023661f9"
   },
   "outputs": [],
   "source": [
    "df_dropped['emp_title_manager'] = df_dropped['emp_title_clean'].str.contains(\"manager\")\n",
    "df_dropped['emp_title_manager'].value_counts()"
   ]
  },
  {
   "cell_type": "code",
   "execution_count": null,
   "metadata": {
    "colab": {
     "base_uri": "https://localhost:8080/",
     "height": 363
    },
    "executionInfo": {
     "elapsed": 404,
     "status": "ok",
     "timestamp": 1724823566623,
     "user": {
      "displayName": "Andrea Baroni",
      "userId": "13443912204230378793"
     },
     "user_tz": -120
    },
    "id": "22NUp9aUQgzD",
    "outputId": "09fc49f7-edca-4f5a-be9d-f0192cdc6a69"
   },
   "outputs": [],
   "source": [
    "selected_columns = df_dropped[[\"emp_title_manager\", \"emp_title_clean\"]]\n",
    "unique_combinations = selected_columns.drop_duplicates()\n",
    "unique_combinations.head(10)"
   ]
  },
  {
   "cell_type": "markdown",
   "metadata": {
    "id": "GApnDUtvQgzE"
   },
   "source": [
    "\n",
    "### Joining to external data"
   ]
  },
  {
   "cell_type": "markdown",
   "metadata": {
    "id": "aQlLCKGHQgzF"
   },
   "source": [
    "Even after this initial cleaning, the number of job families is still very granular for analysis (92!).\n",
    "The Lending Club business has created an internal mapping document provided (see `data/1-raw/emp_title_mapping.csv` file).\n",
    "\n",
    "We will now be joining our data to this reference file to be able to leverage the same categories adopted by the business."
   ]
  },
  {
   "cell_type": "code",
   "execution_count": null,
   "metadata": {
    "colab": {
     "base_uri": "https://localhost:8080/"
    },
    "executionInfo": {
     "elapsed": 5,
     "status": "ok",
     "timestamp": 1724823566624,
     "user": {
      "displayName": "Andrea Baroni",
      "userId": "13443912204230378793"
     },
     "user_tz": -120
    },
    "id": "C8zIAiHfQgzG",
    "outputId": "42ab4718-24c6-44bc-b631-f1228d46cc16"
   },
   "outputs": [],
   "source": [
    "ref_job_families = pd.read_csv(rf\"{path_python_material}/data/1-raw/emp_title_mapping.csv\")\n",
    "ref_job_families.head()\n",
    "\n",
    "print(f\"Number of existing job families: {ref_job_families.Category.nunique()}\")"
   ]
  },
  {
   "cell_type": "code",
   "execution_count": null,
   "metadata": {
    "executionInfo": {
     "elapsed": 345,
     "status": "ok",
     "timestamp": 1724823566965,
     "user": {
      "displayName": "Andrea Baroni",
      "userId": "13443912204230378793"
     },
     "user_tz": -120
    },
    "id": "NAukr3PzQgzH"
   },
   "outputs": [],
   "source": [
    "df_mapped = pd.merge(left = df_dropped\n",
    "                     , right = ref_job_families\n",
    "                     , left_on = \"emp_title_clean\"\n",
    "                     , right_on= \"Job Title\"\n",
    "                     , how = \"left\"\n",
    "                    )\n"
   ]
  },
  {
   "cell_type": "markdown",
   "metadata": {
    "id": "VtjYn7shQgzH"
   },
   "source": [
    "Let's perform a basic quality check by counting number of records before and after join:"
   ]
  },
  {
   "cell_type": "code",
   "execution_count": null,
   "metadata": {
    "colab": {
     "base_uri": "https://localhost:8080/"
    },
    "executionInfo": {
     "elapsed": 14,
     "status": "ok",
     "timestamp": 1724823566966,
     "user": {
      "displayName": "Andrea Baroni",
      "userId": "13443912204230378793"
     },
     "user_tz": -120
    },
    "id": "aV_vItyLQgzH",
    "outputId": "fa3cb194-60d3-45df-c299-8926dea762f2"
   },
   "outputs": [],
   "source": [
    "print(df_dropped.shape, df_mapped.shape)"
   ]
  },
  {
   "cell_type": "markdown",
   "metadata": {
    "id": "oyBmDlNiQgzI"
   },
   "source": [
    "The number of records has increased, which is a sign that something has gone wrong. **Can you think of a reason for it?**\n",
    "\n",
    "**Further reading**: (more on joins [here](https://www.atlassian.com/data/sql/sql-join-types-explained-visually) )"
   ]
  },
  {
   "cell_type": "code",
   "execution_count": null,
   "metadata": {
    "colab": {
     "base_uri": "https://localhost:8080/"
    },
    "executionInfo": {
     "elapsed": 13,
     "status": "ok",
     "timestamp": 1724823566966,
     "user": {
      "displayName": "Andrea Baroni",
      "userId": "13443912204230378793"
     },
     "user_tz": -120
    },
    "id": "luUoMym2eNNy",
    "outputId": "f782d709-02f0-4d14-a3e9-e1d75d49eed3"
   },
   "outputs": [],
   "source": [
    "# Let's check if there are any duplicates in the reference file:\n",
    "print(ref_job_families.shape)\n",
    "print(ref_job_families.drop_duplicates().shape)"
   ]
  },
  {
   "cell_type": "code",
   "execution_count": null,
   "metadata": {
    "colab": {
     "base_uri": "https://localhost:8080/",
     "height": 112
    },
    "executionInfo": {
     "elapsed": 11,
     "status": "ok",
     "timestamp": 1724823566966,
     "user": {
      "displayName": "Andrea Baroni",
      "userId": "13443912204230378793"
     },
     "user_tz": -120
    },
    "id": "G6bfP3pEeeEF",
    "outputId": "db39f1c0-2741-4174-cf7f-313ca31e2fe5"
   },
   "outputs": [],
   "source": [
    "# The problem can be seen by grouping the ref data by job title and category:\n",
    "row_count = ref_job_families.groupby([\"Category\", \"Job Title\"]).size().reset_index(name='count')\n",
    "row_count[row_count['count'] > 1]"
   ]
  },
  {
   "cell_type": "code",
   "execution_count": null,
   "metadata": {
    "colab": {
     "base_uri": "https://localhost:8080/",
     "height": 112
    },
    "executionInfo": {
     "elapsed": 10,
     "status": "ok",
     "timestamp": 1724823566966,
     "user": {
      "displayName": "Andrea Baroni",
      "userId": "13443912204230378793"
     },
     "user_tz": -120
    },
    "id": "uekk8QqbQgzJ",
    "outputId": "bbf5e43b-c6bd-4c96-a09b-a2f2ce512bac"
   },
   "outputs": [],
   "source": [
    "ref_job_families[ref_job_families[\"Job Title\"] == \"medical assistant\"]\n"
   ]
  },
  {
   "cell_type": "markdown",
   "metadata": {
    "id": "O-l1KPtmQgzK"
   },
   "source": [
    "There you go! There are duplicates in the reference files which we want to remove to ensure 1:1 mapping of job families to the reference file. Let's remove duplicates and join again:"
   ]
  },
  {
   "cell_type": "code",
   "execution_count": null,
   "metadata": {
    "colab": {
     "base_uri": "https://localhost:8080/"
    },
    "executionInfo": {
     "elapsed": 9,
     "status": "ok",
     "timestamp": 1724823566966,
     "user": {
      "displayName": "Andrea Baroni",
      "userId": "13443912204230378793"
     },
     "user_tz": -120
    },
    "id": "408-i1FlQgzK",
    "outputId": "4e28dee5-7d24-4ff0-d9aa-e80a594b2e30"
   },
   "outputs": [],
   "source": [
    "ref_job_families_deduped = ref_job_families.drop_duplicates()\n",
    "print(ref_job_families.shape, ref_job_families_deduped.shape)"
   ]
  },
  {
   "cell_type": "code",
   "execution_count": null,
   "metadata": {
    "executionInfo": {
     "elapsed": 479,
     "status": "ok",
     "timestamp": 1724823567439,
     "user": {
      "displayName": "Andrea Baroni",
      "userId": "13443912204230378793"
     },
     "user_tz": -120
    },
    "id": "zhzSrTq3QgzK"
   },
   "outputs": [],
   "source": [
    "df_mapped_deduped = pd.merge(left = df_dropped\n",
    "                     , right = ref_job_families_deduped\n",
    "                     , left_on = \"emp_title_clean\"\n",
    "                     , right_on= \"Job Title\"\n",
    "                     , how = \"left\"\n",
    "                    )\n"
   ]
  },
  {
   "cell_type": "code",
   "execution_count": null,
   "metadata": {
    "colab": {
     "base_uri": "https://localhost:8080/"
    },
    "executionInfo": {
     "elapsed": 4,
     "status": "ok",
     "timestamp": 1724823567440,
     "user": {
      "displayName": "Andrea Baroni",
      "userId": "13443912204230378793"
     },
     "user_tz": -120
    },
    "id": "G0zgcDupQgzL",
    "outputId": "754e0611-e32d-44c3-fee3-5293af889cee"
   },
   "outputs": [],
   "source": [
    "print(df_dropped.shape, df_mapped_deduped.shape)"
   ]
  },
  {
   "cell_type": "markdown",
   "metadata": {
    "id": "dh2FFMB6QgzM"
   },
   "source": [
    "The files are both of the same size now.\n",
    "\n",
    "This example showed the importance of checking for key data quality indicators like row count."
   ]
  },
  {
   "cell_type": "markdown",
   "metadata": {
    "id": "eQfM9FUPQgzO"
   },
   "source": [
    "### Data export\n",
    "Before moving to the last section on time series, let's export our data to the \"intermediate\" data folder."
   ]
  },
  {
   "cell_type": "code",
   "execution_count": null,
   "metadata": {
    "executionInfo": {
     "elapsed": 11732,
     "status": "ok",
     "timestamp": 1724823579169,
     "user": {
      "displayName": "Andrea Baroni",
      "userId": "13443912204230378793"
     },
     "user_tz": -120
    },
    "id": "wdbrju3OQgzP"
   },
   "outputs": [],
   "source": [
    "df_mapped_deduped.to_csv(rf\"{path_python_material}/data/2-intermediate/df_out_dsif2.csv\"\n",
    "                        , index = False)"
   ]
  },
  {
   "cell_type": "markdown",
   "metadata": {
    "id": "YrlcVUzbQgzY"
   },
   "source": [
    "## 7. Time series data"
   ]
  },
  {
   "cell_type": "markdown",
   "metadata": {
    "id": "XpGvfh-cQgzY"
   },
   "source": [
    "Working with time series data in Python and Pandas involves several key considerations to ensure data is properly handled and cleaned for analysis and modeling. Here are the main aspects to focus on:\n",
    "\n",
    "### Date Parsing\n",
    "Ensure that the date/time information is correctly parsed and set as the DataFrame index for efficient time-based operations.\n"
   ]
  },
  {
   "cell_type": "code",
   "execution_count": null,
   "metadata": {
    "colab": {
     "base_uri": "https://localhost:8080/"
    },
    "executionInfo": {
     "elapsed": 42,
     "status": "ok",
     "timestamp": 1724823579171,
     "user": {
      "displayName": "Andrea Baroni",
      "userId": "13443912204230378793"
     },
     "user_tz": -120
    },
    "id": "NJaaRj5uQgza",
    "outputId": "b9e2d894-1d51-4b05-c3fa-32b9892a002d"
   },
   "outputs": [],
   "source": [
    "# Extracting features from date column\n",
    "df_dropped['issue_d'] = pd.to_datetime(df_dropped['issue_d'])\n"
   ]
  },
  {
   "cell_type": "markdown",
   "metadata": {
    "id": "X3eRY7PEQgza"
   },
   "source": [
    "### Creation of time series\n",
    "A time series is just a pandas DataFrame or Series that has a time based index.\n",
    "Let's create a time series for illustrative purposes."
   ]
  },
  {
   "cell_type": "code",
   "execution_count": null,
   "metadata": {
    "colab": {
     "base_uri": "https://localhost:8080/",
     "height": 238
    },
    "executionInfo": {
     "elapsed": 38,
     "status": "ok",
     "timestamp": 1724823579171,
     "user": {
      "displayName": "Andrea Baroni",
      "userId": "13443912204230378793"
     },
     "user_tz": -120
    },
    "id": "g5B569aPQgzb",
    "outputId": "c55b9523-478a-46f1-8bcb-3b994097f458"
   },
   "outputs": [],
   "source": [
    "ts_loans = pd.DataFrame(df_dropped.groupby(\"issue_d\").count()[\"id\"],\n",
    "                       index = None)\n",
    "ts_loans.head()"
   ]
  },
  {
   "cell_type": "code",
   "execution_count": null,
   "metadata": {
    "colab": {
     "base_uri": "https://localhost:8080/"
    },
    "executionInfo": {
     "elapsed": 36,
     "status": "ok",
     "timestamp": 1724823579171,
     "user": {
      "displayName": "Andrea Baroni",
      "userId": "13443912204230378793"
     },
     "user_tz": -120
    },
    "id": "Mn1XEV1aQgzd",
    "outputId": "457b28fb-83fa-47ea-9382-5552215aca32"
   },
   "outputs": [],
   "source": [
    "# Let's check type of our index is as expected\n",
    "ts_loans.index"
   ]
  },
  {
   "cell_type": "markdown",
   "metadata": {
    "id": "uvgR99CTQgzd"
   },
   "source": [
    "### Missing values"
   ]
  },
  {
   "cell_type": "markdown",
   "metadata": {
    "id": "Wfb4Fxz6Qgze"
   },
   "source": [
    "Missing values in time series has a particular implication - as often we will be expecting or requiring continuous time series, where observations exist for each period (e.g. each day). This is not always the case, for instance when working with intermittent time series where observations may not occur in each period (e.g. for rare events like earthquake data or sales of a specific SKU).\n"
   ]
  },
  {
   "cell_type": "code",
   "execution_count": null,
   "metadata": {
    "colab": {
     "base_uri": "https://localhost:8080/",
     "height": 272
    },
    "executionInfo": {
     "elapsed": 551,
     "status": "ok",
     "timestamp": 1724823579689,
     "user": {
      "displayName": "Andrea Baroni",
      "userId": "13443912204230378793"
     },
     "user_tz": -120
    },
    "id": "YXmZbXdGQgze",
    "outputId": "0c10a589-f3ea-4352-9e96-0ad54e842434"
   },
   "outputs": [],
   "source": [
    "ts_loans.index.to_series().diff()[:5]"
   ]
  },
  {
   "cell_type": "markdown",
   "metadata": {
    "id": "rBicVyMZQgzf"
   },
   "source": [
    "When continuous data is expected, there are techniques to deal with missing values such as [interpolation](https://pandas.pydata.org/docs/reference/api/pandas.DataFrame.interpolate.html), forward-fill or backward-fill."
   ]
  },
  {
   "cell_type": "markdown",
   "metadata": {
    "id": "h-Qb3zntQgzf"
   },
   "source": [
    "### Resampling\n",
    "Resampling involves changing the frequency of the time series data, which can be useful for aggregating or downsampling data\n"
   ]
  },
  {
   "cell_type": "markdown",
   "metadata": {
    "id": "cbnAZkJrQgzf"
   },
   "source": [
    "From [pydata](https://pandas.pydata.org/pandas-docs/stable/user_guide/timeseries.html#resampling) :\n",
    "    \n",
    "    pandas has a simple, powerful, and efficient functionality for performing resampling operations during frequency conversion (e.g., converting secondly data into 5-minutely data). This is extremely common in, but not limited to, financial applications.\n",
    "    resample() is a time-based groupby, followed by a reduction method on each of its groups. See some cookbook examples for some advanced strategies."
   ]
  },
  {
   "cell_type": "code",
   "execution_count": null,
   "metadata": {
    "colab": {
     "base_uri": "https://localhost:8080/",
     "height": 520
    },
    "executionInfo": {
     "elapsed": 24,
     "status": "ok",
     "timestamp": 1724823579689,
     "user": {
      "displayName": "Andrea Baroni",
      "userId": "13443912204230378793"
     },
     "user_tz": -120
    },
    "id": "8Y_awkkqQgzg",
    "outputId": "f5f80cc9-6d05-4853-e20d-d99fa43e8ece"
   },
   "outputs": [],
   "source": [
    "# Resample to monthly frequency, using mean for aggregation\n",
    "ts_loans_yearly = ts_loans.resample('Y').sum() # Alternatively, use mean()\n",
    "\n",
    "ts_loans_yearly"
   ]
  },
  {
   "cell_type": "markdown",
   "metadata": {
    "id": "hkhZVBN-Qgzg"
   },
   "source": [
    "### Plotting time series"
   ]
  },
  {
   "cell_type": "code",
   "execution_count": null,
   "metadata": {
    "colab": {
     "base_uri": "https://localhost:8080/",
     "height": 632
    },
    "executionInfo": {
     "elapsed": 661,
     "status": "ok",
     "timestamp": 1724823580328,
     "user": {
      "displayName": "Andrea Baroni",
      "userId": "13443912204230378793"
     },
     "user_tz": -120
    },
    "id": "hOhXKDWaQgzg",
    "outputId": "edecf6ed-47c1-4cd2-c5ae-ff7490d13cca"
   },
   "outputs": [],
   "source": [
    "import seaborn as sns\n",
    "import matplotlib.pyplot as plt\n",
    "\n",
    "#Set the Seaborn style\n",
    "sns.set(style=\"darkgrid\")\n",
    "\n",
    "# Create the plot\n",
    "plt.figure(figsize=(14, 7))\n",
    "sns.lineplot(x=ts_loans_yearly.index, y=ts_loans_yearly['id'])\n",
    "\n",
    "# Adding titles and labels\n",
    "plt.title('Time Series Plot')\n",
    "plt.xlabel('Date')\n",
    "plt.ylabel('Value')\n",
    "\n",
    "# Show the plot\n",
    "plt.show()"
   ]
  },
  {
   "cell_type": "markdown",
   "metadata": {
    "id": "8KtsdFsHQgzi"
   },
   "source": [
    "### Feature engineering"
   ]
  },
  {
   "cell_type": "markdown",
   "metadata": {
    "id": "7cwyWBFnQgzi"
   },
   "source": [
    "This can be done both on our time series (e.g.: time-based features such as lags, rolling statistics, and date/time components), as well as on our original dataset.\n",
    "\n"
   ]
  },
  {
   "cell_type": "code",
   "execution_count": null,
   "metadata": {
    "executionInfo": {
     "elapsed": 23,
     "status": "ok",
     "timestamp": 1724823580328,
     "user": {
      "displayName": "Andrea Baroni",
      "userId": "13443912204230378793"
     },
     "user_tz": -120
    },
    "id": "Ucj3CdkgQgzj"
   },
   "outputs": [],
   "source": [
    "df_dropped['year'] = df_dropped['issue_d'].dt.year\n",
    "df_dropped['month'] = df_dropped['issue_d'].dt.month\n",
    "df_dropped['day'] = df_dropped['issue_d'].dt.day\n",
    "df_dropped['week'] = df_dropped['issue_d'].dt.isocalendar().week"
   ]
  },
  {
   "cell_type": "markdown",
   "metadata": {
    "id": "AqTQTSioQgzj"
   },
   "source": [
    "### Outliers and understanding time series components\n",
    "In the \"Time series modelling in Financial Services\" session in a few weeks time, we will be looking at how to handle outlier and also separate out the different components that make up time series data, such as trend and seasonality.\n",
    "\n"
   ]
  },
  {
   "cell_type": "markdown",
   "metadata": {
    "id": "dTAypJt2Qgzl"
   },
   "source": [
    "## Further reading\n",
    "\n",
    "- Pandas library: https://pandas.pydata.org/docs/getting_started/index.html#getting-started\n",
    "- SQL vs. pandas: https://pandas.pydata.org/docs/getting_started/comparison/comparison_with_sql.html\n",
    "- Pandas cheat sheet: https://www.datacamp.com/cheat-sheet/pandas-cheat-sheet-for-data-science-in-python\n",
    "- Other libraries for data quality: https://www.telm.ai/blog/8-essential-python-libraries-for-mastering-data-quality-checks/"
   ]
  },
  {
   "cell_type": "markdown",
   "metadata": {
    "id": "yXMShFHNQgzl"
   },
   "source": [
    "# End of session"
   ]
  },
  {
   "cell_type": "code",
   "execution_count": null,
   "metadata": {
    "colab": {
     "base_uri": "https://localhost:8080/",
     "height": 350
    },
    "executionInfo": {
     "elapsed": 22,
     "status": "ok",
     "timestamp": 1724823580328,
     "user": {
      "displayName": "Andrea Baroni",
      "userId": "13443912204230378793"
     },
     "user_tz": -120
    },
    "id": "T4dI1TQhQgzm",
    "outputId": "0ba65e17-b0f2-4f21-bdbb-3abf7766a137",
    "scrolled": true
   },
   "outputs": [],
   "source": [
    "from IPython.display import Image\n",
    "Image(filename=rf\"{path_python_material}/images/the-end.jpg\", width=500)\n"
   ]
  },
  {
   "cell_type": "markdown",
   "metadata": {
    "id": "bDKW6uPXQgzm"
   },
   "source": [
    "### <span style=\"color:BLUE\"> **>>> ADDITIONAL EXERCISES (optional):**  </span>\n",
    "Apply cleaning techniques to additional features and document your findings.\n"
   ]
  },
  {
   "cell_type": "code",
   "execution_count": null,
   "metadata": {
    "executionInfo": {
     "elapsed": 21,
     "status": "ok",
     "timestamp": 1724823580329,
     "user": {
      "displayName": "Andrea Baroni",
      "userId": "13443912204230378793"
     },
     "user_tz": -120
    },
    "id": "PmRN4d1jQgzn"
   },
   "outputs": [],
   "source": []
  }
 ],
 "metadata": {
  "colab": {
   "provenance": []
  },
  "kernelspec": {
   "display_name": "dsif",
   "language": "python",
   "name": "dsif"
  },
  "language_info": {
   "codemirror_mode": {
    "name": "ipython",
    "version": 3
   },
   "file_extension": ".py",
   "mimetype": "text/x-python",
   "name": "python",
   "nbconvert_exporter": "python",
   "pygments_lexer": "ipython3",
   "version": "3.11.9"
  }
 },
 "nbformat": 4,
 "nbformat_minor": 1
}
